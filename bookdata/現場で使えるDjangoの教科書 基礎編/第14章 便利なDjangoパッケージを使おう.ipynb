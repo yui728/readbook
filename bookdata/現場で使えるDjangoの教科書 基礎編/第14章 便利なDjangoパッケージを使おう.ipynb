{
 "cells": [
  {
   "cell_type": "markdown",
   "metadata": {},
   "source": [
    "# 第14章 便利なDjangoパッケージを使おう"
   ]
  },
  {
   "cell_type": "markdown",
   "metadata": {},
   "source": [
    "## 14.1 概要\n",
    "- Django パッケージ：<br />[Django Packages](https://djangopackages.org/)というサイトにまとめられた、Djangoの機能を拡張することに特化したパッケージ"
   ]
  },
  {
   "cell_type": "markdown",
   "metadata": {},
   "source": [
    "## 14.2 DRY系パッケージ\n",
    "共通化出来るようなよくある機能をDjangoパッケージとして開発したもの\n",
    "\n",
    "### 14.2.1 `django-allauth`（認証系機能の拡充）\n",
    "- ログイン周りの細かな機能を多数提供\n",
    "  - メールアドレスをベースにしたログイン\n",
    "  - パスワードを忘れた場合のフロー\n",
    "  - Google,Teitter,GitHubなどのソーシャルアカウントを利用したサードパーティ認証機能\n",
    "\n",
    "### 14.2.2 `django-tables2`（テーブル表示とページネーション）\n",
    "ページネーションを組み込んだテーブルを表示  \n",
    "`DJANGO_TABLES2_TEMPLATE`変数を調整することで、Bootstrap3/4,Semantic-UI向けのスタイルが施されたテーブルを出力できる\n",
    "\n",
    "#### ビュー側の実装例（`shop/views.py`）\n",
    "~~~python\n",
    "import django_tables2 as tables\n",
    "\n",
    "class BookTable(tables.Table):\n",
    "    \"\"\"本のテーブル表示クラス\"\"\"\n",
    "    class Meta:\n",
    "        model = Book\n",
    "        \n",
    "class BookListView(View):\n",
    "    def get(self, request, *args, **kwargs):\n",
    "        queryset = Book.objects.all()\n",
    "        # テーブルオブジェクトを作成\n",
    "        table = BookTable(queryset)\n",
    "        table.pagenate(page=request.GET.get('page', 1), per_page=10)\n",
    "        context = {\n",
    "            'table': table,\n",
    "        }\n",
    "        return render(request, 'shop/book_list.html', context)\n",
    "~~~\n",
    "\n",
    "#### テンプレート側の実装例（`shop/book_list.html`）\n",
    "~~~html\n",
    "{% load django_tables2 %}\n",
    "{% render_table table %}\n",
    "~~~\n",
    "\n",
    "#### ページネーションの別アプローチ\n",
    "1. ビューからはデータの一覧をJSON形式で渡す\n",
    "1. クライアント側（テーブル表示を管理するJS）に検索やソート、ページングなどをすべて任せる"
   ]
  },
  {
   "cell_type": "markdown",
   "metadata": {},
   "source": [
    "## 14.3 開発補助系パッケージ\n",
    "\n",
    "### 14.3.1 `django-debug-toolbar`（GUIによるデバッグ）\n",
    "- `SQLパネル`と呼ばれるデバッグ機能が強力\n",
    "  - runserver起動中に画面を操作しながら実際に発行されたクエリを`SQLパネル`を開いて確認することが出来る\n",
    "\n",
    "#### 利用にあたっての設定\n",
    "- 設定ファイル（settings.py）の`DEBUG`がTrue\n",
    "- `INSTALLED_APPS`に`django.contrib,staticfiles`が設定済み\n",
    "\n",
    "##### `config/setting.py`\n",
    "~~~python\n",
    "if DEBUG:\n",
    "    def show_toolbar(request):\n",
    "        return True\n",
    "    \n",
    "    INSTALLED_APPS += (\n",
    "        'debug_toolbar',\n",
    "    )\n",
    "    \n",
    "    MIDDLEWARE += (\n",
    "        'debug_toolber.middleware.DebugToolbarMiddleware',\n",
    "    )\n",
    "    \n",
    "    DEBUG_TOOLBAR_CONFIG = {\n",
    "        'SHOW_TOOLBAR_CALLBACK': show_toolbar,\n",
    "    }\n",
    "~~~\n",
    "\n",
    "##### `config/urls.py`\n",
    "~~~python\n",
    "if settings.DEBUG:\n",
    "    import debug_toolbar\n",
    "    \n",
    "    urlpatterns += [\n",
    "        path('__debug__/', include(debug_toolbar.urls)),\n",
    "    ]\n",
    "~~~"
   ]
  },
  {
   "cell_type": "markdown",
   "metadata": {},
   "source": [
    "## 14.4 まとめ\n",
    "- `Django Packages`は宝の山！（ただし玉石混淆なので注意）\n",
    "- お気に入りのDjangoパッケージを自分で見つけてみよう！"
   ]
  },
  {
   "cell_type": "code",
   "execution_count": null,
   "metadata": {},
   "outputs": [],
   "source": []
  }
 ],
 "metadata": {
  "kernelspec": {
   "display_name": "Python 3",
   "language": "python",
   "name": "python3"
  },
  "language_info": {
   "codemirror_mode": {
    "name": "ipython",
    "version": 3
   },
   "file_extension": ".py",
   "mimetype": "text/x-python",
   "name": "python",
   "nbconvert_exporter": "python",
   "pygments_lexer": "ipython3",
   "version": "3.7.4"
  }
 },
 "nbformat": 4,
 "nbformat_minor": 2
}
