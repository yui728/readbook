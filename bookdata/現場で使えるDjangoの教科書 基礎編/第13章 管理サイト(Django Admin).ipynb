{
 "cells": [
  {
   "cell_type": "markdown",
   "metadata": {},
   "source": [
    "# 第13章 管理サイト(Django Admin)"
   ]
  },
  {
   "cell_type": "markdown",
   "metadata": {},
   "source": [
    "## 13.1 概要\n",
    "\n",
    "### 管理サイト（Django Admin）\n",
    "- 開発時にちょっとした検証をしたいときや、テスト用のデータをデータベースに投入したり、<br />テストや本番運用フェーズでデータの一部の値を変更したいときに使用する\n",
    "- superuser（システム管理者）と特別な権限を与えられたユーザーのみが利用する想定になっている\n",
    "  - 専用のログイン画面が用意されている\n",
    "  - superuser：`is_superuser`属性がTrueになっているUserのこと\n",
    "    - 管理サイトで登録されたモデルのレコードを自由に追加・変更・削除することができる\n",
    "- 管理サイトのログイン画面のURLは、プロジェクトの初期設定では`/admin/`になっている\n",
    "  - `urls.py`で変更することが可能\n",
    "  \n",
    "*プロジェクト初回作成時の`urls.py`*\n",
    "~~~python\n",
    "from django.urls import path\n",
    "from django.contrib import admin\n",
    "\n",
    "urlpatterns = [\n",
    "    path(r'^admin/', admin.site.urls)\n",
    "]\n",
    "~~~\n",
    "\n",
    "#### 管理サイトの準備\n",
    "1. モデルクラスの準備\n",
    "1. `django.contrib.admin.site`という`AdminSite`クラスのグローバルオブジェクトにモデルを登録(register)する\n",
    "  - この処理は各アプリケーションの`admin.py`モジュールに書くのが通例"
   ]
  },
  {
   "cell_type": "markdown",
   "metadata": {},
   "source": [
    "## 13.2 モデルの登録方法\n",
    "\n",
    "### 作成されたモデルを管理サイトに登録する\n",
    "- 各アプリケーションディレクトリに配置された`admin.py`を編集する\n",
    "\n",
    "#### 例：`shop`アプリケーションの「出版社（Publisher）」「著者（Auther）」「本（Book）」モデルを登録する\n",
    "*shop/admin.py*\n",
    "~~~python\n",
    "from django.contrib import admin\n",
    "from .models import Publisher, Author, Book\n",
    "\n",
    "admin.site.register(Publisher)\n",
    "admin.site.register(Author)\n",
    "admin.site.register(Book)\n",
    "~~~"
   ]
  },
  {
   "cell_type": "markdown",
   "metadata": {},
   "source": [
    "## 13.3 一部機能のカスタマイズ方法\n",
    "- `ModelAdmin`という管理サイトのオプションを管理しているクラスを使うことで、管理サイトの一部の機能をカスタマイズすることができる\n",
    "\n",
    "### 例：`ModelAdmin`を使って管理サイトの表示フィールドを変更\n",
    "- 一覧画面で出力されるフィールドを「タイトル」「出版社」「価格」に変更\n",
    "- 一覧画面でのソート順を「価格」の高い順に変更\n",
    "- 編集画面に表示するフィールドを「タイトル」「出版社」「著者」「価格」のみに変更\n",
    "\n",
    "*shop/admin.py*\n",
    "~~~python\n",
    "from django.contrib import admin\n",
    "from django import forms\n",
    "\n",
    "from .models import Author, Book, Publisher\n",
    "\n",
    "class BookModelAdmin(admin.ModelAdmin):\n",
    "    # 一覧表示のフィールドを変更\n",
    "    list_display = ('title', 'publisher', 'price')\n",
    "    # 一覧表示のソート順を変更\n",
    "    ordering = ('-price')\n",
    "    # 編集画面のフィールドを変更\n",
    "    fields = ('title', 'publisher', 'authors', 'price',)\n",
    "    \n",
    "admin.site.register(Publisher)\n",
    "admin.site.register(Author)\n",
    "admin.site.register(Book, BookModelAdmin)\n",
    "~~~\n",
    "\n",
    "\n",
    "### 例：管理サイトに`ModelForm`をによるバリデーションを追加\n",
    "\n",
    "- レコードの保存時にタイトルに「Django」が含まれていなければエラーを表示する\n",
    "\n",
    "*shop/admin.py*\n",
    "\n",
    "~~~python\n",
    "from django.contrib import admin\n",
    "from django import forms\n",
    "\n",
    "from .models import Author, Book, Publisher\n",
    "\n",
    "class BookAdminForm(forms.ModelForm):\n",
    "    def clean_title(self):\n",
    "        value = self.cleaned_data['title']\n",
    "        if 'Django' no in value:\n",
    "            raise forms.ValidationError(\"タイトルには「Django」という文字を含めてください\")\n",
    "        return value\n",
    "    \n",
    "@admin.register(Book)\n",
    "class BookModelAdmin(admin.ModelAdmin):\n",
    "    list_display = ('title', 'publisher', 'price')\n",
    "    ordering = ('-price')\n",
    "    fields = ('title', 'publisher', 'authors', 'price',)\n",
    "    form = BookAdminForm\n",
    "    \n",
    "admin.site.register(Publisher)\n",
    "adimn.site.register(Author)\n",
    "~~~"
   ]
  },
  {
   "cell_type": "markdown",
   "metadata": {},
   "source": [
    "## 13.4 利用条件\n",
    "\n",
    "### 管理サイトを有効化する条件\n",
    "\n",
    "- 設定ファイルの`INSTALLED_APPS`に`django.contrib.admin`を追加\n",
    "- 同じく`INSTALLED_APPS`に以下を追加\n",
    "  - `django.contrib.auth`\n",
    "  - `django.contrib.contenttypes`\n",
    "  - `django.contrib.messages`\n",
    "  - `django.contrib.sessions`\n",
    "- 同じく`TEMPLATES.OPTIONS.context_processors`に以下を追加\n",
    "  - `django.contrib.auth.context_processors.auth`\n",
    "  - `django.contrib.messages.context_processors.messages`\n",
    "- 同じく`MIDDLEWARE`に以下を追加\n",
    "  - `django.contrib.auth.middleware.AuthenticationMiddleware`\n",
    "  - `django.contrib.messages.middleware.MessageMiddleware`\n",
    "- `URLconf`に管理サイトのURL設定を追加\n",
    "\n",
    "***プロジェクト初回作成時のデフォルト設定のままで、全ての条件が満たされているので、各アプリケーションディレクトリの`admin.py`にモデルの登録処理を書くだけで良い***\n",
    "\n",
    "### 管理サイトを利用できるユーザーの権限\n",
    "- `is_stuff`と`is_active`属性の値がTrueである\n",
    "  - 各モデルの「追加」「変更」「削除」のアクションを実行するためには、モデルごと・アクションごとの「ユーザーパーミッション」と呼ばれる権限が必要\n",
    "    - 例：shopアプリケーションのBookモデルのレコードを追加する権限をユーザーに付与する<br />`shop | book | Can add book`\n",
    "- `is_superuser`属性の値がTrueである\n",
    "  - 全てのユーザーパーミッションが付与されているとみなされる"
   ]
  },
  {
   "cell_type": "markdown",
   "metadata": {},
   "source": [
    "## 13.5 使い方\n",
    "### 事前に完了しておく作業\n",
    "- 管理サイトの有効化\n",
    "- データベースのマイグレーション\n",
    "- superuser（システム管理者）の作成\n",
    "  - `createsuperuser`コマンドで作成する\n",
    "    - `is_superuser`、`is_stuff`、`is_active`がいずれもTrueのユーザーが作成される\n",
    "- Webサーバの起動"
   ]
  },
  {
   "cell_type": "markdown",
   "metadata": {},
   "source": [
    "## 13.6 まとめ\n",
    "- 「管理サイト」と呼ばれる、開発者やシステム管理者向けのマスタメンテ機能が付属されている\n",
    "- 画面を使って、管理サイトに登録されたモデルのレコードを追加・変更・削除できる\n",
    "- 管理サイトを利用するには特別な権限が必要\n",
    "- 管理サイトに関わるコードは`admin.py`に書く"
   ]
  }
 ],
 "metadata": {
  "kernelspec": {
   "display_name": "Python 3",
   "language": "python",
   "name": "python3"
  },
  "language_info": {
   "codemirror_mode": {
    "name": "ipython",
    "version": 3
   },
   "file_extension": ".py",
   "mimetype": "text/x-python",
   "name": "python",
   "nbconvert_exporter": "python",
   "pygments_lexer": "ipython3",
   "version": "3.7.4"
  }
 },
 "nbformat": 4,
 "nbformat_minor": 2
}
