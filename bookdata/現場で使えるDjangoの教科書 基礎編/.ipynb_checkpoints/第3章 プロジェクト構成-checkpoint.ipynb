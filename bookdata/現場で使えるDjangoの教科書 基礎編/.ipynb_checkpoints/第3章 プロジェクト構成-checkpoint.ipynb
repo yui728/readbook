{
 "cells": [
  {
   "cell_type": "markdown",
   "metadata": {},
   "source": [
    "# 第3章 プロジェクト構成"
   ]
  },
  {
   "cell_type": "code",
   "execution_count": 2,
   "metadata": {},
   "outputs": [
    {
     "data": {
      "text/html": [
       "<style>\n",
       "table th {text-align: left!important;}\n",
       "table td {text-align: left!important;}\n",
       "</style>\n"
      ],
      "text/plain": [
       "<IPython.core.display.HTML object>"
      ]
     },
     "metadata": {},
     "output_type": "display_data"
    }
   ],
   "source": [
    "%%html\n",
    "<style>\n",
    "table th {text-align: left!important;}\n",
    "table td {text-align: left!important;}\n",
    "</style>"
   ]
  },
  {
   "cell_type": "markdown",
   "metadata": {},
   "source": [
    "## 3.1 プロジェクトとアプリケーション"
   ]
  },
  {
   "cell_type": "markdown",
   "metadata": {},
   "source": [
    "### プロジェクト\n",
    "- 一番外側の大きな「箱」"
   ]
  },
  {
   "cell_type": "markdown",
   "metadata": {},
   "source": [
    "### アプリケーション\n",
    "- 機能ごとに分割されたPythonパッケージ\n",
    "- 丸ごと入れ替えが可能なように作るのがコツ\n",
    "  - 他のアプリケーションとはなるべく依存しないように適度に分離させる"
   ]
  },
  {
   "cell_type": "markdown",
   "metadata": {},
   "source": [
    "### Djangoを使った開発\n",
    "- プロジェクトにアプリケーションを次々と追加する形で機能を組み入れていくのが基本スタイル"
   ]
  },
  {
   "cell_type": "markdown",
   "metadata": {},
   "source": [
    "## 3.2 django-admin.pyとmanage.py"
   ]
  },
  {
   "cell_type": "markdown",
   "metadata": {},
   "source": [
    "### django-admin.py\n",
    "- Djangoをインストールすると使用可能になるコマンドユーティリティ\n",
    "- 基本的にどこからでも利用可能\n",
    "- Djangoプロジェクトを新規作成するときに使用する"
   ]
  },
  {
   "cell_type": "markdown",
   "metadata": {},
   "source": [
    "### django-admin.pyを使用してDjangoプロジェクトを新規作成する\n",
    "> django-admin.py startproject <プロジェクト名> [<ディレクトリ>]"
   ]
  },
  {
   "cell_type": "markdown",
   "metadata": {},
   "source": [
    "### manage.py\n",
    "- startprojectでプロジェクトを作成した際に自動で作成されるモジュール\n",
    "- Djangoが提供する便利な管理コマンドが使用可能になる\n",
    "- 自作したDjango管理コードをmanage.py経由で実行できる\n",
    "- django-admin.pyをより使いやすくしたバージョン"
   ]
  },
  {
   "cell_type": "markdown",
   "metadata": {},
   "source": [
    "### 独自のDjango管理コマンド\n",
    "`django.code.management.base.BaseCommand`を継承することで独自のDjango管理コマンドを作成することが出来る  \n",
    "***その場合は、各アプリケーションディレクトリ内の`management/commands/`配下にモジュールを配置する必要がある***"
   ]
  },
  {
   "cell_type": "markdown",
   "metadata": {},
   "source": [
    "## 3.3 よくあるプロジェクト構成"
   ]
  },
  {
   "cell_type": "markdown",
   "metadata": {},
   "source": [
    "### 「mysite」プロジェクトの作成\n",
    "`django-admin.py startproject mysite`\n",
    "\n",
    "と実行すると、現在のディレクトリ直下に`mysite`というディレクトリ（ベースディレクトリ）が作成される\n",
    "\n",
    "\n",
    "#### ベースディレクトリ以下のファイル構成\n",
    "> mysite           （ベースディレクトリ）  \n",
    "> |-- manage.py  \n",
    "> \\`-- mysite      （設定ディレクトリ）  \n",
    ">　　　|-- \\_\\_init\\_\\_.py  \n",
    ">　　　|-- settings.py  \n",
    ">　　　|-- urls.py  \n",
    ">　　　\\`-- wsgi.py  \n",
    "\n",
    "\n",
    "ベースディレクトリのの下にプロジェクト名と同名のディレクトリがもう一段作成され、その中に「\\_\\_init\\_\\_.py」「settings.py」「urls.py」「wsgi.py」が自動で作成されている。  \n",
    "この特別なファイルの配置されるディレクトリを**設定ディレクトリ**、または**プロジェクトパッケージ**と呼ぶ。"
   ]
  },
  {
   "cell_type": "markdown",
   "metadata": {},
   "source": [
    "### 「accounts」アプリケーションの作成\n",
    "`cd mysite`  \n",
    "`python3 manage.py startapp accounts  `\n",
    "\n",
    "と実行すると、「accounts」というアプリケーション用のディレクトリ（アプリケーションディレクトリ）が作成され、その直下にいくつかのファイルが生成される。\n",
    "\n",
    "#### 「accounts」アプリケーション作成後のディレクトリ構成\n",
    "> .  \n",
    "> |-- accounts      （アプリーケーションディレクトリ）  \n",
    "> |　|-- \\_\\_init\\_\\_.py  \n",
    "> |　|-- admin.py  \n",
    "> |　|-- apps.py  \n",
    "> |　|-- migrations  \n",
    "> |　|　 \\`--\\_\\_init\\_\\_.py  \n",
    "> |　|-- models.py  \n",
    "> |　|-- test.py  \n",
    "> |　|-- views.py  \n",
    "> |-- manage.py  \n",
    "> \\`--mysite　　　　（設定ディレクトリ）  \n",
    ">  　|-- \\_\\_init\\_\\_.py  \n",
    ">  　|-- settings.py  \n",
    ">  　|-- urls.py  \n",
    ">  　|-- wsgi.py"
   ]
  },
  {
   "cell_type": "markdown",
   "metadata": {},
   "source": [
    "アプリケーションが追加されるごとに、それぞれのアプリケーションディレクトリの下にテンプレートファイルや静的ファイルが配置される形となる。  \n",
    "*テンプレートや静的ファイルがバラバラになっているのは、分かりづらかったり、デザイナーと分業するときに不便だ…… → [解決方法](#3.4-ベストプラクティス1：分かりやすいプロジェクト構成)*"
   ]
  },
  {
   "cell_type": "markdown",
   "metadata": {},
   "source": [
    "## 3.4 ベストプラクティス1：分かりやすいプロジェクト構成"
   ]
  },
  {
   "cell_type": "markdown",
   "metadata": {},
   "source": [
    "### 3.3で作成したプロジェクト構成の問題点\n",
    "- ベースディレクトリ名と設定ディレクトリ名が同じでややこしい\n",
    "- テンプレートと静的ファイルがアプリケーションごとにバラバラに配置されてしまう\n",
    "\n",
    "#### 解決方法：プロジェクト用のディレクトリを作成した後にプロジェクトを作成する\n",
    "「mysite」プロジェクトを作成する場合  \n",
    "`mkdir mysite`  \n",
    "`cd mysite/`  \n",
    "`django-admin.py startproject config .`  \n",
    "\n",
    "#### 作成後のディレクトリ構成\n",
    "> mysite  \n",
    "> |-- manage.py （ベースディレクトリ）  \n",
    "> \\`-- config    （設定ディレクトリ）  \n",
    "> 　　|-- \\_\\_init\\_\\_.py  \n",
    "> 　　|-- settings.py  \n",
    "> 　　|-- urls.py  \n",
    "> 　　\\`--wsgi.py  "
   ]
  },
  {
   "cell_type": "markdown",
   "metadata": {},
   "source": [
    " "
   ]
  },
  {
   "cell_type": "markdown",
   "metadata": {},
   "source": [
    "### startprojectで作成されるモジュール\n",
    "\n",
    "| モジュール | 説明 |\n",
    "| :----------: | ---- |\n",
    "| manage.py  | コマンドラインから様々な操作を行うためのプロジェクト管理コマンドユーティリティ |\n",
    "| <設定ディレクトリ>/settings.py | プロジェクト固有の設定を記述する設定ファイル |\n",
    "| <設定ディレクトリ>/urls.py | URLパターンとビューのマッチング情報などを記述するためのモジュール（「URLconf」と呼ばれる） |\n",
    "| <設定ディレクトリ>/wsgi.py | WSGI（ウィズギー）インターフェースに対応したWebサーバからDjangoサイトを起動するためのエンドポイントとなるモジュール |"
   ]
  },
  {
   "cell_type": "markdown",
   "metadata": {},
   "source": [
    "### startappで作成されるモジュール・ディレクトリ\n",
    "\n",
    "| モジュール・ディレクトリ | 説明 |\n",
    "| :----------------------- | :--- |\n",
    "| <アプリケーションディレクトリ>/admin.py | 管理サイトに関する記述をするためのモジュール |\n",
    "| <アプリケーションディレクトリ>/apps.py | アプリケーションを識別するための設定を記述 |\n",
    "| <アプリケーションディレクトリ>/migrations/ | マイングレーションファイルが作成されるディレクトリ |\n",
    "| <アプリケーションディレクトリ>/models.py | モデルの定義やビジネスロジックを記述 |\n",
    "| <アプリケーションディレクトリ>/tests.py | テストを記述するモジュール |\n",
    "| <アプリケーションディレクトリ>/views.py | ビューを記述するモジュール |"
   ]
  },
  {
   "cell_type": "markdown",
   "metadata": {},
   "source": [
    "## 3.5 まとめ\n",
    "- プロジェクトは大きな箱\n",
    "  - django-admin.pyの「startproject」コマンドでひな形を作成する\n",
    "- アプリケーションはまとまった機能を実現するためのPythonパッケージ\n",
    "  - manage.pyの「startapp」コマンドでひな形を作成する\n",
    "- プロジェクト内のモジュールは役割ごとに名前が慣例的に決められている\n",
    "  - プロジェクトやアプリケーション作成時に自動生成されるモジュールの名前はなるべく変更しないこと"
   ]
  }
 ],
 "metadata": {
  "kernelspec": {
   "display_name": "Python 3",
   "language": "python",
   "name": "python3"
  },
  "language_info": {
   "codemirror_mode": {
    "name": "ipython",
    "version": 3
   },
   "file_extension": ".py",
   "mimetype": "text/x-python",
   "name": "python",
   "nbconvert_exporter": "python",
   "pygments_lexer": "ipython3",
   "version": "3.7.3"
  }
 },
 "nbformat": 4,
 "nbformat_minor": 2
}
