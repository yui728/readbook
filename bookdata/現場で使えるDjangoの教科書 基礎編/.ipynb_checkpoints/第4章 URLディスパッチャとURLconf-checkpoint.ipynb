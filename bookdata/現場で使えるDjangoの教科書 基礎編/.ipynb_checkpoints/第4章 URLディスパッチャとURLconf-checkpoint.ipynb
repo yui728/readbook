{
 "cells": [
  {
   "cell_type": "markdown",
   "metadata": {},
   "source": [
    "# 第4章 URLディスパッチャとURLconf"
   ]
  },
  {
   "cell_type": "markdown",
   "metadata": {},
   "source": [
    "## 4.1 概要"
   ]
  },
  {
   "cell_type": "markdown",
   "metadata": {},
   "source": [
    "### URLconf\n",
    "- プロジェクト作成時に自動作成される`urls.py`は「URLconf」（URL設定）と呼ばれる\n",
    "  - URLのパターンとそれに紐づくビュー関数の設定をリスト形式で保持する"
   ]
  },
  {
   "cell_type": "markdown",
   "metadata": {},
   "source": [
    "### URLディスパッチャ\n",
    "URLconfに登録された設定に基づいて、リクエストされたURLにマッチしたビュー関数を探し出して呼び出す"
   ]
  },
  {
   "cell_type": "markdown",
   "metadata": {},
   "source": [
    "### 「正引き」と「逆引き」\n",
    "- 正引き\n",
    "  - URLからそれに対応するビュー関数を見つけ出す\n",
    "- 逆引き\n",
    "  - URLパターンに付けた名前からURLを取得する\n",
    "  - 以下のような場合に使用する\n",
    "    - ビューでリダイレクトさきのURLを取得する\n",
    "    - `<a>`タグのリンク先を取得する\n",
    "  - 逆引きを利用することで、ビューやテンプレートにURLをハードコーディングする必要がなくなる"
   ]
  },
  {
   "cell_type": "markdown",
   "metadata": {},
   "source": [
    "## 4.2 URLconfの書き方"
   ]
  },
  {
   "cell_type": "markdown",
   "metadata": {},
   "source": [
    "### urls.pyの記述\n",
    "- `urlpatterns`という名前のリスト型の変数にURLパターンとビュー関数のマッピングを追加する\n",
    "\n",
    "#### `urlpatterns`がURLディスパッチャに読み込まれるわけ\n",
    "設定ファイルの`config/settigns.py`内の設定`ROOT_URLCONF`URLconfのパスが設定されているため。\n",
    "> ROOT_URLCONF = 'config.urls'"
   ]
  },
  {
   "cell_type": "markdown",
   "metadata": {},
   "source": [
    "### 4.2.1 Django1.11以前の書き方\n",
    "- Django1.11以前では、URLのパターンとビュー関数をマッチングするために`django.conf.urls.url`関数を利用する\n",
    "  - 第1引数：URLの正規表現\n",
    "  - 第2引数：第1引数のURLパターンにマッチする、getメソッドやpostメソッドを持ったビュー関数\n",
    "  - URLからビュー関数を正引きする場合は、`urlpatterns`に追加されたURLのリストから一番先に見つかったビュー関数を呼び出す"
   ]
  },
  {
   "cell_type": "markdown",
   "metadata": {},
   "source": [
    "### 4.2.2 Django 2.0以降の書き方\n",
    "- Djandgo2.0以降では`django.url.path`関数が追加された\n",
    "  - 「パスコンバータ」という記法を使って、URLパターンをより簡単に記述することができる\n",
    "  - 「パスコンバータ」では`<>`で囲まれた部分がキャプチャされて、ビュー関数を呼び出すときのキーワード引数として使われる"
   ]
  },
  {
   "cell_type": "markdown",
   "metadata": {},
   "source": [
    "### 4.2.3 その他の注意点\n",
    "1. `/`について  \n",
    "  URLパターンの左端には`/`をつけない、右端にはつけると行った慣例がある（ただし、空文字の場合を除く）\n",
    "1. クエリ文字列について  \n",
    "  URLconfのURLパターンにはクエリ文字列に関する記述は不要  \n",
    "  クエリ文字列で指定されたパラメータは、ビュー側で取得する。\n",
    "1. `name`について\n",
    "  `url()`や`path()`の引数として指定している`name`は、URLを逆引きするためにURLのパターンにつける任意の名前。  \n",
    "  逆引きをするために、この`name`の値は同じ`urls.py`の中でユニークであることが望ましい。  \n",
    "  （もし、重複して登録している場合には後で登録しているものが優先される）  \n",
    "  URLを逆引きする際には、ビューでは`django.urls.reverse`関数を、テンプレートでは`url`タグを利用する。"
   ]
  },
  {
   "cell_type": "markdown",
   "metadata": {},
   "source": [
    "## 4.3 エラーハンドリング\n",
    "URLディスパッチャはビュー関数を呼び出すだけでなく、マッチするビュー関数が見つからなかった場合やビュー関数から伝播された例外を受け取った場合のエラーハンドリングもしてくれる。\n",
    "- アクセスされたURLがどのパターンにも合致しない  \n",
    "  `handler404`というビュー（正確には`handler404`という変数に設定されたビュー関数）を介して、`404.html`という名前のテンプレートを表示する"
   ]
  },
  {
   "cell_type": "markdown",
   "metadata": {},
   "source": [
    "## 4.4 ベストプラクティス2：アプリケーションごとに`urls.py`を配置する\n",
    "`startproject`実行時に生成される`urls.py`のみにURLパターンの設定を追加する  \n",
    "→ 設定がどんどん肥大化して管理が大変  \n",
    "→ `urls.py`を分割し、アプリケーションディレクトリごとに1つずつ`urls.py`を配置しよう！\n",
    "\n",
    "1. `urls.py`を分割する準備をする\n",
    "  `config/urls.py`内で、`django.conf.urls.include`関数を利用し、アプリケーションごとの`urls.py`を読み込むようにする\n",
    "1. アプリケーションごとの`urls.py`を記述する\n",
    "  `<アプリケーションディレクトリ>/urls.py`内に、そのアプリケーション内部でのURLパターンを設定する\n",
    "1. 注意点\n",
    "  - 各アプリケーション側の`urls.py`は`startapp`コマンドでは作成されない  \n",
    "    適宜作成する\n",
    "  - 変数`app_name`は必ず設定する  \n",
    "    設定する名前はアプリケーション名と同じにしておく  \n",
    "    `app_name`：アプリケーションごとの`urls.py`につけられる名前空間、`reverse`メソッドや`url`タグから「<名前空間名>:<名前空間内のname>」という文字列でURLを逆引き出来るようにするためのもの"
   ]
  },
  {
   "cell_type": "markdown",
   "metadata": {},
   "source": [
    "## 4.5 まとめ\n",
    "- URLディスパッチャはURLの仕分け係\n",
    "- URLconf（URL設定）は`urls.py`に書く\n",
    "  - 変数`urlpatterns`にURLパターンとそれに紐付けるビュー関数を追加する\n",
    "  - Django 1.11以前では`django.conf.urls.url`関数をつかう\n",
    "  - Django 2.0以降では`django.urls.path`関数をつかう\n",
    "- URLconfはアプリケーションごとに分割して配置する\n",
    "- URLを逆引きするために`name`や`app_name`は必ず設定しておく"
   ]
  }
 ],
 "metadata": {
  "kernelspec": {
   "display_name": "Python 3",
   "language": "python",
   "name": "python3"
  },
  "language_info": {
   "codemirror_mode": {
    "name": "ipython",
    "version": 3
   },
   "file_extension": ".py",
   "mimetype": "text/x-python",
   "name": "python",
   "nbconvert_exporter": "python",
   "pygments_lexer": "ipython3",
   "version": "3.7.3"
  }
 },
 "nbformat": 4,
 "nbformat_minor": 2
}
