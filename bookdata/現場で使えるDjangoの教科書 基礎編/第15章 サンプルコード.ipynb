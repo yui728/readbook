{
 "cells": [
  {
   "cell_type": "markdown",
   "metadata": {},
   "source": [
    "# 第15章 サンプルコード"
   ]
  },
  {
   "cell_type": "markdown",
   "metadata": {},
   "source": [
    "## 15.1 概要"
   ]
  },
  {
   "cell_type": "markdown",
   "metadata": {},
   "source": [
    "## 15.2 サンプルプロジェクトを動かすまでの最短ステップ\n",
    "### Django 2.1バージョン\n",
    "[https://github.com/akiyoko/django-book-mysite-sample/tree/django-book-v2](https://github.com/akiyoko/django-book-mysite-sample/tree/django-book-v2)\n",
    "\n",
    "### Django 1,11バージョン\n",
    "[https://github.com/akiyoko/django-book-mysite-sample/tree/django-book-v1](https://github.com/akiyoko/django-book-mysite-sample/tree/django-book-v1)\n",
    "\n",
    "### 1. サンプルコードのダウンロード\n",
    "- GitHubからサンプルコードをダウンロードする\n",
    "  - `git clone`コマンドを用いた方法\n",
    "    ~~~\n",
    "    git clone -b django-book-v2 https://github.com/akiyoko/sjango-musite-sample.git mysite-sample\n",
    "    ~~~\n",
    "  - Gitが使用できない場合の、ZIPを用いた方法\n",
    "    - サンプルコードのURLにアクセスする\n",
    "    - `Clone or download`ボタンをクリックする\n",
    "    - `Download ZIP`をクリックする\n",
    "    \n",
    "### 2. サンプルプロジェクト用Dockerイメージの作成\n",
    "1. クローンしたディレクトリに移動する\n",
    "1. ディレクトリ直下にあるDockerfileからDockerイメージを作成する\n",
    "  ~~~\n",
    "  cd mysite-sample/\n",
    "  docker build -t mysite-sample:1.0 .\n",
    "  ~~~\n",
    "\n",
    "\n",
    "### 3. Dockerコンテナの実行\n",
    "1. 作成したイメージを使ってDockerコンテナを実行し、bashを起動する\n",
    "   ~~~\n",
    "   docker run --rm -it -p 8000:8000 -v $(pwd):/root/mysite --name mysite-sample mysite-sample:1.0 /bin/bash\n",
    "   ~~~\n",
    "   \n",
    "1. Dockerコンテナを停止する\n",
    "  ~~~\n",
    "  docker stop mysite-sample\n",
    "  ~~~\n",
    "  \n",
    "### 4. 動作確認\n",
    "1. ブラウザから`http:///localhost:8000`または`http://127.0.0.1:8000`にアクセスする\n",
    "  - ログイン画面が表示されていればOK\n",
    "1. ログインする\n",
    "  - ユーザー名：`admin`、パスワード：`adminpass`のsuperuserでログインできる"
   ]
  },
  {
   "cell_type": "markdown",
   "metadata": {},
   "source": [
    "## 15.3 まとめ\n",
    "- サンプルコードは本書の知識でほぼ理解できるはず\n",
    "  - もし分からない部分があれば、それぞれの章に戻ってもう一度読み直そう"
   ]
  }
 ],
 "metadata": {
  "kernelspec": {
   "display_name": "Python 3",
   "language": "python",
   "name": "python3"
  },
  "language_info": {
   "codemirror_mode": {
    "name": "ipython",
    "version": 3
   },
   "file_extension": ".py",
   "mimetype": "text/x-python",
   "name": "python",
   "nbconvert_exporter": "python",
   "pygments_lexer": "ipython3",
   "version": "3.7.4"
  }
 },
 "nbformat": 4,
 "nbformat_minor": 2
}
