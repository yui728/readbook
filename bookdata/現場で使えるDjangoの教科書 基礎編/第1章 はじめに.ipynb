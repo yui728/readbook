{
 "cells": [
  {
   "cell_type": "markdown",
   "metadata": {},
   "source": [
    "# 第1章 はじめに"
   ]
  },
  {
   "cell_type": "markdown",
   "metadata": {},
   "source": [
    "## 1.1 Djangoとは？\n",
    "\n",
    "\n",
    "### Django（ジャンゴ）\n",
    "- PythonでWebアプリケーションを作成するためのフレームワーク\n",
    "- 最大の特徴は、Webアプリケーションを作成するために必要な部品が何でも揃っていること（＝「フルスタック」）\n",
    "- ビジネス領域での利用実績が多い\n",
    "  - 海外\n",
    "     - Instagram\n",
    "     - edX：世界最大級のオンライン学習プラットフォーム\n",
    "  - 国内\n",
    "    - 日経電子版\n",
    "    - connpass\n",
    "    - PyQ\n",
    "- 中～大規模なWebアプリケーションを作成することを主眼としている\n",
    "  - 小規模なWebアプリケーションやバックエンドのREST APIサーバに利用することも可能\n",
    "    - REST APIサーバの場合は「django-rest-framework」というDjangoパッケージがよく利用される\n",
    "- ユーザー認証まわりの機能が充実している\n",
    "- 高速開発が出来る\n",
    "  - ひな形作成コマンドの提供\n",
    "  - よく使う汎用クラスの提供\n",
    "- 機能拡張が容易\n",
    "  - 豊富なDjangoパッケージ\n",
    "- ユーザー認証まわりの機能が標準装備\n",
    "  - ユーザーモデル\n",
    "  - グループ\n",
    "  - 権限\n",
    "  - ユーザーセッション\n",
    "- データベースの構築とスキーマ変更が容易\n",
    "  - マイグレーション機能\n",
    "- データベースのレコードのCRUDがGUIで操作できる\n",
    "  - 管理サイト機能\n",
    "- 様々な運用管理系コマンドの提供\n",
    "- セキュリティ対策が万全\n",
    "  - 以下の脆弱性に対策\n",
    "    - XSS\n",
    "    - CSRF\n",
    "    - SQLインジェクション\n",
    "    - クリックジャッキング\n",
    "  - TLS/HTTPSサポート\n",
    "  - パスワード暗号化\n",
    "- 国際化対応\n",
    "  - 多言語翻訳が容易\n",
    "- キャッシュ機能の利用が容易\n",
    "  - アプリケーションの高速化\n",
    "- 地理空間データを扱える\n",
    "  - GeoDjango機能"
   ]
  },
  {
   "cell_type": "markdown",
   "metadata": {},
   "source": [
    "## 1.2 本書について\n",
    "\n",
    "\n",
    "### 1.2.2 対象読者\n",
    "- Pythonの文法はある程度分かるけど、Djangoは初めてという初心者\n",
    "- Djangoを初めたけど今いちコツを掴めない初級者\n",
    "- Djangoのベストプラクティスを学びたい中級者\n",
    "- Djangoの日本語書籍がなくて困っている人\n",
    "- Djangoで一度挫折したことがある人\n",
    "\n",
    "\n",
    "### 1.2.3 本書の進め方\n",
    "#### 第2章～第3章\n",
    "Djangoの全体像や重要な概念の説明\n",
    "#### 第4章以降\n",
    "それぞれの構成要素の説明をしながら、筆者の知見や経験から得たベストプラクティスについても紹介"
   ]
  },
  {
   "cell_type": "markdown",
   "metadata": {},
   "source": [
    "## 1.3 動作環境と各種バージョン\n",
    "\n",
    "### 1.3.1～1.3.3 省略\n",
    "\n",
    "### 1.3.4 Django2.1（& 1.11 LTS）\n",
    "- Django 2.1\n",
    "  - 現時点の最新バージョン\n",
    "  - Python 3.5～3.7に対応\n",
    "- Django 1.11 LTS\n",
    "  - Django1系の最終バージョン\n",
    "  - Python 2.7～3.6に対応\n",
    "  - LTS：コミニティからのセキュリティパッチなどが比較的長くサポートされる特別バージョン\n",
    "  - 少なくとも2020年4月までは公式サポートが継続される"
   ]
  },
  {
   "cell_type": "code",
   "execution_count": null,
   "metadata": {},
   "outputs": [],
   "source": []
  }
 ],
 "metadata": {
  "kernelspec": {
   "display_name": "Python 3",
   "language": "python",
   "name": "python3"
  },
  "language_info": {
   "codemirror_mode": {
    "name": "ipython",
    "version": 3
   },
   "file_extension": ".py",
   "mimetype": "text/x-python",
   "name": "python",
   "nbconvert_exporter": "python",
   "pygments_lexer": "ipython3",
   "version": "3.7.3"
  }
 },
 "nbformat": 4,
 "nbformat_minor": 2
}
