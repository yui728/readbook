{
 "cells": [
  {
   "cell_type": "markdown",
   "metadata": {},
   "source": [
    "# 第12章 開発用Webサーバ(runserver)を起動する"
   ]
  },
  {
   "cell_type": "markdown",
   "metadata": {},
   "source": [
    "## 12.1 概要\n",
    "\n",
    "### runserver\n",
    "- Djangoに同梱された軽量のWebサーバ\n",
    "- 開発時にのみ使われることを想定している\n",
    "  - 本番環境ではGunicornやApache（mod_wsgi）などのWSGIアプリケーションに対応したWebサーバを利用するのが一般的\n",
    "\n",
    "#### 特徴\n",
    "- 自動リロード機能\n",
    "- 静的ファイルの自動配信機能"
   ]
  },
  {
   "cell_type": "markdown",
   "metadata": {},
   "source": [
    "## 12.2 runserverコマンドについて\n",
    "### runserverの実行\n",
    "~~~\n",
    "python3 manage.py runserver [<IPアドレス>:<ポート番号>]\n",
    "~~~\n",
    "\n",
    "- IPアドレスとポート番号を省略した場合は「127.0.0.1」のループバックアドレスとデフォルトポート番号の「8000」番で起動する\n",
    "- Docker等から起動する場合はIPアドレス「0.0.0.0」を指定して起動する"
   ]
  },
  {
   "cell_type": "markdown",
   "metadata": {},
   "source": [
    "## 12.3 まとめ\n",
    "- runserverは開発用の軽量Webサーバ。本番では使わない\n",
    "  - 基本は「DEBUG」がTrueの場合に起動される\n",
    "- runserverはコードの変更を検知して自動で再起動してくれる\n",
    "- runserverは静的ファイルの自動配信をしてくれる\n",
    "  - 事前に`collectstatic`コマンドを実行する必要なし"
   ]
  }
 ],
 "metadata": {
  "kernelspec": {
   "display_name": "Python 3",
   "language": "python",
   "name": "python3"
  },
  "language_info": {
   "codemirror_mode": {
    "name": "ipython",
    "version": 3
   },
   "file_extension": ".py",
   "mimetype": "text/x-python",
   "name": "python",
   "nbconvert_exporter": "python",
   "pygments_lexer": "ipython3",
   "version": "3.7.4"
  }
 },
 "nbformat": 4,
 "nbformat_minor": 2
}
