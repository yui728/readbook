{
 "cells": [
  {
   "cell_type": "markdown",
   "metadata": {},
   "source": [
    "# 第5章 投げたコインの正体は"
   ]
  },
  {
   "cell_type": "markdown",
   "metadata": {},
   "source": [
    "## 5.1 和の期待値は、期待値の和"
   ]
  },
  {
   "cell_type": "markdown",
   "metadata": {},
   "source": [
    "### ミルカの指摘\n",
    "- 一般化すると、**二項分布**$B(n,p)$の期待値は$np$で、分散は$np(1-p)$。\n",
    "  - コインを$10$回投げるときの表の出る回数の場合、$n = 10$、$p = \\frac{1}{2}$だから、$B(10,\\frac{1}{2})$となる。<br />$\\therefore\\,$期待値は$np = 10 \\cdot \\frac{1}{2} = 5\\,$、分散は$np(1-p) = 5 \\cdot (1 - \\frac{1}{2}) = 5 \\cdot \\frac{1}{2} = 2.5\\,$、標準偏差は$\\sqrt{\\nu} = \\sqrt{2.5}\\,$となる。\n",
    "- ***《和の期待値は、期待値の和》***\n",
    "  - コインを$10$回投げたときの表が出る回数の場合、《表が出る期待値》は$\\frac{1}{2}$、回数は$10$回。<br />$\\therefore\\,\\frac{1}{2}$を$10$回分足し合わせれば良いので、$\\underbrace{\\frac{1}{2} + \\frac{1}{2} + \\frac{1}{2} + \\frac{1}{2} + \\frac{1}{2} + \\frac{1}{2} + \\frac{1}{2} + \\frac{1}{2} + \\frac{1}{2} + \\frac{1}{2}}_{10個分} = \\frac{10}{2} = 5$"
   ]
  },
  {
   "cell_type": "markdown",
   "metadata": {},
   "source": [
    "## 5.2 期待値の線型性"
   ]
  },
  {
   "cell_type": "markdown",
   "metadata": {},
   "source": [
    "### 確率と試行と事象\n",
    "- 《コインを投げる》ような行為を**試行**と呼ぶ\n",
    "  - 何を一つの試行として考えているのかを確かめることが大事\n",
    "- 試行が行われた時に起きるできごとを**事象**または**イベント**と呼ぶ\n",
    "- それより細かく分割できない事象を**根元事象**と呼ぶ\n",
    "- 根元事象に対して値が定まる変数を**確率変数**という\n",
    "\n",
    "*《コインを1回投げる》*ということで見てみると……\n",
    "- 試行：コインを1回投げること\n",
    "- 事象：コインを投げて表か裏が出ること\n",
    "- 根元事象：コインの表が出ること、コインの裏が出ること\n",
    "\n",
    "《コインを1回投げる》ことについて、《表が出る回数》を表す確率変数を$X$とした場合、根元事象に対する確率変数は以下の表のようになる。\n",
    "\n",
    "| 根元事象 | 《表が出る回数》を表す<br />確率変数$X$の値 |\n",
    "| -------- | ------------------------------------- |\n",
    "| 《表が出る》 | 1 |\n",
    "| 《裏が出る》 | 0 |\n",
    "\n",
    "上の表は以下のように書くこともできる\n",
    "\n",
    "$\n",
    "\\begin{cases}\n",
    "X(《表が出る》) = 1 \\\\\n",
    "X(《裏が出る》) = 0\n",
    "\\end{cases}\n",
    "$\n",
    "\n",
    "だから、確率変数は《根元事象に対して値が定まる<span style='text-decoration:underline;'>関数</span>》とも言える"
   ]
  },
  {
   "cell_type": "markdown",
   "metadata": {},
   "source": [
    "### 期待値\n",
    "- 確率変数は根元事象ごとに様々な値を取る。\n",
    "  - 例：コインは投げるたびに表か裏が出る。\n",
    "- 確率変数$X$が取る平均的な値を、その確率変数$X$の**期待値**と呼び、$E[X]$と表す。\n",
    "\n",
    "\n",
    "#### 期待値の定義\n",
    "確率変数$X$の期待値$E[X]$を、\n",
    "\n",
    "$\n",
    "E[X] = \\sum_{}^{}k \\cdot P_r(X = k)\n",
    "$\n",
    "\n",
    "で定義する。ただし、$\\sum_{}^{}$は確率変数$X$が取りうるすべての値$k$についての和を取ることにする。\n",
    "\n",
    "#### $E[X]$ってなに？\n",
    "- $E[X]$の$\"E\"$は《期待値》──\"<span style='text-decoration:underline;'>E</span>xpected Value\"の頭文字のこと。\n",
    "\n",
    "#### $P_r(X=k)$ってなに？\n",
    "- $Pr(X=k)$は、《確率変数$X$の値が$k$に等しくなる確率》を表す。\n",
    "- $Pr$は《確率》──\"<span style='text-decoration:underline;'>Pr</span>obability\"の頭文字のこと。"
   ]
  },
  {
   "cell_type": "markdown",
   "metadata": {},
   "source": [
    "### 《コインを1回投げる》場合の期待値\n",
    "《コインを1回投げる》という試行で、《表が出る回数》を表す確率変数を$X$とすると、$X$の期待値は、\n",
    "\n",
    "$\n",
    "E[X] = \\sum_{k=0}^{1}k \\cdot Pr(X = k)\n",
    "\\\\ = 0 \\cdot \\underbrace{Pr(X = 0)}_{裏が出る確率} + 1 \\cdot \\underbrace{Pr(X = 1)}_{表が出る確率}\n",
    "$"
   ]
  },
  {
   "cell_type": "markdown",
   "metadata": {},
   "source": [
    "### 期待値の線型性\n",
    "期待値の線型性とは、期待値が持つ性質の一つで、以下のような性質となる。\n",
    "\n",
    "#### 期待値の線型性の性質\n",
    "$X, Y$を確率変数とし、$a$を定数とすると、以下が成り立つ。\n",
    "\n",
    "***《和の期待値は、期待値の和》***\n",
    "\n",
    "$E[X + Y] = E[X] + E[Y]$\n",
    "\n",
    "***《定数倍の期待値は、期待値の定数倍》***\n",
    "\n",
    "$E[aX] = aE[X]$"
   ]
  },
  {
   "cell_type": "markdown",
   "metadata": {},
   "source": [
    "### 確率を$p$として$n$回の試行を行うときの期待値の求め方\n",
    "確率変数を$X$とおくと、\n",
    "\n",
    "$\n",
    "E[X] = E[X_1 + X_2 + \\dots + X_n] \\quad X = X_1 + X_2 + \\dots + X_nより\n",
    "\\\\ = E[X_1] + E[X_2] + \\dots + E[X_n] \\quad 期待値の線型性より\n",
    "\\\\ = \\underbrace{p + p + \\dots + p}_{n個}\n",
    "\\\\ = np\n",
    "$"
   ]
  },
  {
   "cell_type": "markdown",
   "metadata": {},
   "source": [
    "## 5.3 二項分布"
   ]
  },
  {
   "cell_type": "markdown",
   "metadata": {},
   "source": [
    "### 二項分布\n",
    "- **二項分布**とは、確率分布の一種。<br />確率$p$で表が出るコインを$n$回投げた時に、《表が出る回数》を表す確率変数が従う確率分布。毎回のコイン投げは独立とする。\n",
    "- **独立**とは、過去の事象に現在の事象が影響を受けないこと。<br />例：コイン投げで、過去に出た表と裏の結果に、次のコイン投げが影響を受けない。"
   ]
  },
  {
   "cell_type": "markdown",
   "metadata": {},
   "source": [
    "### 二項分布のグラフ"
   ]
  },
  {
   "cell_type": "code",
   "execution_count": 2,
   "metadata": {},
   "outputs": [],
   "source": [
    "%matplotlib inline"
   ]
  },
  {
   "cell_type": "code",
   "execution_count": 3,
   "metadata": {},
   "outputs": [
    {
     "data": {
      "image/png": "[encoded data removed]",
      "text/plain": [
       "<Figure size 432x288 with 1 Axes>"
      ]
     },
     "metadata": {
      "needs_background": "light"
     },
     "output_type": "display_data"
    }
   ],
   "source": [
    "import matplotlib.pyplot as plt\n",
    "import numpy as np\n",
    "from scipy.stats import binom\n",
    "\n",
    "p = 0.5 # 確率\n",
    "N = 10 # 試行回数\n",
    "k = np.arange(N + 1) # 表が出る回数\n",
    "\n",
    "fig, ax = plt.subplots()\n",
    "ax.set_title('フェアなコインを10回投げたときの確率分布')\n",
    "ax.set_ylabel('確率')\n",
    "ax.set_xlabel('回数')\n",
    "ax.set_xticks(k)\n",
    "ax.set_yticks([])\n",
    "ax.bar(k, binom.pmf(k, N, p), edgecolor='black', width = 1)\n",
    "\n",
    "plt.show()"
   ]
  },
  {
   "cell_type": "code",
   "execution_count": 31,
   "metadata": {},
   "outputs": [
    {
     "data": {
      "image/png": "[encoded data removed]",
      "text/plain": [
       "<Figure size 432x288 with 1 Axes>"
      ]
     },
     "metadata": {
      "needs_background": "light"
     },
     "output_type": "display_data"
    }
   ],
   "source": [
    "import matplotlib.pyplot as plt\n",
    "import numpy as np\n",
    "from scipy.stats import binom\n",
    "\n",
    "p = 0.5 # 確率\n",
    "N = 10 # 試行回数\n",
    "k = np.arange(N + 1) # 表が出る回数\n",
    "\n",
    "fig, ax = plt.subplots()\n",
    "ax.set_title('フェアなコインを10回投げたとき、表が出る回数が4,5,6のいずれかになる確率')\n",
    "ax.set_ylabel('確率')\n",
    "ax.set_xlabel('回数')\n",
    "ax.set_xticks(k)\n",
    "ax.set_yticks([])\n",
    "bar_list = ax.bar(k, binom.pmf(k, N, p), edgecolor='black', width = 1, color = 'white')\n",
    "for bar in bar_list[4:7] :\n",
    "    bar.set_color(\"skyblue\")\n",
    "    bar.set_edgecolor(\"black\")\n",
    "    bar.set_linewidth(1)\n",
    "\n",
    "plt.show()"
   ]
  },
  {
   "cell_type": "markdown",
   "metadata": {},
   "source": [
    "### 組み合わせの数と二項分布の表\n",
    "\n",
    "<p style=\"text-align:center; font-weight:bold;\">組み合わせの数</p>\n",
    "\n",
    "| $k$ | 0  | 1  | 2  | 3  | 4  | 5  | 6  | 6  | 7  | 8  | 9  | 10 |\n",
    "| --- | -- | -- | -- | -- | -- | -- | -- | -- | -- | -- | -- | -- |\n",
    "| $\\binom{10}{k}$ | 1 | 10 | 45 | 120 | 210 | 252 | 210 | 120 | 45 | 10 | 1 |\n"
   ]
  },
  {
   "cell_type": "markdown",
   "metadata": {},
   "source": [
    "<p style=\"text-align:center; font-weight:bold;\">二項分布$B(10, \\frac{1}{2})$</p>\n",
    "\n",
    "| $k$ | 0  | 1  | 2  | 3  | 4  | 5  | 6  | 6  | 7  | 8  | 9  | 10 |\n",
    "| --- | -- | -- | -- | -- | -- | -- | -- | -- | -- | -- | -- | -- |\n",
    "| $\\binom{10}{k}$ | $\\frac{1}{1024}$ | $\\frac{10}{1024}$ | $\\frac{45}{1024}$ | $\\frac{120}{1024}$ | $\\frac{210}{1024}$ | $\\frac{252}{1024}$ | $\\frac{210}{1024}$ | $\\frac{120}{1024}$ | $\\frac{45}{1024}$ | $\\frac{10}{1024}$ | $\\frac{1}{1024}$ |\n"
   ]
  },
  {
   "cell_type": "code",
   "execution_count": null,
   "metadata": {},
   "outputs": [],
   "source": []
  }
 ],
 "metadata": {
  "kernelspec": {
   "display_name": "Python 3",
   "language": "python",
   "name": "python3"
  },
  "language_info": {
   "codemirror_mode": {
    "name": "ipython",
    "version": 3
   },
   "file_extension": ".py",
   "mimetype": "text/x-python",
   "name": "python",
   "nbconvert_exporter": "python",
   "pygments_lexer": "ipython3",
   "version": "3.7.2"
  }
 },
 "nbformat": 4,
 "nbformat_minor": 2
}
