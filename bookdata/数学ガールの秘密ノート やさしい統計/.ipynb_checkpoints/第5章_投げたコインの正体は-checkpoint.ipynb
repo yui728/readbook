{
 "cells": [
  {
   "cell_type": "markdown",
   "metadata": {},
   "source": [
    "# 第5章 投げたコインの正体は"
   ]
  },
  {
   "cell_type": "markdown",
   "metadata": {},
   "source": [
    "## 5.1 和の期待値は、期待値の和"
   ]
  },
  {
   "cell_type": "markdown",
   "metadata": {},
   "source": [
    "### ミルカの指摘\n",
    "- 一般化すると、**二項分布**$B(n,p)$の期待値は$np$で、分散は$np(1-p)$。\n",
    "  - コインを$10$回投げるときの表の出る回数の場合、$n = 10$、$p = \\frac{1}{2}$だから、$B(10,\\frac{1}{2})$となる。<br />$\\therefore\\,$期待値は$np = 10 \\cdot \\frac{1}{2} = 5\\,$、分散は$np(1-p) = 5 \\cdot (1 - \\frac{1}{2}) = 5 \\cdot \\frac{1}{2} = 2.5\\,$、標準偏差は$\\sqrt{\\nu} = \\sqrt{2.5}\\,$となる。\n",
    "- ***《和の期待値は、期待値の和》***\n",
    "  - コインを$10$回投げたときの表が出る回数の場合、《表が出る期待値》は$\\frac{1}{2}$、回数は$10$回。<br />$\\therefore\\,\\frac{1}{2}$を$10$回分足し合わせれば良いので、$\\underbrace{\\frac{1}{2} + \\frac{1}{2} + \\frac{1}{2} + \\frac{1}{2} + \\frac{1}{2} + \\frac{1}{2} + \\frac{1}{2} + \\frac{1}{2} + \\frac{1}{2} + \\frac{1}{2}}_{10個分} = \\frac{10}{2} = 5$"
   ]
  },
  {
   "cell_type": "markdown",
   "metadata": {},
   "source": [
    "## 5.2 期待値の線型性"
   ]
  },
  {
   "cell_type": "markdown",
   "metadata": {},
   "source": [
    "### 確率と試行と事象\n",
    "- 《コインを投げる》ような行為を**試行**と呼ぶ\n",
    "  - 何を一つの試行として考えているのかを確かめることが大事\n",
    "- 試行が行われた時に起きるできごとを**事象**または**イベント**と呼ぶ\n",
    "- それより細かく分割できない事象を**根元事象**と呼ぶ\n",
    "- 根元事象に対して値が定まる変数を**確率変数**という\n",
    "\n",
    "*《コインを1回投げる》*ということで見てみると……\n",
    "- 試行：コインを1回投げること\n",
    "- 事象：コインを投げて表か裏が出ること\n",
    "- 根元事象：コインの表が出ること、コインの裏が出ること\n",
    "\n",
    "《コインを1回投げる》ことについて、《表が出る回数》を表す確率変数を$X$とした場合、根元事象に対する確率変数は以下の表のようになる。\n",
    "\n",
    "| 根元事象 | 《表が出る回数》を表す<br />確率変数$X$の値 |\n",
    "| -------- | ------------------------------------- |\n",
    "| 《表が出る》 | 1 |\n",
    "| 《裏が出る》 | 0 |\n",
    "\n",
    "上の表は以下のように書くこともできる\n",
    "\n",
    "$\n",
    "\\begin{cases}\n",
    "X(《表が出る》) = 1 \\\\\n",
    "X(《裏が出る》) = 0\n",
    "\\end{cases}\n",
    "$\n",
    "\n",
    "だから、確率変数は《根元事象に対して値が定まる<span style='text-decoration:underline;'>関数</span>》とも言える"
   ]
  },
  {
   "cell_type": "markdown",
   "metadata": {},
   "source": [
    "### 期待値\n",
    "- 確率変数は根元事象ごとに様々な値を取る。\n",
    "  - 例：コインは投げるたびに表か裏が出る。\n",
    "- 確率変数$X$が取る平均的な値を、その確率変数$X$の**期待値**と呼び、$E[X]$と表す。\n",
    "\n",
    "\n",
    "#### 期待値の定義\n",
    "確率変数$X$の期待値$E[X]$を、\n",
    "\n",
    "$\n",
    "E[X] = \\sum_{}^{}k \\cdot P_r(X = k)\n",
    "$\n",
    "\n",
    "で定義する。ただし、$\\sum_{}^{}$は確率変数$X$が取りうるすべての値$k$についての和を取ることにする。\n",
    "\n",
    "#### $E[X]$ってなに？\n",
    "- $E[X]$の$\"E\"$は《期待値》──\"<span style='text-decoration:underline;'>E</span>xpected Value\"の頭文字のこと。\n",
    "\n",
    "#### $P_r(X=k)$ってなに？\n",
    "- $Pr(X=k)$は、《確率変数$X$の値が$k$に等しくなる確率》を表す。\n",
    "- $Pr$は《確率》──\"<span style='text-decoration:underline;'>Pr</span>obability\"の頭文字のこと。"
   ]
  },
  {
   "cell_type": "markdown",
   "metadata": {},
   "source": [
    "### 《コインを1回投げる》場合の期待値\n",
    "《コインを1回投げる》という試行で、《表が出る回数》を表す確率変数を$X$とすると、$X$の期待値は、\n",
    "\n",
    "$\n",
    "E[X] = \\sum_{k=0}^{1}k \\cdot Pr(X = k)\n",
    "\\\\ = 0 \\cdot \\underbrace{Pr(X = 0)}_{裏が出る確率} + 1 \\cdot \\underbrace{Pr(X = 1)}_{表が出る確率}\n",
    "$"
   ]
  },
  {
   "cell_type": "markdown",
   "metadata": {},
   "source": [
    "### 期待値の線型性\n",
    "期待値の線型性とは、期待値が持つ性質の一つで、以下のような性質となる。\n",
    "\n",
    "#### 期待値の線型性の性質\n",
    "$X, Y$を確率変数とし、$a$を定数とすると、以下が成り立つ。\n",
    "\n",
    "***《和の期待値は、期待値の和》***\n",
    "\n",
    "$E[X + Y] = E[X] + E[Y]$\n",
    "\n",
    "***《定数倍の期待値は、期待値の定数倍》***\n",
    "\n",
    "$E[aX] = aE[X]$"
   ]
  },
  {
   "cell_type": "markdown",
   "metadata": {},
   "source": [
    "### 確率を$p$として$n$回の試行を行うときの期待値の求め方\n",
    "確率変数を$X$とおくと、\n",
    "\n",
    "$\n",
    "E[X] = E[X_1 + X_2 + \\dots + X_n] \\quad X = X_1 + X_2 + \\dots + X_nより\n",
    "\\\\ = E[X_1] + E[X_2] + \\dots + E[X_n] \\quad 期待値の線型性より\n",
    "\\\\ = \\underbrace{p + p + \\dots + p}_{n個}\n",
    "\\\\ = np\n",
    "$"
   ]
  },
  {
   "cell_type": "markdown",
   "metadata": {},
   "source": [
    "## 5.3 二項分布"
   ]
  },
  {
   "cell_type": "markdown",
   "metadata": {},
   "source": [
    "### 二項分布\n",
    "- **二項分布**とは、確率分布の一種。<br />確率$p$で表が出るコインを$n$回投げた時に、《表が出る回数》を表す確率変数が従う確率分布。毎回のコイン投げは独立とする。\n",
    "- **独立**とは、過去の事象に現在の事象が影響を受けないこと。<br />例：コイン投げで、過去に出た表と裏の結果に、次のコイン投げが影響を受けない。"
   ]
  },
  {
   "cell_type": "markdown",
   "metadata": {},
   "source": [
    "### 二項分布のグラフ"
   ]
  },
  {
   "cell_type": "code",
   "execution_count": 3,
   "metadata": {},
   "outputs": [],
   "source": [
    "%matplotlib inline"
   ]
  },
  {
   "cell_type": "code",
   "execution_count": 3,
   "metadata": {},
   "outputs": [
    {
     "data": {
      "image/png": "[encoded data removed]",
      "text/plain": [
       "<Figure size 432x288 with 1 Axes>"
      ]
     },
     "metadata": {
      "needs_background": "light"
     },
     "output_type": "display_data"
    }
   ],
   "source": [
    "import matplotlib.pyplot as plt\n",
    "import numpy as np\n",
    "from scipy.stats import binom\n",
    "\n",
    "p = 0.5 # 確率\n",
    "N = 10 # 試行回数\n",
    "k = np.arange(N + 1) # 表が出る回数\n",
    "\n",
    "fig, ax = plt.subplots()\n",
    "ax.set_title('フェアなコインを10回投げたときの確率分布')\n",
    "ax.set_ylabel('確率')\n",
    "ax.set_xlabel('回数')\n",
    "ax.set_xticks(k)\n",
    "ax.set_yticks([])\n",
    "ax.bar(k, binom.pmf(k, N, p), edgecolor='black', width = 1)\n",
    "\n",
    "plt.show()"
   ]
  },
  {
   "cell_type": "code",
   "execution_count": 31,
   "metadata": {},
   "outputs": [
    {
     "data": {
      "image/png": "[encoded data removed]",
      "text/plain": [
       "<Figure size 432x288 with 1 Axes>"
      ]
     },
     "metadata": {
      "needs_background": "light"
     },
     "output_type": "display_data"
    }
   ],
   "source": [
    "import matplotlib.pyplot as plt\n",
    "import numpy as np\n",
    "from scipy.stats import binom\n",
    "\n",
    "p = 0.5 # 確率\n",
    "N = 10 # 試行回数\n",
    "k = np.arange(N + 1) # 表が出る回数\n",
    "\n",
    "fig, ax = plt.subplots()\n",
    "ax.set_title('フェアなコインを10回投げたとき、表が出る回数が4,5,6のいずれかになる確率')\n",
    "ax.set_ylabel('確率')\n",
    "ax.set_xlabel('回数')\n",
    "ax.set_xticks(k)\n",
    "ax.set_yticks([])\n",
    "bar_list = ax.bar(k, binom.pmf(k, N, p), edgecolor='black', width = 1, color = 'white')\n",
    "for bar in bar_list[4:7] :\n",
    "    bar.set_color(\"skyblue\")\n",
    "    bar.set_edgecolor(\"black\")\n",
    "    bar.set_linewidth(1)\n",
    "\n",
    "plt.show()"
   ]
  },
  {
   "cell_type": "markdown",
   "metadata": {},
   "source": [
    "### 組み合わせの数と二項分布の表\n",
    "\n",
    "<p style=\"text-align:center; font-weight:bold;\">組み合わせの数</p>\n",
    "\n",
    "| $k$ | 0  | 1  | 2  | 3  | 4  | 5  | 6  | 6  | 7  | 8  | 9  | 10 |\n",
    "| --- | -- | -- | -- | -- | -- | -- | -- | -- | -- | -- | -- | -- |\n",
    "| $\\binom{10}{k}$ | 1 | 10 | 45 | 120 | 210 | 252 | 210 | 120 | 45 | 10 | 1 |\n"
   ]
  },
  {
   "cell_type": "markdown",
   "metadata": {},
   "source": [
    "<p style=\"text-align:center; font-weight:bold;\">二項分布$B(10, \\frac{1}{2})$</p>\n",
    "\n",
    "| $k$ | 0  | 1  | 2  | 3  | 4  | 5  | 6  | 6  | 7  | 8  | 9  | 10 |\n",
    "| --- | -- | -- | -- | -- | -- | -- | -- | -- | -- | -- | -- | -- |\n",
    "| $\\binom{10}{k}$ | $\\frac{1}{1024}$ | $\\frac{10}{1024}$ | $\\frac{45}{1024}$ | $\\frac{120}{1024}$ | $\\frac{210}{1024}$ | $\\frac{252}{1024}$ | $\\frac{210}{1024}$ | $\\frac{120}{1024}$ | $\\frac{45}{1024}$ | $\\frac{10}{1024}$ | $\\frac{1}{1024}$ |\n"
   ]
  },
  {
   "cell_type": "markdown",
   "metadata": {},
   "source": [
    "- 二項分布は確率分布。確率の総和は1になる必要があるため、場合ごとの組み合わせの数を全ての組み合わせ数=1024で割った数が値になる。\n",
    "- 確率分布は、《確率変数がそれぞれの値を取る確率》がどのように分布しているかを表している。"
   ]
  },
  {
   "cell_type": "markdown",
   "metadata": {},
   "source": [
    "### 二項分布以外の確率分布\n",
    "- 一様分布\n",
    "  - どの根元事象も同じ確率で起きる場合の確率分布\n",
    "    - 例：フェアなサイコロを1回投げる\n",
    "- 正規分布\n",
    "  - 二項分布の$n$を大きくしていき、$n \\rightarrow \\infty$の極限をとった確率分布"
   ]
  },
  {
   "cell_type": "markdown",
   "metadata": {},
   "source": [
    "### 確率分布と確率の計算\n",
    "- 二項分布：離散的な確率分布\n",
    "  - 確率は総和（$\\sum_{}^{}$）の計算で得られる\n",
    "- 正規分布：連続的な確率分布\n",
    "  - グラフの縦軸は確率密度になる\n",
    "  - 確率は積分（$\\int$）の計算で得られる"
   ]
  },
  {
   "cell_type": "markdown",
   "metadata": {},
   "source": [
    "## 5.4 コインは本当にフェアか\n",
    "- 数学について\n",
    "  - 物理的な性質や、社会学的な現象に対して、数学が直接的な証明を与えることはない\n",
    "  - 数学は数理モデルをどう扱うかを教える\n",
    "  - 例：コイン投げ<br />計算時は実際にコイン投げを行うわけではなく、コイン投げの数理モデルを扱っている\n",
    "  - 数学は、何らかの現象を数理モデル化して扱う"
   ]
  },
  {
   "cell_type": "markdown",
   "metadata": {},
   "source": [
    "### コイン投げについて\n",
    "コインを10回投げたとき、すべて裏が出た。このコインはフェアと言えるか？\n",
    "- 10回投げてすべて裏が出る確率は$\\frac{1}{1024}$\n",
    "\n",
    "ミルカ：この場合フェアとはいいにくい。<br />\n",
    "テトラ：でも確率は0ではないから、起こることもある。<br />\n",
    "\n",
    "話を整理すると……\n",
    "- 投げたコインはフェアであると仮定する。\n",
    "- 10回投げたら、すべて裏が出た。\n",
    "- すなわち、《表が出る回数》は0回だった。\n",
    "- 《フェアなコインである》と仮定するなら、<br />《表が出る回数》がこれほど少ないという珍しい事象は、確率$\\frac{1}{1024}$でしか起きない。\n",
    "- 投げたコインは本当にフェアだといえるのか。\n",
    "\n",
    "### テトラの意見\n",
    "このコインがフェアであるか否かは、二つに一つ。\n",
    "- このコインはフェアである\n",
    "- このコインはフェアでない\n",
    "\n",
    "### ミルカの指摘\n",
    "フェアである/ないにこだわりすぎるのは*《ゼロ・イチの呪い》*<br />\n",
    "たとえ、《二つに一つ》だからといっても、断定ができない場合にまで、どちらかに決めたがるのはあやうい。<br />\n",
    "《確率は$\\frac{1}{1024}$である》という情報があるのだから、それを有効に使おう。<br />\n",
    "例えば……\n",
    "- このコインはフェアである－－<br />という主張が正しいなら、確率$1\\%$以下という《驚くべきこと》が起きた。\n",
    "\n",
    "### 僕の疑問\n",
    "確率$1\\%$という《驚くべきこと》が起きたんだから、《コインはフェアである》という主張は$99\\%$誤りなのか？\n",
    "\n",
    "### ミルカの回答\n",
    "- 主張が誤っている確率を述べているわけでは**ない**\n",
    "  - 《コインはフェアである》という主張が正しいと仮定したなら、どれだけ《驚くべきこと》が起きているかを確率的に表したということ\n",
    "- 主張が正しい確率について述べているのでも**ない**\n",
    "- あくまで《コインがフェアである》という仮定のもとで、起きたことの確率を考えているに過ぎない"
   ]
  },
  {
   "cell_type": "markdown",
   "metadata": {},
   "source": [
    "## 5.5 仮説検定"
   ]
  },
  {
   "cell_type": "markdown",
   "metadata": {},
   "source": [
    "### 仮説検定の手順\n",
    "1. **帰無仮説**と**対立仮説**を立てる。\n",
    "1. **検定統計量**を定める。\n",
    "1. **危険率（有意水準）**と**棄却域**を定める。\n",
    "1. 検定統計量は棄却域に入ったか？\n",
    "   - 入ったなら、帰無仮説は**棄却される**。\n",
    "   - 入らなかったら、帰無仮説は**棄却されない**。\n",
    "   \n",
    "#### 帰無仮説とは？\n",
    "- 仮説検定で最小に仮定する仮説で、危険率によって棄却され、*無に帰る*仮説。<br /><span style=\"text-decoration:underline;\">証明したいことの否定</span>を帰無仮説に設定する\n",
    "  - 例：コインがフェアであるかに関心がある場合、《コインはフェアである》を帰無仮説とする\n",
    "\n",
    "\n",
    "#### 対立仮説とは？\n",
    "- 仮説検定で証明したいこと\n",
    "  - 例：コインがフェアであるかに関心がある場合、《コインはフェアで<span style=\"text-decoration:underline;\">ない</span>》を対立仮説とする\n",
    "\n",
    "\n",
    "#### 棄却域とは？\n",
    "- 帰無仮説を棄却する検定統計量の領域のこと\n",
    "- **危険率**という確率を使って表現する。\n",
    "  - **危険率**の危険とは*誤りを犯す*こと。\n",
    "- **危険率**は**有意水準**とも呼ぶ。\n",
    "\n",
    "#### 帰無仮説から棄却域まで\n",
    "帰無仮説が《コインがフェアである》、検定統計量が《表が出た回数》とすると、<br />\n",
    "《表が出た回数》がとても少なかったり、とても多かったりしたら、驚くべきことが起きたといえる。<br />\n",
    "このとき、危険率を$1\\%$とすると、<br />\n",
    "コインを$10$回投げた二項分布で、《コインがフェアである》という帰無仮説を仮定したときに<br />\n",
    "$1\\%$以下という小さい確率で起きる《驚くべきこと》とはなんだろうか。<br />\n",
    "その《驚くべきこと》を検定統計量である《表が出た回数》で表現したものが棄却域となる。\n",
    "\n",
    "\n",
    "#### 《コインを10回投げること》と棄却域\n",
    "《コインを10回投げること》で《表が出る回数》は二項分布の確率分布となる。<br />\n",
    "したがって、《コインがフェアである》ときに起きる《驚くべきこと》とは<span style=\"text-decoration: underline\">両端部分</span>にあたる。"
   ]
  },
  {
   "cell_type": "markdown",
   "metadata": {},
   "source": [
    "import matplotlib.pyplot as plt\n",
    "import numpy as np\n",
    "from scipy.stats import binom\n",
    "\n",
    "def set_ex_bar(bar):\n",
    "    bar.set_color(\"skyblue\")\n",
    "    bar.set_edgecolor(\"black\")\n",
    "    bar.set_linewidth(1)\n",
    "\n",
    "    \n",
    "p = 0.5 # 確率\n",
    "N = 10 # 試行回数\n",
    "k = np.arange(N + 1) # 表が出る回数\n",
    "\n",
    "fig, ax = plt.subplots()\n",
    "ax.set_title('危険率が1%の棄却域')\n",
    "ax.set_ylabel('確率')\n",
    "ax.set_xlabel('回数')\n",
    "ax.set_xticks(k)\n",
    "ax.set_yticks([])\n",
    "bar_list = ax.bar(k, binom.pmf(k, N, p), edgecolor='black', width = 1, color = 'white')\n",
    "set_ex_bar(bar_list[0])\n",
    "set_ex_bar(bar_list[-1])\n",
    "\n",
    "plt.show()"
   ]
  },
  {
   "cell_type": "code",
   "execution_count": 4,
   "metadata": {},
   "outputs": [
    {
     "data": {
      "image/png": "[encoded data removed]",
      "text/plain": [
       "<Figure size 432x288 with 1 Axes>"
      ]
     },
     "metadata": {
      "needs_background": "light"
     },
     "output_type": "display_data"
    }
   ],
   "source": [
    "import matplotlib.pyplot as plt\n",
    "import numpy as np\n",
    "from scipy.stats import binom\n",
    "\n",
    "def set_ex_bar(bar):\n",
    "    bar.set_color(\"skyblue\")\n",
    "    bar.set_edgecolor(\"black\")\n",
    "    bar.set_linewidth(1)\n",
    "    \n",
    "p = 0.5 # 確率\n",
    "N = 10 # 試行回数\n",
    "k = np.arange(N + 1) # 表が出る回数\n",
    "\n",
    "fig, ax = plt.subplots()\n",
    "ax.set_title('危険率が5%の棄却域')\n",
    "ax.set_ylabel('確率')\n",
    "ax.set_xlabel('回数')\n",
    "ax.set_xticks(k)\n",
    "ax.set_yticks([])\n",
    "bar_list = ax.bar(k, binom.pmf(k, N, p), edgecolor='black', width = 1, color = 'white')\n",
    "set_ex_bar(bar_list[0])\n",
    "set_ex_bar(bar_list[1])\n",
    "set_ex_bar(bar_list[-1])\n",
    "set_ex_bar(bar_list[-2])\n",
    "\n",
    "plt.show()"
   ]
  },
  {
   "cell_type": "markdown",
   "metadata": {},
   "source": [
    "#### コインを$10$回投げたとき、《すべてが裏になった》場合を使った仮説検定\n",
    "1. **帰無仮説**と**対立仮説**を立てる。\n",
    "   - 帰無仮説：《コインはフェアである》\n",
    "   - 対立仮説：《コインはフェアではない》\n",
    "1. **検定統計量**を定める。\n",
    "   - 検定統計量：《表が出る回数》\n",
    "1. **危険率**と**棄却域**を定める。\n",
    "   - 危険率：$1\\%$\n",
    "   - 棄却域：《表が出る回数》が$0$回または$10$回\n",
    "1. 検定統計量は棄却域に入ったか？\n",
    "   - $10$回投げたコインはすべて裏が出た。<br />《表が出る回数》は$0$回で、棄却域に入った。<br />よって、《コインはフェアである》という帰無仮説は危険率$1\\%$で棄却された。"
   ]
  },
  {
   "cell_type": "markdown",
   "metadata": {},
   "source": [
    "#### 「《コインはフェアである》という帰無仮説は危険率1%で棄却された。」という表現\n",
    "この表現によって、<br />\n",
    "《コインはフェアである》という主張が正しいなら、確率$1\\%$以下という《驚くべきことが起きた》<br />\n",
    "と主張できたことになる。<br />\n",
    "このことを、<br />\n",
    "《コインがフェアでない》ことは$1\\%$水準で統計的に優位である<br />\n",
    "と表現することもある。<br />"
   ]
  },
  {
   "cell_type": "markdown",
   "metadata": {},
   "source": [
    "#### 帰無仮説の棄却と採択\n",
    "- 帰無仮説に対して《棄却されない》からと言って、その帰無仮説が《採択される》わけではない。\n",
    "- 帰無仮説が棄却されるか否かで、コインがフェアか否かが決定するわけではない。\n",
    "  - 仮説検定の危険率は、あくまで帰無仮説を棄却できる棄却域の大きさを定めているに過ぎない。\n",
    "- 危険率を小さくすれば、誤りの可能性は減る。\n",
    "  - ただし、危険率を小さくすればするほど、得られたデータからいえることが減ってしまう。"
   ]
  },
  {
   "cell_type": "markdown",
   "metadata": {},
   "source": [
    "## 5.6 チェビシェフの不等式"
   ]
  },
  {
   "cell_type": "markdown",
   "metadata": {},
   "source": [
    "### 100人の受験者がいるテストについて\n",
    "100人の受験者がいるテストについて、以下のことがいえる。\n",
    "- いかなる分布であろうとも、得点$x$が<br />$\\mu-2\\sigma\\,<\\,x\\,<\\,\\mu+2\\sigma$<br />を満たす受験者は必ず$75$人より多い。"
   ]
  },
  {
   "cell_type": "markdown",
   "metadata": {},
   "source": [
    "いかなる分布でも、<br />\n",
    "$\\mu-2\\sigma\\,<x\\,<\\,\\mu + 2\\sigma$<br />\n",
    "を**満たさない**数値$x$の割合は、必ず$25\\%$以下に押さえられる。"
   ]
  },
  {
   "cell_type": "markdown",
   "metadata": {},
   "source": [
    "### チェビシェフの不等式\n",
    "いかなる分布でも、<br />\n",
    "$\\mu - 2\\sigma\\,<\\,x\\,<\\,\\mu+2\\sigma$<br />\n",
    "を**満たさない**数値$x$の割合は、$\\frac{1}{K^2}$以下である。<br />\n",
    "ただし$\\mu$は平均、$\\sigma$は標準偏差、$K$は正の定数である。"
   ]
  },
  {
   "cell_type": "markdown",
   "metadata": {},
   "source": [
    "### チェビシェフの不等式（言い換え）\n",
    "いかなる分布でも、<br />\n",
    "$|x - \\mu| \\, \\geqq K \\sigma$<br />\n",
    "を**満たす**数値$x$の割合は、$\\frac{1}{K^2}$以下である。<br />\n",
    "ただし$\\mu$は平均、$\\sigma$は標準偏差、$K$は正の定数である。"
   ]
  },
  {
   "cell_type": "markdown",
   "metadata": {},
   "source": [
    "### チェビシェフの不等式（$K\\,=\\,2$の例）\n",
    "受験者が$100$人いるとき、得点$x$が、<br />\n",
    "$|x-\\mu| \\, \\geqq \\, 2\\sigma$<br />\n",
    "を満たす人は、必ず$25$人以下である。<br />\n",
    "ただし、$\\mu$は平均、$\\sigma$は標準偏差である。"
   ]
  },
  {
   "cell_type": "markdown",
   "metadata": {},
   "source": [
    "### 受験者が100人のときの平均と分散\n",
    "\n",
    "#### 分散$\\mu$\n",
    "$\n",
    "\\mu \\, = \\, \\frac{x_1 + x_2 + \\dots + x_{100}}{100}\n",
    "$\n",
    "\n",
    "\n",
    "#### 分散${\\sigma}^2$\n",
    "$\n",
    "{\\sigma}^2 \\, = \\, \\frac{{(x_1 - \\mu)}^2 + {(x_2 - \\mu)}^2 + \\dots + {(x_{100} - \\mu)}^2}{100}\n",
    "$\n",
    "\n",
    "\n",
    "#### 分散${\\sigma}^2$（書き換え）\n",
    "$\n",
    "{\\sigma}^2 \\, = \\, \\frac{{(x_1 - \\mu)}^2}{100} + \\frac{{(x_2 - \\mu)}^2}{100} + \\dots + \\frac{{(x_{100} - \\mu)}^2}{100}\n",
    "$"
   ]
  },
  {
   "cell_type": "markdown",
   "metadata": {},
   "source": [
    "### ミルカの質問：条件を満たす人は何人いる？\n",
    "いま関心があるのは、$x=x_1,x_2,...,x_{100}$のうち、得点$x$が<br />$|x-\\mu| \\geqq 2\\sigma$……（条件♡）<br />を満たす人だ。<br />さて、この条件を満たす人は何人いるだろうか？\n",
    "\n",
    "\n",
    "\n",
    "1. まず、条件♡を$m$人が満たすとするなら、総人数が$100$人であるから、$m \\leqq 100$である。\n",
    "1. 計算の都合上、条件♡を満たす$m$人に小さい番号を割り当てて並べると、<br />$\\underbrace{x_1, x_2, ..., x_m}_{条件♡を満たす},\\underbrace{x{m+1},...,x_{100}}_{条件♡を満たさない}$<br />となる。\n",
    "1. 後は、分散の定義から計算していくと、<br />${\\sigma}^2 = \\frac{{(x_1 - \\mu)}^2}{100}+\\dots+\\frac{{(x_m - \\mu)}^2}{100}+\\frac{{(x_{m+1} - \\mu)}^2}{100}+\\dots+\\frac{{(x_{100} - \\mu)}^2}{100} \\\\ \\geqq \\frac{{(x_1 - \\mu)}^2}{100}+\\dots+\\frac{{(x_, - \\mu)}^2}{100} \\quad 条件♡を満たさない項を捨てた \\\\ = \\frac{{|x_1 - \\mu|}^2}{100} + \\dots + \\frac{{|x_m - \\mu|}^2}{100} \\quad {(x_k - \\mu)}^2 = {|x_k - \\mu|}^2だから$\n",
    "1. ところで、$1 \\leqq k \\leqq m$のとき、条件♡から、$|x_k - \\mu| \\geqq 2\\sigma$なので、${|x_k - \\mu|}^2 \\geqq {(2\\sigma)}^2$がいえる。よって……<br />${\\sigma}^2 \\geqq \\frac{{|x_1 - \\mu|}^2}{100} + \\dots + \\frac{{|x_m - \\mu|}^2}{100} \\quad 前の式から \\\\ \\geqq \\underbrace{\\frac{{(2\\sigma)}^2}{100}+\\dots+\\frac{{(2\\sigma)}^2}{100}}_{m個} \\quad 条件♡から \\\\ = m \\times \\frac{{(2\\sigma)}^2}{100} \\quad 同じ項がm個だから \\\\ = \\frac{4m\\sigma^2}{100} \\quad カッコを外して計算した$\n",
    "1. 後は整理して……<br />${\\sigma}^2 \\geqq \\frac{4m\\sigma^2}{100} \\quad 上の式から \\\\ 100 \\geqq 4m \\quad 両辺に\\frac{100}{\\sigma^2}を掛ける \\\\ 25 \\geqq m \\quad 両辺を4で割る \\\\ m \\leqq 25 \\quad 両辺を交換する$"
   ]
  },
  {
   "cell_type": "markdown",
   "metadata": {},
   "source": [
    "### 僕の疑問：標準偏差$\\sigma$が分かっているのなら、データの数値はすべてわかっているのでは？\n",
    "#### ミルカ：データの数値がすべて分かるとは限らない。<br />\n",
    "現実社会で扱う問題の場合、**母集団**が大きいなどの理由で、データの全ての数値は入手できない場合がある。  \n",
    "そういうとき、私達は母集団からいくつかの数値を**無作為抽出**（ランダムサンプリング）する。  \n",
    "抽出して得られるデータを**標本**や**サンプル**と呼ぶ。  \n",
    "《母集団の平均や標準偏差》がわからなければ、手元にある標本を使って計算するしかない。\n",
    "\n",
    "#### 標本からの推定\n",
    "手元にある標本を使って、母集団の平均や標準偏差などの統計量を推測する試みが可能。<br />\n",
    "そこでは統計的な**推定**という手法が使われる。<br />\n",
    "\n",
    "*統計量を見るときの注意点*<br />\n",
    "例えば平均と言われたとき、それは《母集団の平均》なのか、《標本の平均》なのか、それとも《標本から推測した母集団の平均》なのかを確かめること。<br />\n",
    "\n",
    "#### 記述統計と推測統計\n",
    "- 記述統計\n",
    "  - データをどう記述するかを考える\n",
    "- 推測統計\n",
    "  - 統計量を推測する"
   ]
  },
  {
   "cell_type": "markdown",
   "metadata": {},
   "source": [
    "## 5.7 大数の弱法則\n",
    "### 相対度数\n",
    "《コインを$n$回投げる》という試行を考えて、《表が出る回数》を表す確率変数を$X$とする。そのとき、《相対度数》を表す別の確率変数$Y$を  \n",
    "$\n",
    "Y = \\frac{X}{n}\n",
    "$  \n",
    "で定義する。\n",
    "\n",
    "### 問題1（相対度数）\n",
    "表が出る確率が$p$であるコインを$n$回投げる。<br />$n$回のうち表が出る回数を表す確率変数を$X$として、相対度数を表す確率変数$Y$を  \n",
    "$\n",
    "Y = \\frac{X}{n}\n",
    "$  \n",
    "として定義する。このとき$Y$の平均$E[Y]$と分散$V[Y]$を求めよ。<br />ただし、$E[X] = np, V[X] = np(1 - p)$であることに注意する。"
   ]
  },
  {
   "cell_type": "markdown",
   "metadata": {},
   "source": [
    "#### $V[X]$の$\"V\"$はなんだろう？\n",
    "$V[X]$の$\"V\"$は、《分散》----\"**V**ariance\"の頭文字。\n",
    "\n",
    "#### $Y$はなんだろう？\n",
    "$Y$は表が出る相対度数を表す確率変数。<br />例えば、$n = 100$として、《$100$回投げた時に$3$回表が出る》という事象に対して、$X = 3$及び$Y = \\frac{3}{100}$といえる。\n",
    "\n",
    "#### $E[Y]$を求めよう\n",
    "《期待値の線型性》より  \n",
    "$\n",
    "E[Y] = E[{\\frac{X}{n}}] \\quad Y = \\frac{X}{n}より\n",
    "\\\\ ＝\\frac{E[X]}{n} \\quad 期待値の線型性から定数\\frac{1}{n}を外に出す\n",
    "\\\\ = \\frac{np}{n} \\quad E[X] = npより\n",
    "\\\\ = p\n",
    "$\n",
    "\n",
    "#### 分散を求めよう\n",
    "ミルカ\n",
    "- 分散も期待値\n",
    "\n",
    "僕\n",
    "- 分散は《偏差の2乗》の期待値\n",
    "- 分散の定義を期待値として表現すれば、面倒な計算は必要ない\n",
    "  - だって、**期待値の線型性**が使えるから！\n",
    "\n",
    "$\n",
    "V[Y] = E[{(Y - E[Y])}^2] \\quad 分散の定義\n",
    "\\\\ = E[{(\\frac{X}{n} - E[\\frac{X}{n}])}^2] \\quad Y = \\frac{X}{n}より\n",
    "\\\\ = E[{(\\frac{X}{n} - \\frac{E[X]}{n})}^2] \\quad 期待値の線型性\n",
    "\\\\ = E[\\frac{{(X-E[X])}^2}{n^2}] \\quad n^2でまとめる\n",
    "\\\\ = \\frac{E[{(X - E[X])}^2]}{n^2} \\quad 期待値の線型性\n",
    "\\\\ = \\frac{V[X]}{n^2}\n",
    "$"
   ]
  },
  {
   "cell_type": "markdown",
   "metadata": {},
   "source": [
    "### 解答1（相対度数）\n",
    "表が出る確率が$p$であるコインを$n$回投げる。  $n$回のうち表が出る回数を表す確率変数を$X$として、新たな確率変数$Y$を  \n",
    "$\n",
    "Y = \\frac{X}{n}\n",
    "$  \n",
    "として定義する。このとき、$Y$の平均$E[Y]$と分散$V[Y]$は以下の通り。  \n",
    "$\n",
    "\\begin{cases}\n",
    "E[Y] = \\frac{E[X]}{n} = \\frac{np}{n} = p \\\\\n",
    "V[Y] = \\frac{V[X]}{n^2} = \\frac{np(1-p)}{n^2} = \\frac{p(1-p)}{n}\n",
    "\\end{cases}\n",
    "$\n"
   ]
  },
  {
   "cell_type": "code",
   "execution_count": null,
   "metadata": {},
   "outputs": [],
   "source": []
  }
 ],
 "metadata": {
  "kernelspec": {
   "display_name": "Python 3",
   "language": "python",
   "name": "python3"
  },
  "language_info": {
   "codemirror_mode": {
    "name": "ipython",
    "version": 3
   },
   "file_extension": ".py",
   "mimetype": "text/x-python",
   "name": "python",
   "nbconvert_exporter": "python",
   "pygments_lexer": "ipython3",
   "version": "3.7.2"
  }
 },
 "nbformat": 4,
 "nbformat_minor": 2
}
