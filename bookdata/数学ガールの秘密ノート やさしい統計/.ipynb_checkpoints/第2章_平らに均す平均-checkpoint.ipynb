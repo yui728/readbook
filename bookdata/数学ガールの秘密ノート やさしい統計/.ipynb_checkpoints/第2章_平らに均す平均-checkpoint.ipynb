{
 "cells": [
  {
   "cell_type": "code",
   "execution_count": 1,
   "metadata": {},
   "outputs": [
    {
     "data": {
      "text/html": [
       "<style>table{float: left;}</style>\n"
      ],
      "text/plain": [
       "<IPython.core.display.HTML object>"
      ]
     },
     "metadata": {},
     "output_type": "display_data"
    }
   ],
   "source": [
    "%%html\n",
    "<style>table{float: left;}</style>"
   ]
  },
  {
   "cell_type": "markdown",
   "metadata": {},
   "source": [
    "# 第2章 平らに均す平均"
   ]
  },
  {
   "cell_type": "markdown",
   "metadata": {},
   "source": [
    "## 2.1 テストの結果"
   ]
  },
  {
   "cell_type": "markdown",
   "metadata": {},
   "source": [
    "### ユーリのテスト\n",
    "- 100点満点の5教科のテストを受けた\n",
    "  - 最後の科目、数学は100点\n",
    "  - そのおかげで平均点が5点上がった"
   ]
  },
  {
   "cell_type": "markdown",
   "metadata": {},
   "source": [
    "#### 5科目の平均点を求める\n",
    "1. ユーリの考え\n",
    "   1. 数学が100点で平均点が5点上がった\n",
    "   1. 残りの4科目について5点ずつ上げる\n",
    "   1. $100 - (4 \\times 5) = 80$\n",
    "   1. $\\therefore$ 平均点は80点\n",
    "1. 僕の考え\n",
    "   1. 数学を除いた4科目の平均点を$4x$点とする\n",
    "   1. それに100点の数学を加えると、5科目の合計は$100 + 4x$点\n",
    "   1. 5科目の平均点は5点アップしたので、$x + 5$点<br />$\\therefore$ 5科目の合計点は$5(x + 5)$点\n",
    "   1. $\\therefore$ 5科目の合計点は $4x + 100 = 5(x + 5)$\n",
    "   1. この1次方程式を解くと、$x = 75$となるため、平均点は$75 + 5 = 80$となる"
   ]
  },
  {
   "cell_type": "markdown",
   "metadata": {},
   "source": [
    "*平均は**代表値**の一つ*"
   ]
  },
  {
   "cell_type": "markdown",
   "metadata": {},
   "source": [
    "## 2.2 代表値"
   ]
  },
  {
   "cell_type": "markdown",
   "metadata": {},
   "source": [
    "### 代表値とは\n",
    "- **データ**としてたくさんの数がある時、《1個の数》で代表させたい\n",
    "- その数さえわかっていたら、たくさんの数の一つ一つを知らなくても、データについてある程度のことがわかるような数"
   ]
  },
  {
   "cell_type": "markdown",
   "metadata": {},
   "source": [
    "### 代表値の種類\n",
    "- 平均値\n",
    "- 最大値\n",
    "- 最小値\n",
    "- 最頻値\n",
    "- 中央値"
   ]
  },
  {
   "cell_type": "markdown",
   "metadata": {},
   "source": [
    "## 2.3 最頻値"
   ]
  },
  {
   "cell_type": "markdown",
   "metadata": {},
   "source": [
    "平均だとまずい場合\n",
    "- 集団の中の数値の差が極端な場合"
   ]
  },
  {
   "cell_type": "markdown",
   "metadata": {},
   "source": [
    "- 平均をどのように*計算*するか\n",
    "- 平均をどのように*解釈*するか\n",
    "\n",
    "この2つは別物"
   ]
  },
  {
   "cell_type": "markdown",
   "metadata": {},
   "source": [
    "最頻値 = 数の集合の中で最も頻繁に出現する値"
   ]
  },
  {
   "cell_type": "markdown",
   "metadata": {},
   "source": [
    "例：10人の集団の中で、1人が100点、残り9人が0点の場合\n",
    "- 平均値：10点\n",
    "- 最頻値：0点\n",
    "\n",
    "となる"
   ]
  },
  {
   "cell_type": "markdown",
   "metadata": {},
   "source": [
    "## 2.4 中央値"
   ]
  },
  {
   "cell_type": "markdown",
   "metadata": {},
   "source": [
    "**10人の生徒が10点満点のテストを受けた結果**\n",
    "\n",
    "| 点数 | 0  | 1  | 2  | 3  | 4  | 5  | 6  | 7  | 8  | 9  | 10 |\n",
    "| ---- | -- | -- | -- | -- | -- | -- | -- | -- | -- | -- | -- |\n",
    "| 人数 | 1 | 2 | 2 | 1 | 3 | 0 | 0 | 0 | 0 | 0 | 1 |"
   ]
  },
  {
   "cell_type": "markdown",
   "metadata": {},
   "source": [
    "**数×人数を追加**\n",
    "\n",
    "| 点数 | 0  | 1  | 2  | 3  | 4  | 5  | 6  | 7  | 8  | 9  | 10 |\n",
    "| ---- | -- | -- | -- | -- | -- | -- | -- | -- | -- | -- | -- |\n",
    "| 人数 | 1 | 2 | 2 | 1 | 3 | 0 | 0 | 0 | 0 | 0 | 1 |\n",
    "| 点数×人数 | 0 | 2 | 4 | 3 | 12 | 0 | 0 | 0 | 0 | 0 | 10|"
   ]
  },
  {
   "cell_type": "markdown",
   "metadata": {},
   "source": [
    "$( 2 + 3 + 4 + 2 + 10 ) \\div 10 \\\\ = 31 \\div 10 \\\\ = 3.1$\n",
    "\n",
    "$\\therefore$ 平均は3.1点\n",
    "\n",
    "最頻値は4点"
   ]
  },
  {
   "cell_type": "markdown",
   "metadata": {},
   "source": [
    "- **外れ値**：飛び抜けた値のこと\n",
    "- **中央値**：外れ値の影響を受けない代表値"
   ]
  },
  {
   "cell_type": "markdown",
   "metadata": {},
   "source": [
    "### 中央値\n",
    "- 全ての値を昇順/降順に並べた時に、中央に来る値\n",
    "- 値の数が偶数の場合は、中央にある2つの値の平均"
   ]
  },
  {
   "cell_type": "markdown",
   "metadata": {},
   "source": [
    "# 2.5 ヒストグラム"
   ]
  },
  {
   "cell_type": "markdown",
   "metadata": {},
   "source": [
    "[2.4](#2.4-中央値)の点数の表をヒストグラムにする"
   ]
  },
  {
   "cell_type": "code",
   "execution_count": 2,
   "metadata": {},
   "outputs": [
    {
     "data": {
      "image/png": "[encoded data removed]",
      "text/plain": [
       "<Figure size 432x288 with 1 Axes>"
      ]
     },
     "metadata": {
      "needs_background": "light"
     },
     "output_type": "display_data"
    }
   ],
   "source": [
    "%matplotlib inline\n",
    "import matplotlib.pyplot as plt\n",
    "fig, ax = plt.subplots()\n",
    "\n",
    "x = [d for d in range(11)]\n",
    "y = [1, 2, 2, 1, 3, 0, 0, 0, 0, 0, 1]\n",
    "\n",
    "ax.set_title('ヒストグラム')\n",
    "ax.set_xlabel('点数')\n",
    "ax.set_ylabel('人数')\n",
    "ax.set_xticks(x)\n",
    "ax.set_ylim(0, 5)\n",
    "ax.set_yticks([d for d in range(5)])\n",
    "\n",
    "ax.bar(x, y, width = 1, align = 'center', edgecolor = 'black', linewidth = 1)\n",
    "\n",
    "plt.show()"
   ]
  },
  {
   "cell_type": "markdown",
   "metadata": {},
   "source": [
    "ヒストグラムに描いた時……\n",
    "- 最小値：一番左の棒グラフのX値\n",
    "- 最大値：一番右の棒グラフのX値\n",
    "- 最頻値：一番高い棒グラフのX値\n",
    "- 中央値：ちょうど左右の面積が等しくなるところ\n",
    "- 平均値：横軸の重心"
   ]
  },
  {
   "cell_type": "markdown",
   "metadata": {},
   "source": [
    "## 2.6 最頻値"
   ]
  },
  {
   "cell_type": "markdown",
   "metadata": {},
   "source": [
    "最頻値が不適切な場合\n",
    "- 全ての点数が同じ人数（**一様分布**）の場合には、最頻値は決まらない\n",
    "- ヒストグラムにしたときにはっきりした山が一つでない（複数存在する）場合は、最頻値は決まらない"
   ]
  },
  {
   "cell_type": "markdown",
   "metadata": {},
   "source": [
    "*最頻値が代表値として意味を持つとき*\n",
    "\n",
    "**→はっきりした山が一つのとき**"
   ]
  },
  {
   "cell_type": "markdown",
   "metadata": {},
   "source": [
    "## 2.7 代表値攻撃法"
   ]
  },
  {
   "cell_type": "code",
   "execution_count": 3,
   "metadata": {},
   "outputs": [
    {
     "data": {
      "image/png": "[encoded data removed]",
      "text/plain": [
       "<Figure size 432x288 with 2 Axes>"
      ]
     },
     "metadata": {
      "needs_background": "light"
     },
     "output_type": "display_data"
    }
   ],
   "source": [
    "fig, (ax1, ax2) = plt.subplots(2, 1)\n",
    "\n",
    "x = [d for d in range(11)]\n",
    "y1 = [1, 0, 0, 0, 2, 4, 2, 0, 0, 0, 1]\n",
    "y2 = [2, 1, 0, 0, 0, 4, 0, 0, 0, 1, 2]\n",
    "\n",
    "yticks = [d for d in range(5)]\n",
    "ylim_min = 0\n",
    "ylim_max = 5\n",
    "xlabel = '点数'\n",
    "ylabel = '人数'\n",
    "\n",
    "bar_width = 1\n",
    "xlabel_align = 'center'\n",
    "line_width = 1\n",
    "line_color = 'black'\n",
    "\n",
    "ax1.set_title('A')\n",
    "ax1.set_xticks(x)\n",
    "ax1.set_yticks(yticks)\n",
    "ax1.set_ylim(ylim_min, ylim_max)\n",
    "ax1.set_xlabel(xlabel)\n",
    "ax1.set_ylabel(ylabel)\n",
    "\n",
    "ax2.set_title('B')\n",
    "ax2.set_xticks(x)\n",
    "ax2.set_yticks(yticks)\n",
    "ax2.set_ylim(ylim_min, ylim_max)\n",
    "ax2.set_xlabel(xlabel)\n",
    "ax2.set_ylabel(ylabel)\n",
    "\n",
    "ax1.bar(x, y1, width = bar_width, align = xlabel_align, edgecolor = line_color, linewidth = line_width)\n",
    "ax2.bar(x, y2, width = bar_width, align = xlabel_align, edgecolor = line_color, linewidth = line_width)\n",
    "\n",
    "plt.subplots_adjust(hspace = 0.8)\n",
    "plt.show()"
   ]
  },
  {
   "cell_type": "markdown",
   "metadata": {},
   "source": [
    "グラフAもグラフBも\n",
    "\n",
    "- 最大値10点\n",
    "- 最小値0点\n",
    "- 平均5点\n",
    "- 最頻値5点\n",
    "- 中央値5点\n",
    "\n",
    "で代表値5種類が全て同じ"
   ]
  },
  {
   "cell_type": "markdown",
   "metadata": {},
   "source": [
    "グラフAとグラフBの表\n",
    "\n",
    "**A**\n",
    "\n",
    "\n",
    "| 点数 | 0  | 1  | 2  | 3  | 4  | 5  | 6  | 7  | 8  | 9  | 10 |\n",
    "| ---- | -- | -- | -- | -- | -- | -- | -- | -- | -- | -- | -- |\n",
    "| 人数 | 1  | 0  | 0  | 0  | 2  | 4  | 2  | 0  | 0  | 0  | 1  |"
   ]
  },
  {
   "cell_type": "markdown",
   "metadata": {},
   "source": [
    "**B**\n",
    "\n",
    "\n",
    "| 点数 | 0  | 1  | 2  | 3  | 4  | 5  | 6  | 7  | 8  | 9  | 10 |\n",
    "| ---- | -- | -- | -- | -- | -- | -- | -- | -- | -- | -- | -- |\n",
    "| 人数 | 2  | 1  | 0  | 0  | 0  | 4  | 0  | 0  | 0  | 1  | 2  |"
   ]
  },
  {
   "cell_type": "markdown",
   "metadata": {},
   "source": [
    "### 偏差\n",
    "- データに含まれている一つ一つの数値から平均を引いた値"
   ]
  },
  {
   "cell_type": "markdown",
   "metadata": {},
   "source": [
    "**Aで、偏差を調べる**\n",
    "\n",
    "$偏差 = 点数 - 平均$\n",
    "\n",
    "| 点数 | 0  | 1  | 2  | 3  | 4  | 5  | 6  | 7  | 8  | 9  | 10 |\n",
    "| ---- | -- | -- | -- | -- | -- | -- | -- | -- | -- | -- | -- |\n",
    "| 偏差 | -5 | -4 | -3 | -2 | -1 | 0 | 1 | 2 | 3 | 4 | 5 |\n",
    "| 人数 | 1 | 0 | 0 | 0 | 2 | 4 | 2 | 0 | 0 | 0 | 1 |\n",
    "| 偏差×人数 | -5 | 0 | 0 | 0 | -2 | 0 | 2 | 0 | 0 | 0 | 5 |"
   ]
  },
  {
   "cell_type": "markdown",
   "metadata": {},
   "source": [
    "合計を求める。\n",
    "\n",
    "$-5 + (-2) + 2 + 5 = 0$"
   ]
  },
  {
   "cell_type": "markdown",
   "metadata": {},
   "source": [
    "**Bで、偏差を調べる**\n",
    "\n",
    "$偏差 = 点数 - 平均$\n",
    "\n",
    "| 点数 | 0  | 1  | 2  | 3  | 4  | 5  | 6  | 7  | 8  | 9  | 10 |\n",
    "| ---- | -- | -- | -- | -- | -- | -- | -- | -- | -- | -- | -- |\n",
    "| 偏差 | -5 | -4 | -3 | -2 | -1 | 0 | 1 | 2 | 3 | 4 | 5 |\n",
    "| 人数 | 2 | 1 | 0 | 0 | 0 | 4 | 0 | 0 | 0 | 1 | 2 |\n",
    "| 偏差×人数 | -10 | -4 | 0 | 0 | 0 | 0 | 0 | 0 | 0 | 4 | 10 |"
   ]
  },
  {
   "cell_type": "markdown",
   "metadata": {},
   "source": [
    "合計を求める。\n",
    "\n",
    "$(-10) + (-4) + 4 + 10 = 0$"
   ]
  },
  {
   "cell_type": "markdown",
   "metadata": {},
   "source": [
    "*AとBで、**偏差の合計値は同じ**になる*"
   ]
  },
  {
   "cell_type": "markdown",
   "metadata": {},
   "source": [
    "#### 偏差の絶対値を調べる"
   ]
  },
  {
   "cell_type": "markdown",
   "metadata": {},
   "source": [
    "**Aで、偏差の絶対値を調べる**\n",
    "\n",
    "\n",
    "| 点数 | 0  | 1  | 2  | 3  | 4  | 5  | 6  | 7  | 8  | 9  | 10 |\n",
    "| ---- | -- | -- | -- | -- | -- | -- | -- | -- | -- | -- | -- |\n",
    "| 偏差の絶対値 | 5 | 4 | 3 | 2 | 1 | 0 | 1 | 2 | 3 | 4 | 5 |\n",
    "| 人数 | 1 | 0 | 0 | 0 | 2 | 4 | 2 | 0 | 0 | 0 | 1 |\n",
    "| 偏差の絶対値×人数 | 5 | 0 | 0 | 0 | 2 | 0 | 2 | 0 | 0 | 0 | 5 |"
   ]
  },
  {
   "cell_type": "markdown",
   "metadata": {},
   "source": [
    "合計を求める。\n",
    "\n",
    "$5 + 2 + 2 + 5 = 14$"
   ]
  },
  {
   "cell_type": "markdown",
   "metadata": {},
   "source": [
    "**Bで、偏差の絶対値を調べる**\n",
    "\n",
    "\n",
    "| 点数 | 0  | 1  | 2  | 3  | 4  | 5  | 6  | 7  | 8  | 9  | 10 |\n",
    "| ---- | -- | -- | -- | -- | -- | -- | -- | -- | -- | -- | -- |\n",
    "| 偏差の絶対値 | 5 | 4 | 3 | 2 | 1 | 0 | 1 | 2 | 3 | 4 | 5 |\n",
    "| 人数 | 2 | 1 | 0 | 0 | 0 | 4 | 0 | 0 | 0 | 1 | 2 |\n",
    "| 偏差の絶対値×人数 | 10 | 4 | 0 | 0 | 0 | 0 | 0 | 0 | 0 | 4 | 10 |"
   ]
  },
  {
   "cell_type": "markdown",
   "metadata": {},
   "source": [
    "合計を求める。\n",
    "\n",
    "$10 + 4 + 4 + 10 = 28$"
   ]
  },
  {
   "cell_type": "markdown",
   "metadata": {},
   "source": [
    "Aの偏差の絶対値は**14**、Bの偏差の絶対値は**28**\n",
    "\n",
    "\n",
    "$\\therefore$ AとBに区別をつけることができる"
   ]
  },
  {
   "cell_type": "markdown",
   "metadata": {},
   "source": [
    "#### 偏差の2乗の平均を調べる"
   ]
  },
  {
   "cell_type": "markdown",
   "metadata": {},
   "source": [
    "**Aで《偏差の2乗の平均》を調べる**\n",
    "\n",
    "\n",
    "| 点数 | 0  | 1  | 2  | 3  | 4  | 5  | 6  | 7  | 8  | 9  | 10 |\n",
    "| ---- | -- | -- | -- | -- | -- | -- | -- | -- | -- | -- | -- |\n",
    "| $(偏差)^2$ | 25 | 16 | 9 | 4 | 1 | 0 | 1 | 4 | 9 | 16 | 25 |\n",
    "| 人数 | 1 | 0 | 0 | 0 | 2 | 4 | 2 | 0 | 0 | 0 | 1 |\n",
    "| $(偏差)^2$×人数 | 25 | 0 | 0 | 0 | 2 | 0 | 2 | 0 | 0 | 0 | 25 |"
   ]
  },
  {
   "cell_type": "markdown",
   "metadata": {},
   "source": [
    "$偏差の2乗の平均 \\\\ = \\frac{25+2+2+25}{10} \\\\ = 5.4$"
   ]
  },
  {
   "cell_type": "markdown",
   "metadata": {},
   "source": [
    "**Bで《偏差の2乗の平均》を調べる**\n",
    "\n",
    "\n",
    "| 点数 | 0  | 1  | 2  | 3  | 4  | 5  | 6  | 7  | 8  | 9  | 10 |\n",
    "| ---- | -- | -- | -- | -- | -- | -- | -- | -- | -- | -- | -- |\n",
    "|  $(偏差)^2$ | 25 | 16 | 9 | 4 | 1 | 0 | 1 | 4 | 9 | 16 | 25 |\n",
    "| 人数 | 2 | 1 | 0 | 0 | 0 | 4 | 0 | 0 | 0 | 1 | 2 |\n",
    "|  $(偏差)^2$×人数 | 50 | 16 | 0 | 0 | 0 | 0 | 0 | 0 | 0 | 16 | 50 |"
   ]
  },
  {
   "cell_type": "markdown",
   "metadata": {},
   "source": [
    "$偏差の2乗の平均 \\\\ = \\frac{50+16+16+50}{10} \\\\ = 13.2$"
   ]
  },
  {
   "cell_type": "markdown",
   "metadata": {},
   "source": [
    "### 分散\n",
    "- 偏差の2乗の平均のこと\n",
    "- データが《どれだけ散らばっているか》を表す統計量"
   ]
  },
  {
   "cell_type": "markdown",
   "metadata": {},
   "source": [
    "## 2.8 分散"
   ]
  },
  {
   "cell_type": "markdown",
   "metadata": {},
   "source": [
    "### 分散のヒストグラム\n",
    "- 《偏差の2乗のヒストグラム》で考える"
   ]
  },
  {
   "cell_type": "code",
   "execution_count": 4,
   "metadata": {},
   "outputs": [
    {
     "data": {
      "text/plain": [
       "<BarContainer object of 26 artists>"
      ]
     },
     "execution_count": 4,
     "metadata": {},
     "output_type": "execute_result"
    },
    {
     "data": {
      "image/png": "[encoded data removed]",
      "text/plain": [
       "<Figure size 432x288 with 1 Axes>"
      ]
     },
     "metadata": {
      "needs_background": "light"
     },
     "output_type": "display_data"
    }
   ],
   "source": [
    "import numpy as np\n",
    "fig, ax = plt.subplots()\n",
    "\n",
    "x = [d for d in range(26)]\n",
    "y = [4, 4] + np.zeros((23,), dtype=int).tolist() + [2]\n",
    "\n",
    "ax.set_title('Aから作った《偏差の2乗のヒストグラム》')\n",
    "ax.set_xticks([0, 1, 5.4, 25])\n",
    "ax.set_yticks([])\n",
    "\n",
    "ax.bar(x, y, edgecolor = 'black', linewidth = 1)"
   ]
  },
  {
   "cell_type": "code",
   "execution_count": 5,
   "metadata": {},
   "outputs": [
    {
     "data": {
      "text/plain": [
       "<BarContainer object of 26 artists>"
      ]
     },
     "execution_count": 5,
     "metadata": {},
     "output_type": "execute_result"
    },
    {
     "data": {
      "image/png": "[encoded data removed]",
      "text/plain": [
       "<Figure size 432x288 with 1 Axes>"
      ]
     },
     "metadata": {
      "needs_background": "light"
     },
     "output_type": "display_data"
    }
   ],
   "source": [
    "import numpy as np\n",
    "fig, ax = plt.subplots()\n",
    "\n",
    "x = [d for d in range(26)]\n",
    "y = [4] + np.zeros((15,), dtype=int).tolist() + [2] + np.zeros((8,), dtype=int).tolist() + [4]\n",
    "\n",
    "ax.set_title('Aから作った《偏差の2乗のヒストグラム》')\n",
    "ax.set_xticks([0, 13.2, 16, 25])\n",
    "ax.set_yticks([])\n",
    "\n",
    "ax.bar(x, y, edgecolor = 'black', linewidth = 1)"
   ]
  },
  {
   "cell_type": "markdown",
   "metadata": {},
   "source": [
    "**《分散》は《偏差の2乗》でのヒストグラムの重心になる**"
   ]
  },
  {
   "cell_type": "markdown",
   "metadata": {},
   "source": [
    "## 第2章の問題"
   ]
  },
  {
   "cell_type": "markdown",
   "metadata": {},
   "source": [
    "### 問題2-1（代表値）"
   ]
  },
  {
   "cell_type": "markdown",
   "metadata": {},
   "source": [
    "10点満点のテストを10人が受けたときの点数表\n",
    "\n",
    "| 受験番号 | 1  | 2  | 3  | 4  | 5  | 6  | 7  | 8  | 9  | 10 |\n",
    "| -------- | -- | -- | -- | -- | -- | -- | -- | -- | -- | -- |\n",
    "| 点数 | 5 | 7 | 5 | 4 | 3 | 10 | 6 | 6 | 5 | 7 |"
   ]
  },
  {
   "cell_type": "markdown",
   "metadata": {},
   "source": [
    "点数の最大値、最小値、平均、最頻値、中央値をそれぞれ求める"
   ]
  },
  {
   "cell_type": "markdown",
   "metadata": {},
   "source": [
    "点数と人数の表\n",
    "\n",
    "| 点数 | 0  | 1  | 2  | 3  | 4  | 5  | 6  | 7  | 8  | 9  | 10 |\n",
    "| ---- | -- | -- | -- | -- | -- | -- | -- | -- | -- | -- | -- |\n",
    "| 人数 | 0  | 0  | 0  | 1  | 1  | 3  | 2  | 2  | 0  | 0  | 1  |"
   ]
  },
  {
   "cell_type": "markdown",
   "metadata": {},
   "source": [
    "点数順の表\n",
    "\n",
    "\n",
    "| 順   | 1  | 2  | 3  | 4  | 5  | 6  | 7  | 8  | 9  | 10 |\n",
    "| ---- | -- | -- | -- | -- | -- | -- | -- | -- | -- | -- |\n",
    "| 点数 | 3  | 4  | 5  | 5  | 5  | 6  | 6  | 7  | 7  | 10 |"
   ]
  },
  {
   "cell_type": "markdown",
   "metadata": {},
   "source": [
    "- 最大値：10\n",
    "- 最小値：3\n",
    "- 平均：$\\frac{(3 \\times 1) + (4 \\times 1) + (5 \\times 3) + (6 \\times 2) + (7 \\times 2) + (10 \\times 1)}{10} \\\\ = \\frac{(3 + 4 + 15 + 12 + 14 + 10)}{10} \\\\ = \\frac{58}{10} \\\\ = 5.8$\n",
    "- 最頻値：点数と人数の表より、**5**\n",
    "- 中央値：点数順の表より、**5.5**"
   ]
  },
  {
   "cell_type": "markdown",
   "metadata": {},
   "source": [
    "### 問題2-2（代表値の解釈）\n",
    "以下の文章のおかしな点を指摘してください。\n",
    "\n",
    "*問題*\n",
    "1. 試験の学年平均は62点だった。ということは、62点をとった人が一番多い。\n",
    "1. 試験の学年最高点は98点だった。ということは、98点をとった人がたった1人いる。\n",
    "1. 試験の学年平均は62点だった。ということは、62点より点数が高い人と低い人は同じ人数である。\n",
    "1. 「期末試験では、学年全員が学年平均を超えなくてはならない」と言われた。"
   ]
  },
  {
   "cell_type": "markdown",
   "metadata": {},
   "source": [
    "*解答*\n",
    "1. 最も多い人数を示す代表値は最頻値である。\n",
    "1. 最大値が98点ということは、98点をとった人が最低でも1人いるということであり、たった1人ではない。\n",
    "1. 62点より点数が高い人と低い人が同じ人数になる値は、中央値であって平均ではない。\n",
    "1. 学年全員が同じ点数をとることで、学年平均と同じ点になることはできるが、超えることは出来ない。"
   ]
  },
  {
   "cell_type": "markdown",
   "metadata": {},
   "source": [
    "### 問題2-3（数値の追加）\n",
    "テストを実施し、生徒100人の平均点$m_0$を計算しました。<br />\n",
    "計算が終わってから、101人めの点数$x_{101}$を$m_0$の計算に使い忘れたことに気づきました。<br />\n",
    "いまから計算し直すのは大変なので、すでに計算した平均点$m_0$と、101人目の点数$x_{101}$を使って、<br />\n",
    "$m_1 = \\frac{m_0 + x_{101}}{2}$<br />\n",
    "を新たな平均点としました。この計算は正しいでしょうか。"
   ]
  },
  {
   "cell_type": "markdown",
   "metadata": {},
   "source": [
    "*解答*\n",
    "\n",
    "正しくない。\n",
    "\n",
    "実際は<br />\n",
    "$\n",
    "m_1 = \\frac{( m_0 \\times 100 ) + x_{101}}{101}\n",
    "$"
   ]
  }
 ],
 "metadata": {
  "kernelspec": {
   "display_name": "Python 3",
   "language": "python",
   "name": "python3"
  },
  "language_info": {
   "codemirror_mode": {
    "name": "ipython",
    "version": 3
   },
   "file_extension": ".py",
   "mimetype": "text/x-python",
   "name": "python",
   "nbconvert_exporter": "python",
   "pygments_lexer": "ipython3",
   "version": "3.7.2"
  }
 },
 "nbformat": 4,
 "nbformat_minor": 2
}
