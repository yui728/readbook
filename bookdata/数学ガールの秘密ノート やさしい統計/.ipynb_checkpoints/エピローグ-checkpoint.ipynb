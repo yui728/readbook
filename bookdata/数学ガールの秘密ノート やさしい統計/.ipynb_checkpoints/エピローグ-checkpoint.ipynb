{
 "cells": [
  {
   "cell_type": "markdown",
   "metadata": {},
   "source": [
    "# エピローグ"
   ]
  },
  {
   "cell_type": "markdown",
   "metadata": {},
   "source": [
    "### 正規分布の確率密度関数のグラフ"
   ]
  },
  {
   "cell_type": "code",
   "execution_count": 1,
   "metadata": {},
   "outputs": [],
   "source": [
    "%matplotlib inline"
   ]
  },
  {
   "cell_type": "code",
   "execution_count": 15,
   "metadata": {},
   "outputs": [
    {
     "data": {
      "image/png": "[encoded data removed]",
      "text/plain": [
       "<Figure size 432x288 with 1 Axes>"
      ]
     },
     "metadata": {
      "needs_background": "light"
     },
     "output_type": "display_data"
    }
   ],
   "source": [
    "import matplotlib.pyplot as plt\n",
    "from scipy.stats import norm\n",
    "import numpy as np\n",
    "\n",
    "fig,ax = plt.subplots()\n",
    "x = np.arange(0, 100)\n",
    "avg = 50\n",
    "y = norm.pdf(x, avg, 20)\n",
    "x2 = [50, 50]\n",
    "y2 = [0, 0.025]\n",
    "\n",
    "ax.plot(x, y)\n",
    "ax.set_ylabel(\"y\")\n",
    "ax.set_xlabel(\"x\")\n",
    "ax.set_yticks([])\n",
    "ax.set_xticks([avg])\n",
    "ax.plot(x2, y2)\n",
    "\n",
    "plt.show()"
   ]
  },
  {
   "cell_type": "markdown",
   "metadata": {},
   "source": [
    "### 正規分布の確率密度関数のグラフについて\n",
    "- 確率密度関数を$a \\leqq x \\leqq b$で積分すると、確率$P_r(a \\leqq x \\leqq b)$が得られる。\n",
    "- 面積が確率を表す。"
   ]
  },
  {
   "cell_type": "markdown",
   "metadata": {},
   "source": [
    "### 正規分布$N(\\mu,{\\sigma}^2)$の確率密度関数\n",
    "$\n",
    "\\frac{1}{\\sqrt{2 \\pi \\sigma}}exp(-\\frac{{(x - \\mu)}^2}{2 {\\sigma}^2})\n",
    "$"
   ]
  },
  {
   "cell_type": "markdown",
   "metadata": {},
   "source": [
    "### 平均$\\mu$\n",
    "$\n",
    "\\frac{1}{\\sqrt{2 \\pi \\sigma}}exp(-\\frac{{(x - \\underline{\\mu})}^2}{2 {\\sigma}^2})\n",
    "$  \n",
    "\n",
    "この数式をよく見ると、$x = \\mu$を対称軸にして左右対称のグラフになることが分かる。  \n",
    "それは、$x$が${(x-\\mu)}^2$の中にしかでてこないことから分かる。"
   ]
  },
  {
   "cell_type": "markdown",
   "metadata": {},
   "source": [
    "### $x$軸と$x \\rightarrow \\infty$と$x \\rightarrow -\\infty$\n",
    "数式をよく見ると、$x \\rightarrow \\infty$と$x \\rightarrow -\\infty$で$x$軸が漸近線になっている。  \n",
    "それは、《指数部》$\\rightarrow -\\infty$になるから。  \n",
    "$\n",
    "\\frac{1}{\\sqrt{2 \\pi \\sigma}}\\underbrace{exp\\overbrace{(-\\frac{{(x - \\mu)}^2}{2 {\\sigma}^2})}}^{\\rightarrow -\\infty}_{\\rightarrow 0}\n",
    "$"
   ]
  },
  {
   "cell_type": "markdown",
   "metadata": {},
   "source": [
    "### 標準偏差$\\sigma$\n",
    "$\n",
    "\\frac{1}{\\sqrt{2 \\pi \\underline{\\sigma}}}exp(-\\frac{{(x - \\mu)}^2}{2 {\\underline{\\sigma}}^2})\n",
    "$  "
   ]
  },
  {
   "cell_type": "markdown",
   "metadata": {},
   "source": [
    "### 標準正規分布\n",
    "平均$\\mu$が$0$で、標準偏差$\\sigma$が$1$の正規分布$N(0,1^2)$は標準正規分布と呼ばれる。\n",
    "\n",
    "### 標準正規分布$N(0,1^2)$の確率密度関数\n",
    "$\n",
    "\\frac{1}{\\sqrt{2 \\pi}}exp(-\\frac{x^2}{2})\n",
    "$\n",
    "\n",
    "#### 係数の$\\sqrt{2 \\pi}$の意味\n",
    "$- \\infty$から$\\infty$までの積分が$1$になることから来てる係数。  \n",
    "起こりうる何かが起きる確率は$1$になる。  \n",
    "$\n",
    "\\int_{-\\infty}^{\\infty}\\frac{1}{\\sqrt{2 \\pi}}exp(-\\frac{x^2}{2})dx = 1\n",
    "$"
   ]
  }
 ],
 "metadata": {
  "kernelspec": {
   "display_name": "Python 3",
   "language": "python",
   "name": "python3"
  },
  "language_info": {
   "codemirror_mode": {
    "name": "ipython",
    "version": 3
   },
   "file_extension": ".py",
   "mimetype": "text/x-python",
   "name": "python",
   "nbconvert_exporter": "python",
   "pygments_lexer": "ipython3",
   "version": "3.7.2"
  }
 },
 "nbformat": 4,
 "nbformat_minor": 2
}
