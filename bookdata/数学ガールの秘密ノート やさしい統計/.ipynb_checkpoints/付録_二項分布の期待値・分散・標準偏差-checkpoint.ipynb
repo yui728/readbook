{
 "cells": [
  {
   "cell_type": "markdown",
   "metadata": {},
   "source": [
    "# 付録：二項分布の期待値・分散・標準偏差"
   ]
  },
  {
   "cell_type": "markdown",
   "metadata": {},
   "source": [
    "## 二項分布の期待値"
   ]
  },
  {
   "cell_type": "markdown",
   "metadata": {},
   "source": [
    "表が出る確率が$p$で、裏が出る確率が$q$であるコインを考える（$p+q=1$）。コイン投げの各回は独立とする。コインを$n$回投げるとき、表が出る回数を表す確率変数を$X$とすると、$X$は二項分布$B(n,p)$に従う。確率変数$X$の期待値$E[X]$は、  \n",
    "$\n",
    "E[X] = \\sum_{k=0}^{n}k \\cdot P_r(X=k)\n",
    "$  \n",
    "である。確率$P_r(X=k)$を明示的に書く。  \n",
    "$\n",
    "E[X] = \\sum_{k=0}^{n}k\\cdot\\underbrace{\\binom{n}{k}p^kq^{n-k}}_{P_r(X=k)}\n",
    "$  \n",
    "この右辺は二項定理とよく似ているので、二項定理を使って$E[X]$を表すことに使用。二項定理より、$x$と$y$に関する以下の恒等式が成り立つ。  \n",
    "$\n",
    "\\sum_{k=0}^{n} \\binom{n}{k}x^ky^{n-k} = {(x+y)}^n\n",
    "$  \n",
    "期待値と似た式を作るため、**二項定理の両辺を$x$で微分する**と次式を得る。これは$x$と$y$に関する恒等式である。  \n",
    "$\n",
    "\\sum_{k=0}^{n} \\binom{n}{k} k \\cdot x^{k-1} y^{n-k} = n{(x+y)}^{n-1}\n",
    "$  \n",
    "両辺に$x$を掛けて整理する。 \n",
    "$\n",
    "\\sum_{k=0}^{n} k \\cdot \\binom{n}{k} x^k y^{n-k}\n",
    "$  \n",
    "これは$x$と$y$に関する恒等式だから、$x$に$p$を代入し、$y$に$q$を代入しても成り立つ。  \n",
    "$\n",
    "\\sum_{k=0}^{n} k \\cdot \\binom{n}{k} p^k q^{n-k} = np{(p + q)}^{n-1}\n",
    "$  \n",
    "ここで$p + q = 1$を使うと、  \n",
    "$\n",
    "\\sum_{k=0}^{n} k \\cdot \\binom{n}{k} p^k q^{n-k} = np \\quad \\dots \\dots \\dots ♢\n",
    "$  \n",
    "を得る。これで$E[X]$が得られた。  \n",
    "$\n",
    "E[X] = \\sum_{k=0}^{n} \\cdot P_r(X=k) \\quad 期待値の定義より\n",
    "\\\\ = \\sum_{k=0}^{n} k \\cdot \\binom{n}{k} p^k q^{n-k}\n",
    "\\\\ = np \\quad ♢より\n",
    "$  \n",
    "つまり、  \n",
    "$\n",
    "E[X] = np\n",
    "$  \n",
    "である。"
   ]
  },
  {
   "cell_type": "markdown",
   "metadata": {},
   "source": [
    "## 二項分布の分散と標準偏差"
   ]
  },
  {
   "cell_type": "markdown",
   "metadata": {},
   "source": [
    "先ほど夜同じように、**二項定理の両辺を$x$で微分する**。  \n",
    "$\n",
    "\\sum_{k=0}^{n} k^2 \\cdot \\binom{n}{k} x^k y^{n-k} = nx{(x + y)}^{n-1}\n",
    "\\\\\n",
    "$  \n",
    "この**両辺をさらに$x$で微分する**。  \n",
    "$\n",
    "\\sum_{k=0}^{n} k^2 \\cdot \\binom{n}{k} x^{k-1} y^{n-k} = n{(x + y)}^{n - 1} + n(n - 1)x{(x + y)}^{n - 2}\n",
    "\\\\\n",
    "$  \n",
    "両辺に$x$を掛ける。  \n",
    "$\n",
    "\\sum_{k = 0}^{n} \\cdot \\binom{n}{k} x^k y^{n-k} = nx{(x + y)}^{n-1} + n(n-1)x^2{(x + y)}^{n-2}\n",
    "\\\\\n",
    "$  \n",
    "$x$に$p$を代入し、$y$に$q$を代入する。  \n",
    "$\n",
    "\\sum_{k = 0}^{n} \\cdot \\binom{n}{k} p^k q^{n-k} = np{(p + 1)}^{n-1} + n(n-1)p^2{(p + q)}^{n-2}\n",
    "\\\\\n",
    "$  \n",
    "$p + q = 1$を使う。  \n",
    "$\n",
    "\\sum_{k=0}^{n} \\cdot \\underbrace{\\binom{n}{k} p^k q^{n-k}}_{P_r(X = k)} = np + n(n - 1)p^2\n",
    "\\\\\n",
    "$  \n",
    "左辺は$k^2$に確率$P_r(X = k)$を掛けた和なので、$X^2$の期待値である。よって、次の式が成り立つ。  \n",
    "$\n",
    "E[X^2] = np + n(n-1)p^2 \\dots \\dots \\dots♣\n",
    "\\\\\n",
    "$  \n",
    "ここで、《分散》 = 《2乗の期待値》 - 《期待値の2乗》すなわち、  \n",
    "$\n",
    "V[X] = E[X^2] - E[X]^2 \\dots \\dots \\dots ♡\n",
    "\\\\\n",
    "$  \n",
    "を使って$V[X]$を求める。  \n",
    "$\n",
    "V[X] = E[X^2] - E[X]^2 \\quad ♡より\n",
    "\\\\ = E[X^2] - {(np)}^2 \\quad E[X] = npより\n",
    "\\\\ = np + n(n-1)p^2 - {(np)}^2 \\quad ♣より\n",
    "\\\\ = np + n(n-1)p^2 - n^2p^2 \\quad カッコを外した\n",
    "\\\\ = np + np^2 \\quad 展開して整理した\n",
    "\\\\ = np(1 - p) \\quad npでくくった\n",
    "\\\\\n",
    "$  \n",
    "したがって、標準偏差$\\sigma$は、  \n",
    "$\n",
    "\\sigma = \\sqrt{V[X]}\n",
    "\\\\ = \\sqrt{np(1-p)}\n",
    "\\\\\n",
    "$  \n",
    "となる。\n",
    "\n",
    "以上で、二項分布$B(n,p)$の期待値、分散、ならびに標準偏差が求められた。  \n",
    "$\n",
    "\\begin{cases}\n",
    "期待値 = np \\\\\n",
    "分散 = np(1-p) \\\\\n",
    "標準偏差 = \\sqrt{np(1-p)}\n",
    "\\end{cases}\n",
    "$"
   ]
  }
 ],
 "metadata": {
  "kernelspec": {
   "display_name": "Python 3",
   "language": "python",
   "name": "python3"
  },
  "language_info": {
   "codemirror_mode": {
    "name": "ipython",
    "version": 3
   },
   "file_extension": ".py",
   "mimetype": "text/x-python",
   "name": "python",
   "nbconvert_exporter": "python",
   "pygments_lexer": "ipython3",
   "version": "3.7.2"
  }
 },
 "nbformat": 4,
 "nbformat_minor": 2
}
