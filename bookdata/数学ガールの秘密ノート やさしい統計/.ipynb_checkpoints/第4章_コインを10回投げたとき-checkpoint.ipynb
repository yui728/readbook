{
 "cells": [
  {
   "cell_type": "markdown",
   "metadata": {},
   "source": [
    "# 第4章 コインを10回投げたとき"
   ]
  },
  {
   "cell_type": "markdown",
   "metadata": {},
   "source": [
    "## 4.1 村木先生の《カード》\n",
    "\n",
    "### 村木先生がテトラに渡した《カード》\n",
    "> コインを10回投げたとき、<br />表は何回出るだろう。\n",
    "\n",
    "### 僕の言葉\n",
    "コインを10回投げたとき、**いつも表が5回出るとは限らない**\n",
    "\n",
    "### テトラちゃんと僕が考えたこと\n",
    "コインを10回投げたとき、表が出る回数は0回から10回まで、どの可能性もある。たとえば、以下のように。\n",
    "\n",
    "| 回数 | 1  | 2  | 3  | 4  | 5  | 6  | 7  | 8  | 9  | 10 |\n",
    "| ---- | -- | -- | -- | -- | -- | -- | -- | -- | -- | -- |\n",
    "| 表が0回出た例 | 裏 | 裏 | 裏 | 裏 | 裏 | 裏 | 裏 | 裏 | 裏 | 裏 |\n",
    "| 表が1回出た例 | 裏 | 裏 | <p style='color: red'>表</p> | 裏 | 裏 | 裏 | 裏 | 裏 | 裏 | 裏 |\n",
    "| 表が2回出た例 | <p style='color: red'>表</p> | 裏 | 裏 | 裏 | 裏 | 裏 | <p style='color: red'>表</p> | 裏 | 裏 | 裏 |\n",
    "| 表が3回出た例 | 裏 | <p style='color: red'>表</p> | 裏 | 裏 | <p style='color: red'>表</p> | 裏 | 裏 | 裏 | <p style='color: red'>表</p> | 裏 |\n",
    "| 表が4回出た例 | 裏 | <p style='color: red'>表</p> | <p style='color: red'>表</p> | 裏 | 裏 | 表 | <p style='color: red'>表</p> | 裏 | 裏 | <p style='color: red'>表</p> |\n",
    "| 表が5回出た例 | 裏 | 裏 | <p style='color: red'>表</p> | 裏 | <p style='color: red'>表</p> | 裏 | <p style='color: red'>表</p> | <p style='color: red'>表</p> | <p style='color: red'>表</p> | 裏 |\n",
    "| 表が6回出た例 | 裏 | <p style='color: red'>表</p> | <p style='color: red'>表</p> | 裏 | <p style='color: red'>表</p> | <p style='color: red'>表</p> | <p style='color: red'>表</p> | <p style='color: red'>表</p> | 裏 | 裏 |\n",
    "| 表が7回出た例 | <p style='color: red'>表</p> | 裏 | <p style='color: red'>表</p> | <p style='color: red'>表</p> | 裏 | <p style='color: red'>表</p> | <p style='color: red'>表</p> | <p style='color: red'>表</p> | <p style='color: red'>表</p> | 表 |\n",
    "| 表が8回出た例 | <p style='color: red'>表</p> | 裏 | <p style='color: red'>表</p> | <p style='color: red'>表</p> | 裏 | <p style='color: red'>表</p> | <p style='color: red'>表</p> | <p style='color: red'>表</p> | <p style='color: red'>表</p> | <p style='color: red'>表</p> |\n",
    "| 表が9回出た例 | <p style='color: red'>表</p> | <p style='color: red'>表</p> | <p style='color: red'>表</p> | 裏 | <p style='color: red'>表</p> | <p style='color: red'>表</p> | <p style='color: red'>表</p> | <p style='color: red'>表</p> | <p style='color: red'>表</p> | <p style='color: red'>表</p> |\n",
    "| 表が10回出た例 | <p style='color: red'>表</p> | <p style='color: red'>表</p> | <p style='color: red'>表</p> | <p style='color: red'>表</p> | <p style='color: red'>表</p> | <p style='color: red'>表</p> | <p style='color: red'>表</p> | <p style='color: red'>表</p> | <p style='color: red'>表</p> | <p style='color: red'>表</p> |\n",
    "\n",
    "\n",
    "### テトラの考え\n",
    "村木先生の《カード》に対して、《表は何回出る》と正確に答えることは出来ないが、この《カード》で尋ねられているのは、おおよそ何回*くらい*表が出るだろうかということだと思う。 \n",
    "\n",
    "### 僕のヒント\n",
    "コインを10回投げたときの《表が出る回数》の平均と標準偏差を求めたらおもしろいかも"
   ]
  },
  {
   "cell_type": "markdown",
   "metadata": {},
   "source": [
    "## 4.2 《表が出る回数》の平均"
   ]
  },
  {
   "cell_type": "markdown",
   "metadata": {},
   "source": [
    "### 問題1（平均$\\mu$を求める）\n",
    "コインを$10$回投げたときの《表が出る回数》の平均$\\mu$を求めよ。"
   ]
  },
  {
   "cell_type": "markdown",
   "metadata": {},
   "source": [
    "#### テトラの考えた《表が出る回数》の平均（？）\n",
    "$\\frac{0 + 1 + 2 + 3 + 4 + 5 + 6 + 7 + 8 + 9+ 10}{11} = \\frac{55}{11} = 5$"
   ]
  },
  {
   "cell_type": "markdown",
   "metadata": {},
   "source": [
    "#### 僕の指摘\n",
    "- 僕たちが知りたいのは、《コインを10回投げる》という**試行**を何セットも繰り返したとき、平均したら《表が何回出るか》ということ。\n",
    "- テトラの書いた式では、《表が0回出る》～《表が10回出る》という11通りの全ての場合が***ぜんぶ等しい確率で起こる***と考えているようだ。\n",
    "- **期待値**：《表が出る回数》の平均的な値、《表が出る回数》に、《その回数になる確率》をかけて、足し合わせる。"
   ]
  },
  {
   "cell_type": "markdown",
   "metadata": {},
   "source": [
    "#### コインを10回投げたときの、《表が出る回数》の期待値\n",
    "《表が出る回数》の期待値は、<br />\n",
    "$\n",
    "0 \\cdot P_0 + 1 \\cdot P_1 + 2 \\cdot P_2 + \\dots + 10 \\dots P_{10}\n",
    "$<br />\n",
    "で求められる。ただし、$P_k$は《表が$k$回出る確率》とする。"
   ]
  },
  {
   "cell_type": "markdown",
   "metadata": {},
   "source": [
    "### 平均と期待値\n",
    "- 平均は期待値と同じと考えて良い\n",
    "- 期待値という言葉は、**確率変数**に対して使う"
   ]
  },
  {
   "cell_type": "markdown",
   "metadata": {},
   "source": [
    "### 確率変数\n",
    "- 試行を行うたびに、具体的な値が決まるもののこと\n",
    "  - 例：《コインを10回投げる》という試行で、《表が出る回数》のこと"
   ]
  },
  {
   "cell_type": "markdown",
   "metadata": {},
   "source": [
    "### 確率変数と期待値\n",
    "- 確率変数：試行のたびに具体的な値が決まるもの\n",
    "- 期待値：確率変数の平均的な値<br />$\\therefore$ 期待値と平均はほとんど同じ意味"
   ]
  },
  {
   "cell_type": "markdown",
   "metadata": {},
   "source": [
    "## 4.3 表が$k$回出る確率$P_k$"
   ]
  },
  {
   "cell_type": "markdown",
   "metadata": {},
   "source": [
    "### 問題2（確率を求める）\n",
    "コインを$10$回投げるとき、表が$k$回出る確率を$P_k$とする。<br />\n",
    "$P_k$を求めよ。"
   ]
  },
  {
   "cell_type": "markdown",
   "metadata": {},
   "source": [
    "#### テトラと僕の考え\n",
    "まず<br />\n",
    "《表が$k$回出る確率$P_k$》$\\quad=\\quad \\frac{《表がk回出る場合の数》}{《すべての場合の数》}$<br />\n",
    "《すべての場合の数》と言うのは、《コインを10回投げた時の全ての表裏の組み合わせ》なので、<br />\n",
    "$\\underbrace{2 \\times 2 \\times 2 \\times 2 \\times 2 \\times 2 \\times 2 \\times 2 \\times 2 \\times 2}_{10個} = 2^{10}$<br />\n",
    "そして、$10$回のうち表が$k$回出る*場合の数*は、$10$枚から$k$枚を選ぶ*組み合わせ*を考えればいいので、<br />\n",
    "$\n",
    "{}_{10}C_k = \\binom{10}{k} = \\frac{10!}{k!(10-k)!}\n",
    "$<br />\n",
    "となる。"
   ]
  },
  {
   "cell_type": "markdown",
   "metadata": {},
   "source": [
    "### 解答2（確率を求める）\n",
    "コインを$10$回投げたとき、表が$k$回出る確率$P_k$は、<br />\n",
    "$P_k = \\frac{1}{2^{10}} \\cdot \\binom{10}{k} = \\frac{1}{2^{10}} \\cdot \\frac{10!}{k!(10-k)}$<br />\n",
    "で求められる。"
   ]
  },
  {
   "cell_type": "markdown",
   "metadata": {},
   "source": [
    "### テトラの計算\n",
    "$\n",
    "P_0 = \\frac{1}{2^{10}} \\cdot \\frac{10!}{0!(10-0)!}\n",
    "\\\\ = \\frac{1}{2^{10}} \\cdot \\frac{10!}{1 \\cdot 10!}\\quad 0! = 1だから\n",
    "\\\\ = \\frac{1}{2^{10}} \\quad 10!で約分\n",
    "$\n",
    "\n",
    "**僕**：$P_0$は《表が0回出る確率》のことだから、10回すべてが裏のとき。<br />\n",
    "それは、$2^{10}$通りのうちたった$\\underline{1通り}\\quad$しかない。<br />\n",
    "それで、$\\underline{P_0 = \\frac{1}{2^{10}}の分子は1}\\quad$になってる。\n",
    "\n",
    "\n",
    "$\n",
    "P_1 = \\frac{1}{2^{10}} \\cdot \\frac{10!}{1!(10-1)!}\n",
    "\\\\ = \\frac{1}{2^{10}} \\cdot \\frac{10!}{9!}\n",
    "\\\\ = \\frac{1}{2^{10}} \\cdot \\frac{10 \\times 9!}{9!}\\quad 10! = 10 \\times 9!だから\n",
    "\\\\ = \\frac{10}{2^{10}} \\quad 9!で約分\n",
    "$"
   ]
  },
  {
   "cell_type": "code",
   "execution_count": null,
   "metadata": {},
   "outputs": [],
   "source": []
  }
 ],
 "metadata": {
  "kernelspec": {
   "display_name": "Python 3",
   "language": "python",
   "name": "python3"
  },
  "language_info": {
   "codemirror_mode": {
    "name": "ipython",
    "version": 3
   },
   "file_extension": ".py",
   "mimetype": "text/x-python",
   "name": "python",
   "nbconvert_exporter": "python",
   "pygments_lexer": "ipython3",
   "version": "3.7.2"
  }
 },
 "nbformat": 4,
 "nbformat_minor": 2
}
