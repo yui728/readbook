{
 "cells": [
  {
   "cell_type": "markdown",
   "metadata": {},
   "source": [
    "# 第4章 コインを10回投げたとき"
   ]
  },
  {
   "cell_type": "markdown",
   "metadata": {},
   "source": [
    "## 4.1 村木先生の《カード》\n",
    "\n",
    "### 村木先生がテトラに渡した《カード》\n",
    "> コインを10回投げたとき、<br />表は何回出るだろう。\n",
    "\n",
    "### 僕の言葉\n",
    "コインを10回投げたとき、**いつも表が5回出るとは限らない**\n",
    "\n",
    "### テトラちゃんと僕が考えたこと\n",
    "コインを10回投げたとき、表が出る回数は0回から10回まで、どの可能性もある。たとえば、以下のように。\n",
    "\n",
    "| 回数 | 1  | 2  | 3  | 4  | 5  | 6  | 7  | 8  | 9  | 10 |\n",
    "| ---- | -- | -- | -- | -- | -- | -- | -- | -- | -- | -- |\n",
    "| 表が0回出た例 | 裏 | 裏 | 裏 | 裏 | 裏 | 裏 | 裏 | 裏 | 裏 | 裏 |\n",
    "| 表が1回出た例 | 裏 | 裏 | <p style='color: red'>表</p> | 裏 | 裏 | 裏 | 裏 | 裏 | 裏 | 裏 |\n",
    "| 表が2回出た例 | <p style='color: red'>表</p> | 裏 | 裏 | 裏 | 裏 | 裏 | <p style='color: red'>表</p> | 裏 | 裏 | 裏 |\n",
    "| 表が3回出た例 | 裏 | <p style='color: red'>表</p> | 裏 | 裏 | <p style='color: red'>表</p> | 裏 | 裏 | 裏 | <p style='color: red'>表</p> | 裏 |\n",
    "| 表が4回出た例 | 裏 | <p style='color: red'>表</p> | <p style='color: red'>表</p> | 裏 | 裏 | 表 | <p style='color: red'>表</p> | 裏 | 裏 | <p style='color: red'>表</p> |\n",
    "| 表が5回出た例 | 裏 | 裏 | <p style='color: red'>表</p> | 裏 | <p style='color: red'>表</p> | 裏 | <p style='color: red'>表</p> | <p style='color: red'>表</p> | <p style='color: red'>表</p> | 裏 |\n",
    "| 表が6回出た例 | 裏 | <p style='color: red'>表</p> | <p style='color: red'>表</p> | 裏 | <p style='color: red'>表</p> | <p style='color: red'>表</p> | <p style='color: red'>表</p> | <p style='color: red'>表</p> | 裏 | 裏 |\n",
    "| 表が7回出た例 | <p style='color: red'>表</p> | 裏 | <p style='color: red'>表</p> | <p style='color: red'>表</p> | 裏 | <p style='color: red'>表</p> | <p style='color: red'>表</p> | <p style='color: red'>表</p> | <p style='color: red'>表</p> | 表 |\n",
    "| 表が8回出た例 | <p style='color: red'>表</p> | 裏 | <p style='color: red'>表</p> | <p style='color: red'>表</p> | 裏 | <p style='color: red'>表</p> | <p style='color: red'>表</p> | <p style='color: red'>表</p> | <p style='color: red'>表</p> | <p style='color: red'>表</p> |\n",
    "| 表が9回出た例 | <p style='color: red'>表</p> | <p style='color: red'>表</p> | <p style='color: red'>表</p> | 裏 | <p style='color: red'>表</p> | <p style='color: red'>表</p> | <p style='color: red'>表</p> | <p style='color: red'>表</p> | <p style='color: red'>表</p> | <p style='color: red'>表</p> |\n",
    "| 表が10回出た例 | <p style='color: red'>表</p> | <p style='color: red'>表</p> | <p style='color: red'>表</p> | <p style='color: red'>表</p> | <p style='color: red'>表</p> | <p style='color: red'>表</p> | <p style='color: red'>表</p> | <p style='color: red'>表</p> | <p style='color: red'>表</p> | <p style='color: red'>表</p> |\n",
    "\n",
    "\n",
    "### テトラの考え\n",
    "村木先生の《カード》に対して、《表は何回出る》と正確に答えることは出来ないが、この《カード》で尋ねられているのは、おおよそ何回*くらい*表が出るだろうかということだと思う。 \n",
    "\n",
    "### 僕のヒント\n",
    "コインを10回投げたときの《表が出る回数》の平均と標準偏差を求めたらおもしろいかも"
   ]
  },
  {
   "cell_type": "markdown",
   "metadata": {},
   "source": [
    "## 4.2 《表が出る回数》の平均"
   ]
  },
  {
   "cell_type": "markdown",
   "metadata": {},
   "source": [
    "### 問題1（平均$\\mu$を求める）\n",
    "コインを$10$回投げたときの《表が出る回数》の平均$\\mu$を求めよ。"
   ]
  },
  {
   "cell_type": "code",
   "execution_count": null,
   "metadata": {},
   "outputs": [],
   "source": []
  }
 ],
 "metadata": {
  "kernelspec": {
   "display_name": "Python 3",
   "language": "python",
   "name": "python3"
  },
  "language_info": {
   "codemirror_mode": {
    "name": "ipython",
    "version": 3
   },
   "file_extension": ".py",
   "mimetype": "text/x-python",
   "name": "python",
   "nbconvert_exporter": "python",
   "pygments_lexer": "ipython3",
   "version": "3.7.2"
  }
 },
 "nbformat": 4,
 "nbformat_minor": 2
}
