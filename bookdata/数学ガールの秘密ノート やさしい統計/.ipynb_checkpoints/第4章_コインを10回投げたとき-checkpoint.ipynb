{
 "cells": [
  {
   "cell_type": "markdown",
   "metadata": {},
   "source": [
    "# 第4章 コインを10回投げたとき"
   ]
  },
  {
   "cell_type": "markdown",
   "metadata": {},
   "source": [
    "## 4.1 村木先生の《カード》\n",
    "\n",
    "### 村木先生がテトラに渡した《カード》\n",
    "> コインを10回投げたとき、<br />表は何回出るだろう。\n",
    "\n",
    "### 僕の言葉\n",
    "コインを10回投げたとき、**いつも表が5回出るとは限らない**\n",
    "\n",
    "### テトラちゃんと僕が考えたこと\n",
    "コインを10回投げたとき、表が出る回数は0回から10回まで、どの可能性もある。たとえば、以下のように。\n",
    "\n",
    "| 回数 | 1  | 2  | 3  | 4  | 5  | 6  | 7  | 8  | 9  | 10 |\n",
    "| ---- | -- | -- | -- | -- | -- | -- | -- | -- | -- | -- |\n",
    "| 表が0回出た例 | 裏 | 裏 | 裏 | 裏 | 裏 | 裏 | 裏 | 裏 | 裏 | 裏 |\n",
    "| 表が1回出た例 | 裏 | 裏 | <p style='color: red'>表</p> | 裏 | 裏 | 裏 | 裏 | 裏 | 裏 | 裏 |\n",
    "| 表が2回出た例 | <p style='color: red'>表</p> | 裏 | 裏 | 裏 | 裏 | 裏 | <p style='color: red'>表</p> | 裏 | 裏 | 裏 |\n",
    "| 表が3回出た例 | 裏 | <p style='color: red'>表</p> | 裏 | 裏 | <p style='color: red'>表</p> | 裏 | 裏 | 裏 | <p style='color: red'>表</p> | 裏 |\n",
    "| 表が4回出た例 | 裏 | <p style='color: red'>表</p> | <p style='color: red'>表</p> | 裏 | 裏 | 表 | <p style='color: red'>表</p> | 裏 | 裏 | <p style='color: red'>表</p> |\n",
    "| 表が5回出た例 | 裏 | 裏 | <p style='color: red'>表</p> | 裏 | <p style='color: red'>表</p> | 裏 | <p style='color: red'>表</p> | <p style='color: red'>表</p> | <p style='color: red'>表</p> | 裏 |\n",
    "| 表が6回出た例 | 裏 | <p style='color: red'>表</p> | <p style='color: red'>表</p> | 裏 | <p style='color: red'>表</p> | <p style='color: red'>表</p> | <p style='color: red'>表</p> | <p style='color: red'>表</p> | 裏 | 裏 |\n",
    "| 表が7回出た例 | <p style='color: red'>表</p> | 裏 | <p style='color: red'>表</p> | <p style='color: red'>表</p> | 裏 | <p style='color: red'>表</p> | <p style='color: red'>表</p> | <p style='color: red'>表</p> | <p style='color: red'>表</p> | 表 |\n",
    "| 表が8回出た例 | <p style='color: red'>表</p> | 裏 | <p style='color: red'>表</p> | <p style='color: red'>表</p> | 裏 | <p style='color: red'>表</p> | <p style='color: red'>表</p> | <p style='color: red'>表</p> | <p style='color: red'>表</p> | <p style='color: red'>表</p> |\n",
    "| 表が9回出た例 | <p style='color: red'>表</p> | <p style='color: red'>表</p> | <p style='color: red'>表</p> | 裏 | <p style='color: red'>表</p> | <p style='color: red'>表</p> | <p style='color: red'>表</p> | <p style='color: red'>表</p> | <p style='color: red'>表</p> | <p style='color: red'>表</p> |\n",
    "| 表が10回出た例 | <p style='color: red'>表</p> | <p style='color: red'>表</p> | <p style='color: red'>表</p> | <p style='color: red'>表</p> | <p style='color: red'>表</p> | <p style='color: red'>表</p> | <p style='color: red'>表</p> | <p style='color: red'>表</p> | <p style='color: red'>表</p> | <p style='color: red'>表</p> |\n",
    "\n",
    "\n",
    "### テトラの考え\n",
    "村木先生の《カード》に対して、《表は何回出る》と正確に答えることは出来ないが、この《カード》で尋ねられているのは、おおよそ何回*くらい*表が出るだろうかということだと思う。 \n",
    "\n",
    "### 僕のヒント\n",
    "コインを10回投げたときの《表が出る回数》の平均と標準偏差を求めたらおもしろいかも"
   ]
  },
  {
   "cell_type": "markdown",
   "metadata": {},
   "source": [
    "## 4.2 《表が出る回数》の平均"
   ]
  },
  {
   "cell_type": "markdown",
   "metadata": {},
   "source": [
    "### 問題1（平均$\\mu$を求める）\n",
    "コインを$10$回投げたときの《表が出る回数》の平均$\\mu$を求めよ。"
   ]
  },
  {
   "cell_type": "markdown",
   "metadata": {},
   "source": [
    "#### テトラの考えた《表が出る回数》の平均（？）\n",
    "$\\frac{0 + 1 + 2 + 3 + 4 + 5 + 6 + 7 + 8 + 9+ 10}{11} = \\frac{55}{11} = 5$"
   ]
  },
  {
   "cell_type": "markdown",
   "metadata": {},
   "source": [
    "#### 僕の指摘\n",
    "- 僕たちが知りたいのは、《コインを10回投げる》という**試行**を何セットも繰り返したとき、平均したら《表が何回出るか》ということ。\n",
    "- テトラの書いた式では、《表が0回出る》～《表が10回出る》という11通りの全ての場合が***ぜんぶ等しい確率で起こる***と考えているようだ。\n",
    "- **期待値**：《表が出る回数》の平均的な値、《表が出る回数》に、《その回数になる確率》をかけて、足し合わせる。"
   ]
  },
  {
   "cell_type": "markdown",
   "metadata": {},
   "source": [
    "#### コインを10回投げたときの、《表が出る回数》の期待値\n",
    "《表が出る回数》の期待値は、<br />\n",
    "$\n",
    "0 \\cdot P_0 + 1 \\cdot P_1 + 2 \\cdot P_2 + \\dots + 10 \\dots P_{10}\n",
    "$<br />\n",
    "で求められる。ただし、$P_k$は《表が$k$回出る確率》とする。"
   ]
  },
  {
   "cell_type": "markdown",
   "metadata": {},
   "source": [
    "### 平均と期待値\n",
    "- 平均は期待値と同じと考えて良い\n",
    "- 期待値という言葉は、**確率変数**に対して使う"
   ]
  },
  {
   "cell_type": "markdown",
   "metadata": {},
   "source": [
    "### 確率変数\n",
    "- 試行を行うたびに、具体的な値が決まるもののこと\n",
    "  - 例：《コインを10回投げる》という試行で、《表が出る回数》のこと"
   ]
  },
  {
   "cell_type": "markdown",
   "metadata": {},
   "source": [
    "### 確率変数と期待値\n",
    "- 確率変数：試行のたびに具体的な値が決まるもの\n",
    "- 期待値：確率変数の平均的な値<br />$\\therefore$ 期待値と平均はほとんど同じ意味"
   ]
  },
  {
   "cell_type": "markdown",
   "metadata": {},
   "source": [
    "## 4.3 表が$k$回出る確率$P_k$"
   ]
  },
  {
   "cell_type": "markdown",
   "metadata": {},
   "source": [
    "### 問題2（確率を求める）\n",
    "コインを$10$回投げるとき、表が$k$回出る確率を$P_k$とする。<br />\n",
    "$P_k$を求めよ。"
   ]
  },
  {
   "cell_type": "markdown",
   "metadata": {},
   "source": [
    "#### テトラと僕の考え\n",
    "まず<br />\n",
    "《表が$k$回出る確率$P_k$》$\\quad=\\quad \\frac{《表がk回出る場合の数》}{《すべての場合の数》}$<br />\n",
    "《すべての場合の数》と言うのは、《コインを10回投げた時の全ての表裏の組み合わせ》なので、<br />\n",
    "$\\underbrace{2 \\times 2 \\times 2 \\times 2 \\times 2 \\times 2 \\times 2 \\times 2 \\times 2 \\times 2}_{10個} = 2^{10}$<br />\n",
    "そして、$10$回のうち表が$k$回出る*場合の数*は、$10$枚から$k$枚を選ぶ*組み合わせ*を考えればいいので、<br />\n",
    "$\n",
    "{}_{10}C_k = \\binom{10}{k} = \\frac{10!}{k!(10-k)!}\n",
    "$<br />\n",
    "となる。"
   ]
  },
  {
   "cell_type": "markdown",
   "metadata": {},
   "source": [
    "### 解答2（確率を求める）\n",
    "コインを$10$回投げたとき、表が$k$回出る確率$P_k$は、<br />\n",
    "$P_k = \\frac{1}{2^{10}} \\cdot \\binom{10}{k} = \\frac{1}{2^{10}} \\cdot \\frac{10!}{k!(10-k)}$<br />\n",
    "で求められる。"
   ]
  },
  {
   "cell_type": "markdown",
   "metadata": {},
   "source": [
    "### テトラの計算\n",
    "$\n",
    "P_0 = \\frac{1}{2^{10}} \\cdot \\frac{10!}{0!(10-0)!}\n",
    "\\\\ = \\frac{1}{2^{10}} \\cdot \\frac{10!}{1 \\cdot 10!}\\quad 0! = 1だから\n",
    "\\\\ = \\frac{1}{2^{10}} \\quad 10!で約分\n",
    "$\n",
    "\n",
    "僕：$P_0$は《表が0回出る確率》のことだから、10回すべてが裏のとき。<br />\n",
    "それは、$2^{10}$通りのうちたった$\\underline{1通り}\\quad$しかない。<br />\n",
    "それで、$\\underline{P_0 = \\frac{1}{2^{10}}の分子は1}\\quad$になってる。\n",
    "\n",
    "\n",
    "\n",
    "$\n",
    "P_1 = \\frac{1}{2^{10}} \\cdot \\frac{10!}{1!(10-1)!}\n",
    "\\\\ = \\frac{1}{2^{10}} \\cdot \\frac{10!}{9!}\n",
    "\\\\ = \\frac{1}{2^{10}} \\cdot \\frac{10 \\times 9!}{9!}\\quad 10! = 10 \\times 9!だから\n",
    "\\\\ = \\frac{10}{2^{10}} \\quad 9!で約分\n",
    "$\n",
    "\n",
    "\n",
    "$\n",
    "P_2 = \\frac{1}{2^{10}} \\cdot \\frac{10!}{2!(10 - 2)!}\n",
    "\\\\ = \\frac{1}{2^{10}} \\cdot \\frac{10!}{2 \\cdot 8!} \\quad 2! = 2 \\times 1 = 2だから\n",
    "\\\\ = \\frac{1}{2^{10}} \\cdot \\frac{10 \\times 9 \\times 8!}{2 \\cdot 8!} \\quad 10! = 10 \\times 9 \\times 8!だから\n",
    "\\\\ = \\frac{1}{2^{10}} \\cdot \\frac{10 \\times 9}{2} \\quad 8!で約分\n",
    "\\\\ = \\frac{45}{2^{10}}\n",
    "$\n",
    "\n",
    "\n",
    "\n",
    "僕：$\\underline{P_0 = \\frac{1}{2^{10}}の分子は1\\quad}$、$\\underline{P_1 = \\frac{10}{2^{10}}の分子は10\\quad}$、$\\underline{P_2 = \\frac{45}{2^{10}}の分子は45\\quad}$。<br />\n",
    "$1, 10, 45, ...$何かに気づかない？<br />\n",
    "$1, 10, 45, ...$は***パスカルの三角形***になるから、それを使えば良いよ。"
   ]
  },
  {
   "cell_type": "markdown",
   "metadata": {},
   "source": [
    "## 4.4 パスカルの三角形"
   ]
  },
  {
   "cell_type": "markdown",
   "metadata": {},
   "source": [
    "### パスカルの三角形\n",
    "$$\n",
    "1\n",
    "\\\\ 1 \\quad 1\n",
    "\\\\ 1 \\quad 2 \\quad 1\n",
    "\\\\ 1 \\quad 3 \\quad 3 \\quad 1\n",
    "\\\\ 1 \\quad 4 \\quad 6 \\quad 4 \\quad 1\n",
    "\\\\ 1 \\quad 5 \\quad 10 \\quad 10 \\quad 5 \\quad 1\n",
    "\\\\ 1 \\quad 6 \\quad 15 \\quad 20 \\quad 15 \\quad 6 \\quad 1\n",
    "\\\\ 1 \\quad 7 \\quad 21 \\quad 35 \\quad 34 \\quad 21 \\quad 7 \\quad 1\n",
    "\\\\ 1 \\quad 8 \\quad 28 \\quad 56 \\quad 70 \\quad 56 \\quad 28 \\quad 8 \\quad 1\n",
    "\\\\ 1 \\quad 9 \\quad 36 \\quad 84 \\quad 126 \\quad 126 \\quad 84 \\quad 36 \\quad 9 \\quad 1\n",
    "\\\\ 1 \\quad 10 \\quad 45 \\quad 120 \\quad 210 \\quad 252 \\quad 210 \\quad 120 \\quad 45 \\quad 10 \\quad 1\n",
    "$$\n",
    "\n",
    "\n",
    "#### 作り方\n",
    "1. 各行の両端を1とする。\n",
    "1. 隣り合った数を足しあったものを次の行の数とする。"
   ]
  },
  {
   "cell_type": "markdown",
   "metadata": {},
   "source": [
    "### 《表が出る回数のグラフ》"
   ]
  },
  {
   "cell_type": "code",
   "execution_count": 3,
   "metadata": {},
   "outputs": [],
   "source": [
    "%matplotlib inline"
   ]
  },
  {
   "cell_type": "code",
   "execution_count": 8,
   "metadata": {},
   "outputs": [
    {
     "data": {
      "image/png": "[encoded data removed]",
      "text/plain": [
       "<Figure size 432x288 with 1 Axes>"
      ]
     },
     "metadata": {
      "needs_background": "light"
     },
     "output_type": "display_data"
    }
   ],
   "source": [
    "import matplotlib.pyplot as plt\n",
    "\n",
    "fig, ax = plt.subplots()\n",
    "data_x = [d for d in range(11)]\n",
    "data_y = [1, 10, 45, 120, 210, 252, 210, 120, 45, 10, 1]\n",
    "\n",
    "ax.set_title(\"表が出る回数と場合の数\")\n",
    "ax.set_xlabel(\"表が出る回数（回）\")\n",
    "ax.set_ylabel(\"場合の数（通り）\")\n",
    "ax.set_ylim(0, 300)\n",
    "ax.set_yticks([d * 100 for d in range(3)])\n",
    "ax.set_xticks(data_x)\n",
    "ax.grid(False)\n",
    "ax.grid(axis = \"y\", linewidth = 1)\n",
    "\n",
    "ax.bar(data_x, data_y, edgecolor = 'black', width = 1)\n",
    "\n",
    "for x, y in zip(data_x, data_y):\n",
    "    plt.text(x, y, y, ha='center', va='bottom')"
   ]
  },
  {
   "cell_type": "markdown",
   "metadata": {},
   "source": [
    "### テトラの計算"
   ]
  },
  {
   "cell_type": "markdown",
   "metadata": {},
   "source": [
    "$\n",
    "\\mu = 0 \\cdot P_0 + 1 \\cdot P_1 + 2 \\cdot P_2 + \\cdots + 10 \\cdot P_{10}\n",
    "\\\\ = 0 \\cdot \\frac{1}{2^{10}} \\binom{10}{0} + 1 \\cdot \\frac{1}{2^{10}} \\binom{10}{1} + 2 \\cdot \\frac{1}{2^{10}} \\binom{10}{2} + \\cdots + 10 \\cdot \\frac{1}{2^{10}} \\binom{10}{10}\n",
    "\\\\ = \\frac{1}{2^{10}} \\left\\{ 0 \\cdot \\binom{10}{0} + 1 \\cdot \\binom{10}{1} + 2 \\cdot \\binom{10}{2} + \\cdots + 10 \\cdot \\binom{10}{10} \\right\\}\n",
    "\\\\ = \\frac{1}{2^{10}} \\left( 0 \\cdot 1 + 1 \\cdot 10 + 2 \\cdot 45 + 3 \\cdot 120 + 4 \\cdot 210 + 5 \\cdot 252 + 6 \\cdot 210 + 7 \\cdot 120 + 8 \\cdot 45 + 9 \\cdot 10 + 10 \\cdot 1 \\right)\n",
    "\\\\ = ええと\\cdots\n",
    "$"
   ]
  },
  {
   "cell_type": "markdown",
   "metadata": {},
   "source": [
    "### 僕のアドバイス\n",
    "- 対称性を利用する\n",
    "  - パスカルの三角形は左右対称<br />→上手く組み合わせると掛け算を減らすことができる。<br />→ここでは、$1, 10 ,45, 120, 210$を掛けているもの同士をまとめるとよい。"
   ]
  },
  {
   "cell_type": "markdown",
   "metadata": {},
   "source": [
    "### テトラの計算：対称性を使って再チャレンジ\n",
    "$\n",
    "\\mu = \\frac{1}{2^{10}} \\left( 0 \\cdot \\underline{1} + 1 \\cdot \\underline{10} + 2 \\cdot \\underline{45} + 3 \\cdot \\underline{120} + 4 \\cdot \\underline{210} + 5 \\cdot 252 + 6 \\cdot \\underline{210} + 7 \\cdot \\underline{120} + 8 \\cdot \\underline{45} + 9 \\cdot \\underline{10} + 10 \\cdot \\underline{1} \\right)\n",
    "\\\\ = \\frac{1}{2^{10}} \\left( \\left( 0 + 10 \\right) \\cdot \\underline{1} + \\left( 1 + 9 \\right) \\cdot \\underline{10} + \\left( 2 + 8 \\right) \\cdot \\underline{45} + \\left( 3 + 7 \\right) \\cdot \\underline{120} + \\left( 4 + 6 \\right) \\cdot \\underline{210} + 5 \\cdot 252 \\right)\n",
    "\\\\ = \\frac{1}{2^{10}} \\left( 10 \\cdot 1 + 10 \\cdot 10 + 10 \\cdot 45 + 10 \\cdot 120 + 10 \\cdot 210 + 5 \\cdot 252 \\right)\n",
    "$\n",
    "\n",
    "$10$でまとめて……\n",
    "\n",
    "$\n",
    "\\mu = \\frac{1}{2^{10}} \\left( \\underline{10} \\cdot 1 + \\underline{10} \\cdot 10 + \\underline{10} \\cdot 45 + \\underline{10} \\cdot 120 + \\underline{10} \\cdot 210 + 5 \\cdot 252 \\right)\n",
    "\\\\ = \\frac{1}{2^{10}} \\left( \\underline{10} \\cdot \\left( 1 + 10 + 45 + 120 + 210 \\right) + 5 \\cdot 252 \\right)\n",
    "\\\\ = \\frac{1}{2^{10}} \\left( 10 \\cdot 386 + 5 \\cdot 252 \\right)\n",
    "\\\\ = \\frac{1}{2^{10}} \\left( 3860 + 1260 \\right)\n",
    "\\\\ = \\frac{5120}{1024}\n",
    "\\\\ = 5\n",
    "$"
   ]
  },
  {
   "cell_type": "markdown",
   "metadata": {},
   "source": [
    "### 解答1（平均を求める）\n",
    "コインを$10$回投げるとき、《おもてが出る回数》の平均（期待値）を$\\mu$とすると、<br />\n",
    "$\\mu = 5$<br />\n",
    "である。"
   ]
  },
  {
   "cell_type": "markdown",
   "metadata": {},
   "source": [
    "### テトラの気づき\n",
    "- $\\mu = 5$はあたりまえではないか？\n",
    "  - パスカルの三角形は*左右対称*。<br />ということは、期待値が0から10のちょうど真ん中に来るのはあたりまえではないか。\n",
    "- 僕：平均 = 重心だから、あたりまえだね。"
   ]
  },
  {
   "cell_type": "markdown",
   "metadata": {},
   "source": [
    "## 4.5 二項定理"
   ]
  },
  {
   "cell_type": "markdown",
   "metadata": {},
   "source": [
    "### 二項定理\n",
    "$\n",
    "{(x + y)}^2\n",
    "\\\\ = \\binom{n}{0}x^0y^{n-0}+\\binom{n}{1}x^1y^{n-1}+\\binom{n}{2}x^2y^{n-2}+\\dots+\\binom{n}{n}x^ny^{n-n}\n",
    "\\\\ = \\sum_{k=0}^{n}\\binom{n}{k}x^ky^{n-k}\n",
    "$"
   ]
  },
  {
   "cell_type": "markdown",
   "metadata": {},
   "source": [
    "### 二項定理となにが似ている？\n",
    "- 二項定理：${(x+y)}^2$を展開する式<br />→展開のときには《$x$と$y$のどちらを選ぶか》というのを《$n$回》繰り返す<br />→$x$を表、$y$を裏と考えると、同じことをしている。"
   ]
  },
  {
   "cell_type": "markdown",
   "metadata": {},
   "source": [
    "## 4.6 《表が出る回数》の標準偏差"
   ]
  },
  {
   "cell_type": "markdown",
   "metadata": {},
   "source": [
    "### 問題3（標準偏差$\\sigma$を求める）\n",
    "コインを$10$回投げるとき、《表が出る回数》の標準偏差$\\sigma$を求めよ。"
   ]
  },
  {
   "cell_type": "markdown",
   "metadata": {},
   "source": [
    "#### 標準偏差$\\sigma$の求め方をおさらいしよう\n",
    "1. $\\sigma \\, = \\, \\sqrt{分散}$\n",
    "1. 分散は《偏差の2乗の*平均*》、つまり《偏差の2乗の*期待値*》<br />→偏差の2乗に確率という重みを掛ける\n",
    "\n",
    "$\n",
    "{\\sigma}^2 = \\underbrace{{(0-5)}^2}_{偏差の2乗}P_0 + \\underbrace{{(1-5)}^2}_{偏差の2乗}P_1 + \\underbrace{{(2-5)}^2}_{偏差の2乗}P_2 + \\dots + \\underbrace{{(10-5)}^2}_{偏差の2乗}P_{10}\n",
    "$\n",
    "\n",
    "5を引いているのは、平均が5だから。\n",
    "\n",
    "$k \\quad $《表が出る回数》\n",
    "\n",
    "$ k - \\mu \\quad $《表が出る回数》の偏差\n",
    "\n",
    "$ {(k - \\mu)}^2 \\quad $《表が出る回数》の偏差の2乗\n",
    "\n",
    "\n",
    "だから、${\\sigma}^2$を$\\sum$で書くと……\n",
    "\n",
    "$\n",
    "{\\sigma}^2 = \\sum_{k=0}^{10}\\underbrace{{(k - \\mu)}^2}_{偏差の2乗}P_k = \\sum_{k=0}^{10}{(k - 5)}^2P_k\n",
    "$\n",
    "\n",
    "\n",
    "《分散》 = 《2乗の平均》 - 《平均の2乗》<br />\n",
    "期待値を用いると、<br />\n",
    "《分散》 = 《2乗の期待値》 - 《期待値の2乗》\n",
    "期待値 = $\\mu$だから、分散${\\sigma}^2$は、<br />\n",
    "\n",
    "$\n",
    "{\\sigma}^2 = 《2乗の期待値》 - 《期待値の2乗》\n",
    "\\\\ = \\sum_{k=0}^{10}k^2P_k - {\\mu}^2\n",
    "\\\\ = \\sum_{k=0}^{10}k^2P_k - 25 \\quad {\\mu}^2 = 5^2 = 25より\n",
    "$"
   ]
  },
  {
   "cell_type": "markdown",
   "metadata": {},
   "source": [
    "#### テトラの計算\n",
    "$\n",
    "{\\sigma}^2 = 《2乗の期待値》 - 《期待値の2乗》\n",
    "\\\\ = \\sum_{k=0}^{10}k^2P_k - 25\n",
    "\\\\ = 0^2P_0 + 1^2P_1 + 2^2P_2 + \\dots + 10^2P_10 - 25\n",
    "\\\\ = \\frac{1}{2^{10}}\\left( 0^2 \\cdot 1 + 1^2 \\cdot 10 + 2^2 \\cdot 45 + 3^2 \\cdot 120 + 4^2 \\cdot 210 + 5^2 \\cdot 252 + 6^2 \\cdot 210 + 7^2 \\cdot 120 + 8^2 \\cdot 45 + 9^2 \\cdot 10 + 10^2 \\cdot 1 \\right) - 25\n",
    "\\\\ = \\frac{1}{2^{10}}\\left\\{ \\left(0 + 100 \\right) \\cdot 1 + \\left(1 + 81 \\right) \\cdot 10 + \\left(4 + 64 \\right) \\cdot 45 + \\left(9 + 49 \\right) \\cdot 120 + \\left(16 + 36 \\right) \\cdot 210 + 25 \\cdot 252 \\right\\} - 25\n",
    "\\\\ = \\frac{1}{2^{10}}(100 \\cdot 1 + 82 \\cdot 10 + 68 \\cdot 45 + 58 \\cdot 120 + 52v \\cdot 210 + 25 \\cdot 252 ) - 25\n",
    "\\\\ = \\frac{1}{2^{10}}(100 + 820 + 3060 + 6960 + 10920 + 6300) - 25\n",
    "\\\\ = \\frac{28160}{2^{10}} - 25\n",
    "\\\\ = \\frac{28160}{1024} - 25\n",
    "\\\\ = 27.5 = 25\n",
    "\\\\ = 2.5\n",
    "\\\\\n",
    "\\therefore 分散{\\sigma}^2 = 2.5\n",
    "\\\\\n",
    "\\therefore 標準偏差\\sigma = \\sqrt{2.5} = 1.5と1.6の間\n",
    "$"
   ]
  },
  {
   "cell_type": "markdown",
   "metadata": {},
   "source": [
    "### 解答3（標準偏差$\\sigma$を求める）\n",
    "コインを$10$回投げるとき、《表が出る回数》の標準偏差を$\\sigma$とすると、<br />\n",
    "$\\sigma = \\sqrt{2.5}$<br />\n",
    "である$（1.5 < \\sigma < 1.6)\\,\\,$。"
   ]
  },
  {
   "cell_type": "markdown",
   "metadata": {},
   "source": [
    "### コインを$10$回投げたときの《表が出る回数》に関する驚きの度合い\n",
    "1. $\\sigma = \\sqrt{2.5}$だから、約$1.5$と考える。\n",
    "1. $\\mu - \\sigma\\,$、$\\mu + \\sigma\\,$はそれぞれ約$3.5\\,$と約$6.5\\,$になる。\n",
    "1. だから、《コインを$10$回投げたとき、表は$3.5～6.5$回ほど出るんだろうな》と分かる。\n",
    "1. [表が出る回数のグラフ](#%E3%80%8A%E8%A1%A8%E3%81%8C%E5%87%BA%E3%82%8B%E5%9B%9E%E6%95%B0%E3%81%AE%E3%82%B0%E3%83%A9%E3%83%95%E3%80%8B)から、表が4～6回出る場合の数$P_4～P_6$が分かるので計算すると……\n",
    "  - $P_4 + P_5 + P_6 = \\frac{《表が4～6回出る場合の数》}{《すべての場合の数》} \\\\ = \\frac{\\binom{10}{4} + \\binom{10}{5} + \\binom{10}{6}}{2^{10}} \\\\ = \\frac{210 + 252 + 210}{1024} \\\\ = \\frac{672}{1024} \\\\ = 0.65625$<br />$\\therefore\\,$コインを$10$回なげるとき《表が$4～6$回の範囲で出る》と言っておけば、おおよそ$65.6\\%$で当たることになりそうだ。"
   ]
  },
  {
   "cell_type": "markdown",
   "metadata": {},
   "source": [
    "## 第4章の問題"
   ]
  },
  {
   "cell_type": "markdown",
   "metadata": {},
   "source": [
    "### 問題4-1（期待値と標準偏差の計算）\n",
    "サイコロを1回投げると、<br />\n",
    "$1, 2, 3, 4, 5, 6$<br />\n",
    "の6通りの目が出ます。サイコロを1回投げた時に出る目の期待値と標準偏差を求めてください。ただし、どの目が出る確率も$\\frac{1}{6}$であると仮定します。"
   ]
  },
  {
   "cell_type": "markdown",
   "metadata": {},
   "source": [
    "### 解答4-1\n",
    "期待値$P_x$について、期待値 = 平均であり、場合の数が$1～6$、試行回数が$1$回、確率がすべて$\\frac{1}{6}$であるため、以下の通り計算する。<\n",
    "<br />\n",
    "$\n",
    "P_x = 1 \\cdot \\frac{1}{6} + 2 \\cdot \\frac{1}{6} + 3 \\cdot \\frac{1}{6} + 4 \\cdot \\frac{1}{6} + 5 \\cdot \\frac{1}{6} + 6 \\cdot \\frac{1}{6}\n",
    "\\\\ = \\frac{1}{6} \\cdot \\left( 1 + 2 + 3 + 4 + 5 + 6 \\right)\n",
    "\\\\ = \\frac{21}{6}\n",
    "\\\\ = \\frac{7}{2}\n",
    "\\\\ = 3.5\n",
    "$<br />\n",
    "また標準偏差$\\sigma$について、はじめに分散${\\sigma}^2$を求める。<br />\n",
    "${\\sigma}^2 = 《2乗の平均》 - 《平均の2乗》$より、<br />\n",
    "$\n",
    "{\\sigma}^2 = \\sum_{k=1}^{6}k^2P_k - {\\mu}^2\n",
    "\\\\ = \\sum_{k=1}^{6}k^2P_k - {\\frac{21}{6}}^2\n",
    "\\\\ = (1^2P_1 + 2^2P_2 + 3^2P_3 + \\dots + 6^2P_6) - {(\\frac{21}{6})}^2\n",
    "\\\\ = \\frac{1}{6}(1^2 \\cdot 1 + 2^2 \\cdot 1 + 3^2 \\cdot 1 + 4^2 \\cdot 1 + 5^2 \\cdot 1 + 6^2 \\cdot 1) - {(\\frac{21}{6})}^2\n",
    "\\\\ = \\frac{1}{6}(1 + 4 + 9 + 16 + 25 + 36) - {(\\frac{21}{6})}^2\n",
    "\\\\ = \\frac{91}{6} - \\frac{{21}^2}{6^2}\n",
    "\\\\ = \\frac{91 \\times 6}{6^2} - \\frac{{21}^2}{6^2}\n",
    "\\\\ = \\frac{91 \\times 6 - {21}^2}{6^2}\n",
    "\\\\ = \\frac{546 - 441}{36}\n",
    "\\\\ = \\frac{105}{36}\n",
    "\\\\ = \\frac{35}{12}\n",
    "\\\\ \\therefore \\sigma = \\sqrt{\\frac{35}{12}}\n",
    "$\n",
    "<br />\n",
    "<br />\n",
    "$\\therefore\\,$期待値は$3.5$、標準偏差は$\\sqrt{\\frac{35}{12}}$"
   ]
  },
  {
   "cell_type": "markdown",
   "metadata": {},
   "source": [
    "### 問題4-2（サイコロゲーム）\n",
    "サイコロを投げて点数を得る一人ゲームをします。ゲームを1度プレイした時に得られる点数の期待値を、ゲーム1.とゲーム2.のそれぞれについて求めてください。\n",
    "1. サイコロを$2$回投げて、出た目の積が点数になる。（$3$と$5$が出たら、$3 \\times 5 = 15$が点数）\n",
    "1. サイコロを$1$回投げて、出た目の2乗が点数になる。（$4$がでたら、$4^2 = 16$が点数）"
   ]
  },
  {
   "cell_type": "markdown",
   "metadata": {},
   "source": [
    "## 解答4-2\n",
    "1. 場合の数は$6^2 = 36$通り。横を1回目の目、縦を2回目の目とすると以下のような表になる。\n",
    "\n",
    "| 　　 | 1  | 2  | 3  | 4  | 5  | 6  |\n",
    "| -- | -- | -- | -- | -- | -- | -- |\n",
    "| 1  | 1  | 2  | 3  | 4  | 5  | 6  |\n",
    "| 2  | 2  | 4  | 6  | 8  | 10 | 12 |\n",
    "| 3  | 3  | 6  | 9  | 12 | 15 | 18 |\n",
    "| 4  | 4  | 8  | 12 | 16 | 20 | 24 |\n",
    "| 5  | 5  | 10 | 15 | 20 | 25 | 30 |\n",
    "| 6  | 6  | 12 | 18 | 24 | 30 | 36 |\n",
    "\n",
    "確率は全てにおいて等しく${(\\frac{1}{6})}^2 = \\frac{1}{36}$なので、以下の通り計算できる。<br />\n",
    "$\n",
    "\\mu = \\frac{1}{36} \\cdot \n",
    "\\\\ \\left( 1 + 2 + 3 + 4 + 5 + 6\n",
    "\\\\ + 2 + 4 + 6 + 8 + 10 + 12\n",
    "\\\\ + 3 + 6 + 9 + 12 + 15 + 18\n",
    "\\\\ + 4 + 8 + 12 + 16 + 20 + 24\n",
    "\\\\ + 5 + 10 + 15 + 20 + 25 + 30\n",
    "\\\\ + 6 + 12 + 18 + 24 + 30 + 36 \\right)\n",
    "\\\\ = \\frac{1}{36} \\cdot \\left( 21 + 21 \\times 2 + 21 \\times 3 + 21 \\times 4 + 21 \\times 5 + 21 \\times 6 \\right)\n",
    "\\\\ = \\frac{1}{36} \\cdot 21 \\cdot \\left( 1 + 2 + 3 + 4 + 5 + 6 \\right)\n",
    "\\\\ = \\frac{1}{36} \\cdot 21 \\cdot 21\n",
    "\\\\ = \\frac{1}{36} \\cdot 441\n",
    "\\\\ = \\frac{441}{36}\n",
    "\\\\ = \\frac{49}{4}\n",
    "$<br />\n",
    "$\\therefore\\,$サイコロを2回投げて、出た目の積を点数とするときの期待値は$\\frac{49}{4}$\n",
    "\n",
    "2. 場合の数は$1～36$の$6$通り。確率は全てにおいて等しく$\\frac{1}{6}$なので、以下の通り計算できる。<br />\n",
    "$\n",
    "\\mu = \\frac{1}{6} \\cdot \\left( 1^2 + 2^2 + 3^2 + 4^2 + 5^2 + 6^2 \\right)\n",
    "\\\\ = \\frac{1}{6} \\cdot \\left( 1 + 4 + 9 + 16 + 25 + 36 \\right)\n",
    "\\\\ = \\frac{1}{6} \\cdot 91\n",
    "\\\\ = \\frac{91}{6}\n",
    "$<br />\n",
    "$\\therefore\\,$サイコロを1回投げて、出た目の2乗を点数とするときの期待値は$\\frac{91}{6}$"
   ]
  }
 ],
 "metadata": {
  "kernelspec": {
   "display_name": "Python 3",
   "language": "python",
   "name": "python3"
  },
  "language_info": {
   "codemirror_mode": {
    "name": "ipython",
    "version": 3
   },
   "file_extension": ".py",
   "mimetype": "text/x-python",
   "name": "python",
   "nbconvert_exporter": "python",
   "pygments_lexer": "ipython3",
   "version": "3.7.2"
  }
 },
 "nbformat": 4,
 "nbformat_minor": 2
}
