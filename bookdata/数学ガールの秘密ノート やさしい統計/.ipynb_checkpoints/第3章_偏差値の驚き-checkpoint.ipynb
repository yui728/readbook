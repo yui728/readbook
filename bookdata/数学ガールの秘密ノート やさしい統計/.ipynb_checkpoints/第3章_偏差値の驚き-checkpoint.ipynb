{
 "cells": [
  {
   "cell_type": "markdown",
   "metadata": {},
   "source": [
    "# 第3章 偏差値の驚き"
   ]
  },
  {
   "cell_type": "markdown",
   "metadata": {},
   "source": [
    "## 3.1 高校の図書室にて"
   ]
  },
  {
   "cell_type": "markdown",
   "metadata": {},
   "source": [
    "### 分散\n",
    "- 簡単に言えば、《散らばりの度合い》のこと"
   ]
  },
  {
   "cell_type": "markdown",
   "metadata": {},
   "source": [
    "**自分が納得出来ないところには、なにか大事なことが隠れている**"
   ]
  },
  {
   "cell_type": "markdown",
   "metadata": {},
   "source": [
    "## 3.2 平均と分散"
   ]
  },
  {
   "cell_type": "markdown",
   "metadata": {},
   "source": [
    "### 平均\n",
    "$n$個の**数値**があるとしよう。この$n$個の数値のまとまりを**データ**と呼ぶ。データに含まれている$n$個の数値を<br />\n",
    "$x_1,x_2,...,x_n$<br />\n",
    "と表すことにする。このとき、<br />\n",
    "$\\frac{x_1 + x_2 + ... + x_n}{n}$<br />\n",
    "を、このデータの**平均**と呼ぶ。"
   ]
  },
  {
   "cell_type": "markdown",
   "metadata": {},
   "source": [
    "### 分散\n",
    "データ$x_1,x_2,...,x_n$の平均を$μ$で表すことにする。<br />\n",
    "数値$x_1$と平均$μ$の差、すなわち<br />\n",
    "$x_1 - μ$<br />\n",
    "を、$x_1$の**偏差**と呼ぶ。$x_1$の偏差と同様に、$x_2$の偏差、$x_3$の偏差などをそれぞれ考える事ができる。<br />\n",
    "$x_1,x_2,...,x_n$の偏差をそれぞれ2乗した値の平均を**分散**と呼ぶ。すなわち分散は<br />\n",
    "$\\frac{{(x_1 - μ)}^2 + {(x_2 - μ)}^2 + ... + {(x_n - μ)}^2}{n}$<br />\n",
    "である・"
   ]
  },
  {
   "cell_type": "markdown",
   "metadata": {},
   "source": [
    "### 偏差\n",
    "- 平均からの《ずれ》を表す。<br />$ex.$ 数値$x_1$の偏差は、平均を$μ$とした時$x_1 - μ$で表す。\n",
    "- 偏差は正の数になることもあれば、負の数になることもあるし、0のこともある。<br />\n",
    "→偏差を2乗すれば、必ずその値は0以上になる。\n",
    "- 《偏差の2乗》は、数値ごとに、平均からの《ずれ》の大きさを表す。\n",
    "- 《偏差の2乗》の**平均** = 《分散》"
   ]
  },
  {
   "cell_type": "markdown",
   "metadata": {},
   "source": [
    "**数値、偏差、偏差の2乗は全て同じ個数**\n",
    "\n",
    "| 　 | 数値 | 偏差 | 偏差の2乗 |\n",
    "| -- | ---- | ---- | --------- |\n",
    "| 1  | $x_1$ | $x_1 - μ$ | ${(x_1 - μ)}^2$ |\n",
    "| 2  | $x_2$ | $x_2 - μ$ | ${(x_2 - μ)}^2$ |\n",
    "| 3  | $x_3$ | $x_3 - μ$ | ${(x_3 - μ)}^2$ |\n",
    "| $\\vdots$ | $\\vdots$ | $\\vdots$ | $\\vdots$ |\n",
    "| $n$  | $x_n$ | $x_n - μ$ | ${(x_n - μ)}^2$ |"
   ]
  },
  {
   "cell_type": "markdown",
   "metadata": {},
   "source": [
    "**平均は、たくさんの《数値》を平らに均した数**\n",
    "\n",
    "*数値*\n",
    "\n",
    "$x_1, x_2, ... , x_n$\n",
    "\n",
    "*平均*\n",
    "\n",
    "$\\frac{x_1 + x_2 + ... + x_n}{n}$"
   ]
  },
  {
   "cell_type": "markdown",
   "metadata": {},
   "source": [
    "**分散は、たくさんの《偏差の2乗》を平らに均した数**\n",
    "\n",
    "*偏差の2乗*\n",
    "\n",
    "${(x_1 - μ)}^2, {(x_2 - μ)}^2, ... , {(x_n - μ)}^2$\n",
    "\n",
    "*分散*\n",
    "\n",
    "$\\frac{{(x_1 - μ)}^2 + {(x_2 - μ)}^2 + ... + {(x_n - μ)}^2}{n}$"
   ]
  },
  {
   "cell_type": "markdown",
   "metadata": {},
   "source": [
    "平均と分散は、同じ計算をしている\n",
    "\n",
    "$d_k = {(x_k - μ)}^2$とする（$k = 1,2,...,n$）。\n",
    "\n",
    "$\\frac{x_1 + x_2 + ... + x_n}{n}$\n",
    "\n",
    "*平均*\n",
    "\n",
    "\n",
    "$\\frac{d_1 + d_2 + ... + d_n}{n}$\n",
    "\n",
    "*分散*\n"
   ]
  },
  {
   "cell_type": "markdown",
   "metadata": {},
   "source": [
    "## 3.3 数式"
   ]
  },
  {
   "cell_type": "markdown",
   "metadata": {},
   "source": [
    "### ${(a - b)}^2$を展開する\n",
    "\n",
    "${(a - b)}^2 \\\\ = a^2 - 2ab + b^2$"
   ]
  },
  {
   "cell_type": "markdown",
   "metadata": {},
   "source": [
    "### 数式$(♡)$を展開する\n",
    "\n",
    "$(♡)\\quad\\frac{{(a - \\frac{a + b}{2})}^2 + {(b - \\frac{a + b}{2})}^2}{2}$\n",
    "\n",
    "\n",
    "*与えられた数式(♡)*\n",
    "\n",
    "$\\frac{{(a - \\frac{a + b}{2})}^2 + {(b - \\frac{a + b}{2})}^2}{2}$\n",
    "\n",
    "\n",
    "\n",
    "*通分した*\n",
    "\n",
    "$= \\frac{{(\\frac{2a}{2} - \\frac{a + b}{2})}^2 + {(\\frac{2b}{2} - \\frac{a + b}{2})}^2}{2}$\n",
    "\n",
    "\n",
    "\n",
    "*分子を計算した*\n",
    "\n",
    "$= \\frac{{(\\frac{a - b}{2})}^2 + {(\\frac{-a + b}{2})}^2}{2}$\n",
    "\n",
    "\n",
    "\n",
    "*${(-a + b)}^2 = {(a - b)}^2$だから*\n",
    "\n",
    "$= \\frac{{(\\frac{a - b}{2})}^2 + {(\\frac{a - b}{2})}^2}{2}$\n",
    "\n",
    "\n",
    "\n",
    "*分子を計算した*\n",
    "\n",
    "$= \\frac{2{(\\frac{a - b}{2})}^2)}{2}$\n",
    "\n",
    "\n",
    "\n",
    "*2で約分した*\n",
    "\n",
    "$= {(\\frac{a - b}{2})}^2$\n",
    "\n",
    "\n",
    "\n",
    "*展開した*\n",
    "\n",
    "$= (\\frac{a^2 - 2ab + b^2}{4})$\n",
    "\n",
    "\n",
    "$（♡の展開）\\quad\\frac{{(a - \\frac{a + b}{2})}^2 + {(b - \\frac{a + b}{2})}^2}{2} = \\frac{a^2 - 2ab + b^2}{4}$"
   ]
  },
  {
   "cell_type": "markdown",
   "metadata": {},
   "source": [
    "### 数式(♣)を展開する\n",
    "\n",
    "$(♣)\\quad\\frac{a^2 + b^2}{2} - {(\\frac{a + b}{2})}^2$\n",
    "\n",
    "\n",
    "*与えられた数式*\n",
    "\n",
    "$\\frac{a^2 + b^2}{2} - {(\\frac{a + b}{2})}^2$\n",
    "\n",
    "\n",
    "*展開した*\n",
    "\n",
    "$= \\frac{a^2 + b^2}{2} - \\frac{a^2 -2ab - b^2}{4}$\n",
    "\n",
    "\n",
    "*通分した*\n",
    "\n",
    "$= \\frac{2a^2 + 2b^2}{4} - \\frac{a^2 -2ab - b^2}{4}$\n",
    "\n",
    "\n",
    "*あれれ？*\n",
    "\n",
    "$= \\frac{a^2 -2ab - b^2}{4}$"
   ]
  },
  {
   "cell_type": "markdown",
   "metadata": {},
   "source": [
    "### (♡)と(♣)の展開\n",
    "(♡の展開) $\\quad\\frac{{(a - \\frac{a + b}{2})}^2 + {(b - \\frac{a + b}{2})}^2}{2} = \\frac{a^2 - 2ab + b^2}{4}$\n",
    "\n",
    "(♣の展開) $\\quad\\frac{a^2 + b^2}{2} - {(\\frac{a + b}{2})}^2 = \\frac{a^2 -2ab - b^2}{4}$\n",
    "\n",
    "$\\therefore\\quad(♡) \\quad\\frac{{(a - \\frac{a + b}{2})}^2 + {(b - \\frac{a + b}{2})}^2}{2} = (♣) \\quad\\frac{a^2 + b^2}{2} - {(\\frac{a + b}{2})}^2$\n",
    "\n",
    "\n",
    "*2つの式は**恒等式**である*"
   ]
  },
  {
   "cell_type": "markdown",
   "metadata": {},
   "source": [
    "### 問題1（謎の恒等式）\n",
    "a,bに関するこの恒等式は、何が面白いのだろうか。\n",
    "\n",
    "$\\frac{{(a - \\frac{a + b}{2})}^2 + {(b - \\frac{a + b}{2})}^2}{2} = \\frac{a^2 + b^2}{2} - {(\\frac{a + b}{2})}^2$"
   ]
  },
  {
   "cell_type": "markdown",
   "metadata": {},
   "source": [
    "$\\frac{a + b}{2}$を平均$μ$と見ると……\n",
    "\n",
    "$\\frac{{(a - μ)}^2 + {(b - μ)}^2}{2} = \\frac{a^2 + b^2}{2} - μ^2$\n",
    "\n",
    "$\\frac{{(a - μ)}^2 + {(b - μ)}^2}{2}$：$a$と$b$の分散\n",
    "\n",
    "$\\frac{a^2 + b^2}{2}$：$a^2$と$b^2$の平均\n",
    "\n",
    "$μ^2$：$a$と$b$の平均の2乗\n",
    "\n",
    "$\\therefore$ 《$a$と$b$の分散》 = 《$a^2$と$b^2$の平均》 - ${《aとbの平均》}^2$"
   ]
  },
  {
   "cell_type": "markdown",
   "metadata": {},
   "source": [
    "**一般化すると……**\n",
    "\n",
    "$《x_1,...,x_nの分散》 = 《{x^2}_1,...,{x^2}_nの平均》 - {《x_1,...,x_nの平均》}^2$ \n",
    "\n",
    "\n",
    "**式に展開すると**\n",
    "\n",
    "$\\frac{{(x_1 - μ)}^2 + \\dots + {(x_n - μ)}^2}{n} = \\frac{{x^2}_1 + \\dots + {x^2}_n}{n} - {(\\frac{x_1 + \\dots + x_n}{n})}^2$\n",
    "\n",
    "\n",
    "**キャッチフレーズにすると……**\n",
    "\n",
    "《分散》 = 《2乗の平均》 - 《平均の2乗》"
   ]
  },
  {
   "cell_type": "markdown",
   "metadata": {},
   "source": [
    "### 解答1（謎の恒等式）\n",
    "a,bに関するこの恒等式\n",
    "\n",
    "$\\frac{{(a - \\frac{a + b}{2})}^2 + {(b - \\frac{a + b}{2})}^2}{2} = \\frac{a^2 + b^2}{2} - {(\\frac{a + b}{2})}^2$\n",
    "\n",
    "は、\n",
    "\n",
    "《分散》 = 《2乗の平均》 - 《平均の2乗》\n",
    "\n",
    "という式の一例になっている。"
   ]
  },
  {
   "cell_type": "markdown",
   "metadata": {},
   "source": [
    "## 3.4 分散の意味\n"
   ]
  },
  {
   "cell_type": "markdown",
   "metadata": {},
   "source": [
    "《散らばりの度合いの》意味？\n",
    "\n",
    "- 分散を知ることの意味\n",
    "- 分散を知ると何がうれしいか\n",
    "- 散らばりの度合いが大きいこと、小さいことをを論じることにどんな意味があるか"
   ]
  },
  {
   "cell_type": "markdown",
   "metadata": {},
   "source": [
    "### 分散から何がわかるか\n",
    "\n",
    "《驚きの度合い》、《珍しさの度合い》、《すごさの度合い》\n",
    "\n",
    "**分散を知っていれば、具体的な点数の《すごさの度合い》がわかる**"
   ]
  },
  {
   "cell_type": "markdown",
   "metadata": {},
   "source": [
    "#### 例：平均点が50点、自分の点数が100点の場合\n",
    "いずれも平均点が50点の以下の2つの場合について分散を考える。\n",
    "1. 10人受けて、5人が100点、残り5人が0点\n",
    "1. 10人受けて、1人が100点、1人が0点、残り8人が50点"
   ]
  },
  {
   "cell_type": "markdown",
   "metadata": {},
   "source": [
    "1. $\\frac{5 \\times {(50 - 100)}^2 + 5 \\times {(50 - 0)}^2}{10}  = \\frac{5 \\times {(-50)}^2 + 5 \\times {50}^2}{10} = \\frac{5 \\times 2500 + 5 \\times 2500}{10} = \\frac{12500 + 12500}{10} = \\frac{25000}{10} = 2500$\n",
    "1. $\\frac{{(50 - 100)}^2 + {(50 - 0)}^2 + {(50 - 50)}^2}{10} = \\frac{{(-50)}^2 + {50}^2 + 0^2}{10} - {50}^2 = \\frac{2500 + 2500 + 0}{10} = \\frac{5000}{10} = 500$"
   ]
  },
  {
   "cell_type": "markdown",
   "metadata": {},
   "source": [
    "## 3.5 偏差値"
   ]
  },
  {
   "cell_type": "markdown",
   "metadata": {},
   "source": [
    "### 偏差値の定義\n",
    "\n",
    "あるテストを受けた人が$n$人いて、それぞれの点数を$x_1,x_2,...,x_n$と表すことにする。<br />\n",
    "点数の平均を$μ$とする。<br />\n",
    "点数の標準偏差を$σ$とする。<br />\n",
    "その時、そのテストにおける点数$x_k$の**偏差値**を<br />\n",
    "$50 + 10 \\times \\frac{x_k - μ}{σ}$<br />\n",
    "と定義する。なお、$σ = 0$のbな藍には偏差値を50と定義する。"
   ]
  },
  {
   "cell_type": "markdown",
   "metadata": {},
   "source": [
    "### 標準偏差\n",
    "- 分散のルートを取ったもののうち、負でないほうのもの<br />分散を$ν$とすると、標準偏差$σ$は$σ = \\sqrt{ν}$となる。"
   ]
  },
  {
   "cell_type": "markdown",
   "metadata": {},
   "source": [
    "### [平均の定義](#平均)"
   ]
  },
  {
   "cell_type": "markdown",
   "metadata": {},
   "source": [
    "### [分散の定義](#分散)"
   ]
  },
  {
   "cell_type": "markdown",
   "metadata": {},
   "source": [
    "### 点数から偏差値まで"
   ]
  },
  {
   "cell_type": "markdown",
   "metadata": {},
   "source": [
    "#### 点数から、<u>平均</u>が計算できる\n",
    "\n",
    "$x_1,x_2,x_3,...,x_n\\quad→\\quadμ$\n",
    "\n",
    "\n",
    "#### 点数と平均から、<u>分散</u>が計算できる\n",
    "\n",
    "$x_1,x_2,x_3,...,x_n,μ\\quad→\\quadν$\n",
    "\n",
    "#### 分散から、<u>標準偏差</u>が計算できる\n",
    "\n",
    "$ν\\quad→\\quadσ$\n",
    "\n",
    "#### 点数$x_k$と平均と標準偏差から、<u>$x_k$の偏差値</u>が計算できる\n",
    "\n",
    "$x_k,μ,σ\\quad→\\quad x_kの偏差値$"
   ]
  },
  {
   "cell_type": "markdown",
   "metadata": {},
   "source": [
    "#### 偏差値だけでは測れないとき\n",
    "- テストA、テストBで偏差値が同じだが、自分以外の受験者ががらっと入れ替わった時\n",
    "- 偏差値をもとにして自分の順位を測るのは不確定\n",
    "  - 点数の分布が正規分布に近似するとは限らない"
   ]
  },
  {
   "cell_type": "markdown",
   "metadata": {},
   "source": [
    "## 3.6 偏差値の平均"
   ]
  },
  {
   "cell_type": "markdown",
   "metadata": {},
   "source": [
    "- 平均点をとった人の偏差値は必ず**50**になる\n",
    "- 偏差値の平均もまた、**50**になる"
   ]
  },
  {
   "cell_type": "markdown",
   "metadata": {},
   "source": [
    "### 問題2（偏差値の平均）\n",
    "\n",
    "あるテストを受けた人が$n$人いて、点数がそれぞれ$x_1,x_2,...,x_n$であるとする。<br />\n",
    "このテストにおける各人の偏差値を$y_1,y_2,...,y_n$としたとき、<br />\n",
    "$\\frac{y_1 + y_2 + \\dots + y_n}{n}$<br />\n",
    "を求めよ。"
   ]
  },
  {
   "cell_type": "markdown",
   "metadata": {},
   "source": [
    "##### テトラの解答\n",
    "\n",
    "$\\frac{y_1 + y_2 + \\dots + y_n}{n} = \\\\ \\frac{(50 + 10 \\times \\frac{x_1 - μ}{σ}) + うわわわ……}{n}$\n",
    "\n",
    "点数が$x_k$になっている$k$さんの偏差値$y_k$をまず書いてみる\n",
    "\n",
    "$y_k = 50 + 10 \\times \\frac{x_k - μ}{σ}\\quad x_kの偏差値$\n",
    "\n",
    "そして平均は$\\frac{x_1 + \\dots + x_n}{n}$ですので……\n",
    "\n",
    "$y_k = 50 + 10 \\times \\frac{x_k - \\frac{x_1 + x_2 + \\dots + x_n}{n}}{σ}$"
   ]
  },
  {
   "cell_type": "markdown",
   "metadata": {},
   "source": [
    "##### 僕の助言\n",
    "「平均を$μ$としておいたまま進み、$y_k$の和を求めたほうがいいんじゃないかな」\n",
    "\n",
    "$y_1 + y_2 + \\dots + y_n \\\\ = (50 + 10 \\times \\frac{x_1 - μ}{σ}) + (50 + 10 \\times \\frac{x_2 - μ}{σ}) + \\dots + (50 + 10 \\times \\frac{x_n - μ}{σ}) \\\\ = 50n + \\frac{10}{σ}  \\times ((x_1 - μ) + (x_2 - μ) + \\dots + (x_n - μ)) \\\\ = 50n + \\frac{10}{σ} \\times (x_1 + x_2 + \\dots + x_n - nμ)$\n",
    "\n",
    "$nμ = 《n倍した平均》 = x_1 + x_2 + \\dots + x_n$\n",
    "\n",
    "ということは……\n",
    "\n",
    "$y_1 + y_2 + \\dots + y_n \\\\ = (50 + 10 \\times \\frac{x_1 - μ}{σ}) + (50 + 10 \\times \\frac{x_2 - μ}{σ}) + \\dots + (50 + 10 \\times \\frac{x_n - μ}{σ}) \\\\ = 50n + \\frac{10}{σ} \\times (x_1 + x_2 + \\dots + x_n - nμ) \\\\ = 50n + \\frac{10}{σ} \\times (x_1 + x_2 + \\dots + x_n - (x_1 + x_2 + \\dots + x_n)) \\\\ = 50n + \\frac{10}{σ} \\times 0 \\\\ = 50n$\n",
    "\n",
    "$\\therefore y_1,...,y_n$の総和は$50n$なので、偏差値の平均は$50$"
   ]
  },
  {
   "cell_type": "markdown",
   "metadata": {},
   "source": [
    "##### 《偏差値》の定義の中に《偏差》が存在する\n",
    "\n",
    "$x_k$の偏差値 $= 50 + 10 \\times \\frac{x_k - μ}{σ}$\n",
    "\n",
    "$※ x_k - μ = x_k$の偏差"
   ]
  },
  {
   "cell_type": "markdown",
   "metadata": {},
   "source": [
    "### 解答2（偏差値の平均）\n",
    "あるテストを受けた人が$n$人いて、各人の偏差値が$y_1,y_2...,y_n$であるとき<br />\n",
    "$\\frac{y_1 + y_2 + \\dots + y_n}{n} = 50$<br />\n",
    "が成り立つ。"
   ]
  },
  {
   "cell_type": "markdown",
   "metadata": {},
   "source": [
    "## 3.7 偏差値の分散"
   ]
  },
  {
   "cell_type": "markdown",
   "metadata": {},
   "source": [
    "### 《偏差値の分散》はどうなる？"
   ]
  },
  {
   "cell_type": "markdown",
   "metadata": {},
   "source": [
    "### 問題3（偏差値の分散）\n",
    "あるテストを受けた人が$n$人いて、点数がそれぞれ$x_1,x_2,...,x_n$であるとする。<br />\n",
    "このテストにおける各人の偏差値を$y_1,y_2,...,y_n$としたとき、$y_1,y_1,...,y_n$の分散を求めよ。"
   ]
  },
  {
   "cell_type": "markdown",
   "metadata": {},
   "source": [
    "#### テトラの解答\n",
    "- 一人一人の偏差値は$y_1,y_2,...,y_n$、平均は$μ$\n",
    "- 分散は《数値から平均を引いて2乗した値》の平均\n",
    "\n",
    "\n",
    "$\\therefore$ 《偏差値の分散》 $= \\frac{{(y_1 - μ)}^2 + {(y_2 - μ)}^2 + \\dots + {(y_n - μ)}^2}{n}$\n",
    "\n",
    "- $μ$は**点数の平均**\n",
    "- $y_k$から引くのは、**偏差値の平均**<br />$\\therefore$ **50**を引く\n",
    "\n",
    "$\\therefore$ 《偏差値の分散》 $= \\frac{{(y_1 - 50)}^2 + {(y_2 - 50)}^2 + \\dots + {(y_n - 50)}^2}{n}$\n",
    "\n",
    "$y_1 - 50 = 10 \\times \\frac{x_1 - μ}{σ}$\n",
    "\n",
    "$\\therefore$ 《偏差値の分散》 $= \\frac{{(y_1 - 50)}^2 + {(y_2 - 50)}^2 + \\dots + {(y_n - 50)}^2}{n} \\\\ = \\frac{{(10 \\times \\frac{x_1 - μ}{σ})}^2 + {(10 \\times \\frac{x_2 - μ}{σ})}^2 + \\dots + {(10 \\times \\frac{x_n - μ}{σ})}^2}{n} \\\\ = \\frac{{10}^2}{nσ^2} \\times ({(x_1 - μ)}^2 + {(x_2 - μ)}^2 + \\dots + {(x_n - μ)}^2) \\\\ = \\dots$\n",
    "\n",
    "\n",
    "**僕の助言：「$n$はくくりださずに残しておいたほうがいい」**\n",
    "\n",
    "$\\therefore$ 《偏差値の分散》 $= \\frac{{(y_1 - 50)}^2 + {(y_2 - 50)}^2 + \\dots + {(y_n - 50)}^2}{n} \\\\ = \\frac{{(10 \\times \\frac{x_1 - μ}{σ})}^2 + {(10 \\times \\frac{x_2 - μ}{σ})}^2 + \\dots + {(10 \\times \\frac{x_n - μ}{σ})}^2}{n} \\\\ = \\frac{{10}^2}{σ^2} \\times \\frac{({(x_1 - μ)}^2 + {(x_2 - μ)}^2 + \\dots + {(x_n - μ)}^2)}{n} \\\\ = \\dots$\n",
    "\n",
    "\n",
    "$\\frac{({(x_1 - μ)}^2 + {(x_2 - μ)}^2 + \\dots + {(x_n - μ)}^2)}{n}$ = 分散$ν$\n",
    "\n",
    "$\\therefore$ 《偏差値の分散》 $= \\frac{{10}^2}{σ^2} \\times \\frac{({(x_1 - μ)}^2 + {(x_2 - μ)}^2 + \\dots + {(x_n - μ)}^2)}{n} \\\\ = \\frac{{10}^2}{σ^2} \\times ν$\n",
    "\n",
    "$σ$ = 標準偏差\n",
    "\n",
    "$\\therefore σ = \\sqrt{ν}, σ^2 = ν$\n",
    "\n",
    "$\\therefore$ 《偏差値の分散》 $= \\frac{{10}^2}{σ^2} \\times ν \\\\ = \\frac{{10}^2}{ν} \\times ν \\\\ = {10}^2 \\\\ = 100$"
   ]
  },
  {
   "cell_type": "markdown",
   "metadata": {},
   "source": [
    "### 解答3（偏差値の分散）\n",
    "あるテストを受けた人が$n$人いて、点数がそれぞれ$x_1,x_2,...,x_n$であるとする。<br />\n",
    "このテストにおける各人の偏差値を$y_1,y_2,...y_n$としたとき、$y_1y_2,...y_n$の分散は、<br />\n",
    "$100$<br />\n",
    "になる。"
   ]
  },
  {
   "cell_type": "markdown",
   "metadata": {},
   "source": [
    "### 偏差値の定義に出てくる2つの定数\n",
    "$50 + 10 \\times \\frac{x_k - μ}{σ}$\n",
    "\n",
    "- $50$：《偏差値の平均》\n",
    "- $10$：《偏差値の標準偏差》\n",
    "\n",
    "偏差値は、$x_1,x_2,...,x_n$がどんな値でも、\n",
    "- 《偏差値の平均》が$50$になるように\n",
    "- 《偏差値の標準偏差》$10$になるように\n",
    "\n",
    "定義されている。"
   ]
  },
  {
   "cell_type": "markdown",
   "metadata": {},
   "source": [
    "## 3.8 偏差値の意味"
   ]
  },
  {
   "cell_type": "markdown",
   "metadata": {},
   "source": [
    "### $y_k = 50 + 10 \\times \\frac{x_k - μ}{σ}$\n",
    "- $50 + \\dots$：偏差値の平均を50に揃えるため\n",
    "- $\\frac{x_k - μ}{σ}$：《標準偏差と比べたときの偏差の大きさ\n",
    "  - $x_k - μ$：$x_k$の偏差、$k$さんの点数が平均点よりもどれだけ良いか\n",
    "  - $σ$：$x_1,x_2,...x_n$の標準偏差、《$x_k$の偏差が標準偏差の何倍になるか》\n",
    "    - 分散$ν$：${(x_1 - μ)}^2,{(x_2 - μ)}^2,...,{(x_n - μ)}^2$の平均<br />$\\therefore$ 分散というのは、《偏差の2乗》の平均的な値を表す\n",
    "    - 標準偏差$σ$：分散$ν$のルートを取る<br />$\\therefore$ ある意味、《平均的な偏差》を表す"
   ]
  },
  {
   "cell_type": "markdown",
   "metadata": {},
   "source": [
    "ミルカ：「《すごい》と驚くなら、**平均と標準偏差の両方を確かめてから驚くべき**だ」\n",
    "\n",
    "\n",
    "データの分布が***正規分布で近似できる場合***という大前提が入るけど\n",
    "\n",
    "- 偏差値が$60$以上なら、上位約$16\\%$\n",
    "- 偏差値が$70$以上なら、上位約$2\\%$\n",
    "\n",
    "というくらいの《驚きの度合い》といえる。"
   ]
  },
  {
   "cell_type": "markdown",
   "metadata": {},
   "source": [
    "### 34,14,2\n",
    "*正規分布で近似できる分布に限る*が、グラフを標準偏差$σ$ごとに区切ると、およそ$34\\%,14\\%,2\\%$という割合になる。"
   ]
  },
  {
   "cell_type": "code",
   "execution_count": 1,
   "metadata": {},
   "outputs": [],
   "source": [
    "%matplotlib inline"
   ]
  },
  {
   "cell_type": "code",
   "execution_count": 12,
   "metadata": {},
   "outputs": [
    {
     "data": {
      "image/png": "[encoded data removed]",
      "text/plain": [
       "<Figure size 432x288 with 1 Axes>"
      ]
     },
     "metadata": {
      "needs_background": "light"
     },
     "output_type": "display_data"
    }
   ],
   "source": [
    "import matplotlib.pyplot as plt\n",
    "import numpy as np\n",
    "import matplotlib.ticker as ticker\n",
    "\n",
    "fig, ax = plt.subplots()\n",
    "\n",
    "# 正規分布のデータを生成\n",
    "x = np.random.normal(50, 10, 1000)\n",
    "\n",
    "# 標準偏差を取得\n",
    "std = np.std(x)\n",
    "# 平均値を取得\n",
    "avg = np.ma.average(x)\n",
    "# X軸の区切りを設定\n",
    "x_ticks = [(avg - (std * 2)), (avg - std), avg, (avg + std), (avg +(std * 2))]\n",
    "x_labels = ['μ - 2σ', 'μ - σ', 'μ', 'μ + σ', 'μ + 2σ']\n",
    "\n",
    "# ヒストグラムを表示\n",
    "ax.hist(x, bins=100)\n",
    "ax.set_xticks(x_ticks)\n",
    "ax.set_yticks([])\n",
    "ax.grid(None)\n",
    "ax.grid(True, axis='x', color='black', linewidth='1')\n",
    "ax.set_title('正規分布で近似できる分布')\n",
    "\n",
    "plt.show()"
   ]
  },
  {
   "cell_type": "markdown",
   "metadata": {},
   "source": [
    "## 　第３章の問題"
   ]
  },
  {
   "cell_type": "markdown",
   "metadata": {},
   "source": [
    "### 問題3-1（分散）\n",
    "$n$個の数値（$n_1, x_2, ..., x_n$）からなるデータがあるとします。このデータの分散が0になるのはどんなときですか。"
   ]
  },
  {
   "cell_type": "markdown",
   "metadata": {},
   "source": [
    "分散の公式$\\frac{{(x_1 - \\mu)}^2 + {(x_2 - \\mu)}^2 + \\dots + {(x_n - \\mu)}^2}{n}$より、$\\frac{1}{n} \\times ({(x_1 - \\mu)}^2 + {(x_2 - \\mu)}^2 + \\dots + {(x_n - \\mu)}^2)$が導き出される。<br />\n",
    "結果が0となるためには、$({(x_1 - \\mu)}^2 + {(x_2 - \\mu)}^2 + \\dots + {(x_n - \\mu)}^2) = 0$となればよい。<br />\n",
    "定義より、$0^2 = 0$となるため、$(x_1 - \\mu), (x_2 - \\mu), ..., (x_n - \\mu)$が全て0となれば良い。<br />\n",
    "$\\therefore$ $n$個の数値$x_1, x_2, ..., x_n$が全て同じ値の場合に分散が$0$となる。 "
   ]
  },
  {
   "cell_type": "markdown",
   "metadata": {},
   "source": [
    "### 問題3-2（偏差値）\n",
    "偏差値に関する1.～4.の問いに答えてください。\n",
    "\n",
    "1. 点数が平均点より高いとき、自分の偏差値は$50$より大きいといえるか。\n",
    "1. 偏差値が$100$を超えることはあるか。\n",
    "1. 全体の平均点と自分の点数さえ分かれば、自分の偏差値を計算できるか。\n",
    "1. 生徒$2$人の点数差が$3$点ならば、偏差値の差は$3$になるか。"
   ]
  },
  {
   "cell_type": "markdown",
   "metadata": {},
   "source": [
    "1. 偏差値は自分の点数が平均点から標準偏差の$x$倍離れているかを示す値<br />$\\therefore$ 点数が平均点より高ければ、偏差値は$50$を超える。\n",
    "1. 偏差値の定義$50 + 10 \\times \\frac{x_k - \\mu}{\\sigma}$より、偏差値が$100$を超えると仮定した時、$10 \\times \\frac{x_k - \\mu}{\\sigma} \\geqq 50 \\rightarrow \\frac{x_k - \\mu}{\\sigma} \\geqq 5 \\rightarrow \\frac{x_k - \\mu}{\\sigma} - 5 \\geqq 0$が成立すればよい。<br />$\\frac{x_k - \\mu}{\\sigma} - 5 \\rightarrow (\\frac{1}{\\sigma} \\times (x_k - \\mu)) - 5 \\rightarrow (x_k - \\mu) - 5\\sigma$より、<br />$x_k - \\mu \\geqq 5\\sigma \\rightarrow x_k \\geqq 5\\sigma - \\mu$、つまり$値$が$5 \\times 標準偏差 - 平均点$を超える値の場合は偏差値が100を超える。 <br />$\\therefore$ 偏差値を見る値が$(5 \\times \\sigma) - \\mu$を超える場合は偏差値が100を超えることがある。\n",
    "1. 自分の点数を$x$とおいたとき、偏差値の定義$50 + 10 \\times \\frac{x - \\mu}{\\sigma}$より、標準偏差$\\sigma$が必要である。<br />標準偏差$\\sigma = \\sqrt{\\nu}$より、分散$\\nu$が必要である。<br />分散$\\nu = \\frac{{(x_1 - \\mu)}^2 + {(x_2 - \\mu)}^2 + \\dots + {(x_n - \\mu)}^2}{n} = \\frac{{x_1}^2 + {x_2}^2 + \\dots + {x_n}^2}{n} + {\\mu}^2$より、分散$\\nu$を求めるためには、全ての点数のデータが必要である。<br />$\\therefore$ 全体の平均点と自分の点数から、自分の偏差値を計算することは出来ない。追加で標準偏差$\\sigma$または分散$\\nu$、もしくは全ての点数のデータ$x_1,x_2,...,x_n$とテストを受けた人数$n$が必要となる。\n",
    "1. 平均点を$\\mu$、2つの点数$A,B$をそれぞれ$a, a + 3$、標準偏差を$\\sigma$とおく。<br />偏差値の定義より、<br />$点数Aの偏差値 \\\\ =  50 + 10 \\times \\frac{a - \\mu}{\\sigma} \\\\ =  50 + 10 \\times \\frac{a - \\mu}{\\sigma} \\\\ = 50 + \\frac{10a - 10\\mu}{\\sigma}$<br />$点数Bの偏差値 \\\\ = 50 + 10 \\times \\frac{(a + 3) - \\mu}{\\sigma} \\\\ = 50 + 10 \\times \\frac{(a + 3) - \\mu}{\\sigma} \\\\ = 50 + \\frac{10(a + 3) - 10\\mu}{\\sigma}$<br />となる。<br />さらに<br />$点数A・Bの偏差値の差 \\\\ = (50 + \\frac{(10(a + 3) - 10\\mu)}{\\sigma}) - (50 + \\frac{10a - 10\\mu}{\\sigma}) \\\\ = (50 + \\frac{10a + 30 - 10\\mu}{\\sigma}) - (50 + \\frac{10a - 10\\mu}{\\sigma}) \\\\ = 50 + \\frac{10a + 30 - 10\\mu}{\\sigma} - 50\\ - \\frac{10a  - 10\\mu}{\\sigma} \\\\ = \\frac{10a + 30 - 10\\mu}{\\sigma} - \\frac{10a - 10\\mu}{\\sigma} \\\\ = \\frac{10a + 30 - 10\\mu -10a +10\\mu}{\\sigma} \\\\ = \\frac{30}{\\sigma}$<br />となる。<br />$\\therefore$ 生徒2人の点数差が3点の時、偏差値の差は$3$とは限らない。"
   ]
  },
  {
   "cell_type": "code",
   "execution_count": null,
   "metadata": {},
   "outputs": [],
   "source": []
  }
 ],
 "metadata": {
  "kernelspec": {
   "display_name": "Python 3",
   "language": "python",
   "name": "python3"
  },
  "language_info": {
   "codemirror_mode": {
    "name": "ipython",
    "version": 3
   },
   "file_extension": ".py",
   "mimetype": "text/x-python",
   "name": "python",
   "nbconvert_exporter": "python",
   "pygments_lexer": "ipython3",
   "version": "3.7.2"
  }
 },
 "nbformat": 4,
 "nbformat_minor": 2
}
