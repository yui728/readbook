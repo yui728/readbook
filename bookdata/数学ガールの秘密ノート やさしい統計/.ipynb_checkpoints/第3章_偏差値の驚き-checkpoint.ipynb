{
 "cells": [
  {
   "cell_type": "markdown",
   "metadata": {},
   "source": [
    "# 第3章 偏差値の驚き"
   ]
  },
  {
   "cell_type": "markdown",
   "metadata": {},
   "source": [
    "## 3.1 高校の図書室にて"
   ]
  },
  {
   "cell_type": "markdown",
   "metadata": {},
   "source": [
    "### 分散\n",
    "- 簡単に言えば、《散らばりの度合い》のこと"
   ]
  },
  {
   "cell_type": "markdown",
   "metadata": {},
   "source": [
    "**自分が納得出来ないところには、なにか大事なことが隠れている**"
   ]
  },
  {
   "cell_type": "markdown",
   "metadata": {},
   "source": [
    "## 3.2 平均と分散"
   ]
  },
  {
   "cell_type": "markdown",
   "metadata": {},
   "source": [
    "### 平均\n",
    "$n$個の**数値**があるとしよう。この$n$個の数値のまとまりを**データ**と呼ぶ。データに含まれている$n$個の数値を<br />\n",
    "$x_1,x_2,...,x_n$<br />\n",
    "と表すことにする。このとき、<br />\n",
    "$\\frac{x_1 + x_2 + ... + x_n}{n}$<br />\n",
    "を、このデータの**平均**と呼ぶ。"
   ]
  },
  {
   "cell_type": "markdown",
   "metadata": {},
   "source": [
    "### 分散\n",
    "データ$x_1,x_2,...,x_n$の平均を$μ$で表すことにする。<br />\n",
    "数値$x_1$と平均$μ$の差、すなわち<br />\n",
    "$x_1 - μ$<br />\n",
    "を、$x_1$の**偏差**と呼ぶ。$x_1$の偏差と同様に、$x_2$の偏差、$x_3$の偏差などをそれぞれ考える事ができる。<br />\n",
    "$x_1,x_2,...,x_n$の偏差をそれぞれ2乗した値の平均を**分散**と呼ぶ。すなわち分散は<br />\n",
    "$\\frac{{(x_1 - μ)}^2 + {(x_2 - μ)}^2 + ... + {(x_n - μ)}^2}{n}$<br />\n",
    "である・"
   ]
  },
  {
   "cell_type": "markdown",
   "metadata": {},
   "source": [
    "### 偏差\n",
    "- 平均からの《ずれ》を表す。<br />$ex.$ 数値$x_1$の偏差は、平均を$μ$とした時$x_1 - μ$で表す。\n",
    "- 偏差は正の数になることもあれば、負の数になることもあるし、0のこともある。<br />\n",
    "→偏差を2乗すれば、必ずその値は0以上になる。\n",
    "- 《偏差の2乗》は、数値ごとに、平均からの《ずれ》の大きさを表す。\n",
    "- 《偏差の2乗》の**平均** = 《分散》"
   ]
  },
  {
   "cell_type": "markdown",
   "metadata": {},
   "source": [
    "**数値、偏差、偏差の2乗は全て同じ個数**\n",
    "\n",
    "| 　 | 数値 | 偏差 | 偏差の2乗 |\n",
    "| -- | ---- | ---- | --------- |\n",
    "| 1  | $x_1$ | $x_1 - μ$ | ${(x_1 - μ)}^2$ |\n",
    "| 2  | $x_2$ | $x_2 - μ$ | ${(x_2 - μ)}^2$ |\n",
    "| 3  | $x_3$ | $x_3 - μ$ | ${(x_3 - μ)}^2$ |\n",
    "| $\\vdots$ | $\\vdots$ | $\\vdots$ | $\\vdots$ |\n",
    "| $n$  | $x_n$ | $x_n - μ$ | ${(x_n - μ)}^2$ |"
   ]
  },
  {
   "cell_type": "markdown",
   "metadata": {},
   "source": [
    "**平均は、たくさんの《数値》を平らに均した数**\n",
    "\n",
    "*数値*\n",
    "\n",
    "$x_1, x_2, ... , x_n$\n",
    "\n",
    "*平均*\n",
    "\n",
    "$\\frac{x_1 + x_2 + ... + x_n}{n}$"
   ]
  },
  {
   "cell_type": "markdown",
   "metadata": {},
   "source": [
    "**分散は、たくさんの《偏差の2乗》を平らに均した数**\n",
    "\n",
    "*偏差の2乗*\n",
    "\n",
    "${(x_1 - μ)}^2, {(x_2 - μ)}^2, ... , {(x_n - μ)}^2$\n",
    "\n",
    "*分散*\n",
    "\n",
    "$\\frac{{(x_1 - μ)}^2 + {(x_2 - μ)}^2 + ... + {(x_n - μ)}^2}{n}$"
   ]
  },
  {
   "cell_type": "markdown",
   "metadata": {},
   "source": [
    "平均と分散は、同じ計算をしている\n",
    "\n",
    "$d_k = {(x_k - μ)}^2$とする（$k = 1,2,...,n$）。\n",
    "\n",
    "$\\frac{x_1 + x_2 + ... + x_n}{n}$\n",
    "\n",
    "*平均*\n",
    "\n",
    "\n",
    "$\\frac{d_1 + d_2 + ... + d_n}{n}$\n",
    "\n",
    "*分散*\n"
   ]
  },
  {
   "cell_type": "markdown",
   "metadata": {},
   "source": [
    "## 3.3 数式"
   ]
  },
  {
   "cell_type": "markdown",
   "metadata": {},
   "source": [
    "### ${(a - b)}^2$を展開する\n",
    "\n",
    "${(a - b)}^2 \\\\ = a^2 - 2ab + b^2$"
   ]
  },
  {
   "cell_type": "markdown",
   "metadata": {},
   "source": [
    "### 数式$(♡)$を展開する\n",
    "\n",
    "$(♡)\\quad\\frac{{(a - \\frac{a + b}{2})}^2 + {(b - \\frac{a + b}{2})}^2}{2}$\n",
    "\n",
    "\n",
    "*与えられた数式(♡)*\n",
    "\n",
    "$\\frac{{(a - \\frac{a + b}{2})}^2 + {(b - \\frac{a + b}{2})}^2}{2}$\n",
    "\n",
    "\n",
    "\n",
    "*通分した*\n",
    "\n",
    "$= \\frac{{(\\frac{2a}{2} - \\frac{a + b}{2})}^2 + {(\\frac{2b}{2} - \\frac{a + b}{2})}^2}{2}$\n",
    "\n",
    "\n",
    "\n",
    "*分子を計算した*\n",
    "\n",
    "$= \\frac{{(\\frac{a - b}{2})}^2 + {(\\frac{-a + b}{2})}^2}{2}$\n",
    "\n",
    "\n",
    "\n",
    "*${(-a + b)}^2 = {(a - b)}^2$だから*\n",
    "\n",
    "$= \\frac{{(\\frac{a - b}{2})}^2 + {(\\frac{a - b}{2})}^2}{2}$\n",
    "\n",
    "\n",
    "\n",
    "*分子を計算した*\n",
    "\n",
    "$= \\frac{2{(\\frac{a - b}{2})}^2)}{2}$\n",
    "\n",
    "\n",
    "\n",
    "*2で約分した*\n",
    "\n",
    "$= {(\\frac{a - b}{2})}^2$\n",
    "\n",
    "\n",
    "\n",
    "*展開した*\n",
    "\n",
    "$= (\\frac{a^2 - 2ab + b^2}{4})$\n",
    "\n",
    "\n",
    "$（♡の展開）\\quad\\frac{{(a - \\frac{a + b}{2})}^2 + {(b - \\frac{a + b}{2})}^2}{2} = \\frac{a^2 - 2ab + b^2}{4}$"
   ]
  },
  {
   "cell_type": "markdown",
   "metadata": {},
   "source": [
    "### 数式(♣)を展開する\n",
    "\n",
    "$(♣)\\quad\\frac{a^2 + b^2}{2} - {(\\frac{a + b}{2})}^2$\n",
    "\n",
    "\n",
    "*与えられた数式*\n",
    "\n",
    "$\\frac{a^2 + b^2}{2} - {(\\frac{a + b}{2})}^2$\n",
    "\n",
    "\n",
    "*展開した*\n",
    "\n",
    "$= \\frac{a^2 + b^2}{2} - \\frac{a^2 -2ab - b^2}{4}$\n",
    "\n",
    "\n",
    "*通分した*\n",
    "\n",
    "$= \\frac{2a^2 + 2b^2}{4} - \\frac{a^2 -2ab - b^2}{4}$\n",
    "\n",
    "\n",
    "*あれれ？*\n",
    "\n",
    "$= \\frac{a^2 -2ab - b^2}{4}$"
   ]
  },
  {
   "cell_type": "markdown",
   "metadata": {},
   "source": [
    "### (♡)と(♣)の展開\n",
    "(♡の展開) $\\quad\\frac{{(a - \\frac{a + b}{2})}^2 + {(b - \\frac{a + b}{2})}^2}{2} = \\frac{a^2 - 2ab + b^2}{4}$\n",
    "\n",
    "(♣の展開) $\\quad\\frac{a^2 + b^2}{2} - {(\\frac{a + b}{2})}^2 = \\frac{a^2 -2ab - b^2}{4}$"
   ]
  },
  {
   "cell_type": "code",
   "execution_count": null,
   "metadata": {},
   "outputs": [],
   "source": []
  }
 ],
 "metadata": {
  "kernelspec": {
   "display_name": "Python 3",
   "language": "python",
   "name": "python3"
  },
  "language_info": {
   "codemirror_mode": {
    "name": "ipython",
    "version": 3
   },
   "file_extension": ".py",
   "mimetype": "text/x-python",
   "name": "python",
   "nbconvert_exporter": "python",
   "pygments_lexer": "ipython3",
   "version": "3.7.2"
  }
 },
 "nbformat": 4,
 "nbformat_minor": 2
}
